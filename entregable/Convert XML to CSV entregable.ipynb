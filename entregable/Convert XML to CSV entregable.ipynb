{
 "cells": [
  {
   "cell_type": "markdown",
   "metadata": {},
   "source": [
    "# Convert XML StackOverflow files to csv"
   ]
  },
  {
   "cell_type": "code",
   "execution_count": null,
   "metadata": {
    "collapsed": true
   },
   "outputs": [],
   "source": [
    "import findspark\n",
    "findspark.init()\n",
    "import pyspark\n",
    "from pyspark.sql import SQLContext\n",
    "sc = pyspark.SparkContext()\n",
    "sqlContext = SQLContext(sc)\n",
    "print(sc)\n",
    "print(sqlContext)"
   ]
  },
  {
   "cell_type": "code",
   "execution_count": null,
   "metadata": {
    "collapsed": true
   },
   "outputs": [],
   "source": [
    "#funtion for CSV conversion\n",
    "def line2csv(line,tags_list):\n",
    "    offset=0\n",
    "    result=\"\"\n",
    "    for i in tags_list:\n",
    "        val=\"\"\n",
    "        patt=i+\"=\"\n",
    "        ind=line.find(patt,offset)\n",
    "        if(ind==-1):\n",
    "            result+=','\n",
    "            continue\n",
    "        ind+=(len(i)+2)\n",
    "        val+='\\\"'\n",
    "        while(line[ind]!='\\\"'):\n",
    "            val+=line[ind]\n",
    "            ind+=1\n",
    "        val+='\\\"'\n",
    "        result+=val+','\n",
    "        offset=ind\n",
    "    return result[:-1]"
   ]
  },
  {
   "cell_type": "code",
   "execution_count": null,
   "metadata": {
    "collapsed": true
   },
   "outputs": [],
   "source": [
    "#FieldNames for Users\n",
    "fileName = '<file-path>/Users.xml'\n",
    "raw = (sc.textFile(fileName))\n",
    "#Removing top 2 lines form XML file,they didn't contain useful data\n",
    "headers = raw.take(2)\n",
    "UsersRDD = raw.filter(lambda x: x != headers)\n",
    "#FieldNames for Users\n",
    "tags_list=['Id','Reputation','CreationDate','DisplayName','LastAccessDate',\n",
    "           'WebsiteUrl','Location','AboutMe','Views','UpVotes','DownVotes',\n",
    "           'Age','AccountId']\n",
    "Users_csvRDD=UsersRDD.map(lambda x:line2csv(x,tags_list))\n",
    "#Folder path to save processed files\n",
    "targetFile = '<file-path>/users_csv'\n",
    "Users_csvRDD.coalesce(1).saveAsTextFile(targetFile)"
   ]
  },
  {
   "cell_type": "code",
   "execution_count": null,
   "metadata": {
    "collapsed": true
   },
   "outputs": [],
   "source": [
    "#FieldNames for Posts\n",
    "tags_list=['Id','PostTypeId','AcceptedAnswerId','ParentId','CreationDate',\n",
    "           'DeletionDte','Score','ViewCount','Body','OwnerUserId','OwnerDisplayName',\n",
    "           'LastEditorUserId','LastEditorDisplayName','LastEditDate','LastActivityDate',\n",
    "           'Title','Tags','AnswerCount','CommentCount','FavoriteCount','ClosedDate',\n",
    "           'CommunityOwnedDate']\n",
    "fileName = '<file-path>/Posts.xml'\n",
    "raw = (sc.textFile(fileName))\n",
    "#Removing top 2 lines form XML file,they didn't contain useful data\n",
    "headers = raw.take(2)\n",
    "PostsRDD = raw.filter(lambda x: x != headers)\n",
    "Posts_csvRDD=PostsRDD.map(lambda x:line2csv(x,tags_list))\n",
    "targetFile = '<file-path>/posts_csv'\n",
    "Posts_csvRDD.coalesce(1).saveAsTextFile(targetFile)"
   ]
  },
  {
   "cell_type": "code",
   "execution_count": null,
   "metadata": {
    "collapsed": true
   },
   "outputs": [],
   "source": [
    "#FieldNames for Badges\n",
    "tags_list=['Id','UserId','Name','Date','Class', 'TagBased']\n",
    "fileName = '<file-path>/Badges.xml'\n",
    "raw = (sc.textFile(fileName))\n",
    "#Removing top 2 lines form XML file,they didn't contain useful data\n",
    "headers = raw.take(2)\n",
    "BadgesRDD = raw.filter(lambda x: x != headers)\n",
    "Badges_csvRDD=BadgesRDD.map(lambda x:line2csv(x,tags_list))\n",
    "targetFile = '<file-path>/badges_csv'\n",
    "Posts_csvRDD.coalesce(1).saveAsTextFile(targetFile)"
   ]
  },
  {
   "cell_type": "code",
   "execution_count": null,
   "metadata": {
    "collapsed": true,
    "scrolled": true
   },
   "outputs": [],
   "source": [
    "#FieldNames for Comments\n",
    "tags_list=['Id','PostId','Score','Text','CreationDate', 'UserId']\n",
    "fileName = '<file-path>/Comments.xml'\n",
    "raw = (sc.textFile(fileName))\n",
    "#Removing top 2 lines form XML file,they didn't contain useful data\n",
    "headers = raw.take(2)\n",
    "CommentsRDD = raw.filter(lambda x: x != headers)\n",
    "Comments_csvRDD=CommentsRDD.map(lambda x:line2csv(x,tags_list))\n",
    "targetFile = '<file-path>/comments_csv'\n",
    "Comments_csvRDD.coalesce(1).saveAsTextFile(targetFile)"
   ]
  },
  {
   "cell_type": "code",
   "execution_count": null,
   "metadata": {
    "collapsed": true
   },
   "outputs": [],
   "source": [
    "#FieldNames for PostHistory\n",
    "tags_list=['Id','PostHistoryTypeId','Score','PostId','RevisionGUID', 'CreationDate', 'UserId', 'Text']\n",
    "fileName = '<file-path>/PostHistory.xml'\n",
    "raw = (sc.textFile(fileName))\n",
    "#Removing top 2 lines form XML file,they didn't contain useful data\n",
    "headers = raw.take(2)\n",
    "PostHistoryRDD = raw.filter(lambda x: x != headers)\n",
    "PostHistory_csvRDD=PostHistoryRDD.map(lambda x:line2csv(x,tags_list))\n",
    "targetFile = '<file-path>/posthistory_csv'\n",
    "PostHistory_csvRDD.coalesce(1).saveAsTextFile(targetFile)"
   ]
  },
  {
   "cell_type": "code",
   "execution_count": null,
   "metadata": {
    "collapsed": true
   },
   "outputs": [],
   "source": [
    "#FieldNames for PostLinks\n",
    "tags_list=['Id','CreationDate','PostId','RelatedPostId', 'LinkTypeId']\n",
    "fileName = '<file-path>/PostLinks.xml'\n",
    "raw = (sc.textFile(fileName))\n",
    "#Removing top 2 lines form XML file,they didn't contain useful data\n",
    "headers = raw.take(2)\n",
    "PostLinksRDD = raw.filter(lambda x: x != headers)\n",
    "PostLinks_csvRDD=PostLinksRDD.map(lambda x:line2csv(x,tags_list))\n",
    "targetFile = '<file-path>/postlinks_csv'\n",
    "PostLinks_csvRDD.coalesce(1).saveAsTextFile(targetFile)"
   ]
  },
  {
   "cell_type": "code",
   "execution_count": null,
   "metadata": {
    "collapsed": true
   },
   "outputs": [],
   "source": [
    "#FieldNames for Tags\n",
    "tags_list=['Id','TagName','Count','ExcerptPostId', 'WikiPostId']\n",
    "fileName = '<file-path>/Tags.xml'\n",
    "raw = (sc.textFile(fileName))\n",
    "#Removing top 2 lines form XML file,they didn't contain useful data\n",
    "headers = raw.take(2)\n",
    "TagsRDD = raw.filter(lambda x: x != headers)\n",
    "Tags_csvRDD=TagsRDD.map(lambda x:line2csv(x,tags_list))\n",
    "targetFile = '<file-path>/tags_csv'\n",
    "Tags_csvRDD.coalesce(1).saveAsTextFile(targetFile)"
   ]
  },
  {
   "cell_type": "code",
   "execution_count": null,
   "metadata": {
    "collapsed": true
   },
   "outputs": [],
   "source": [
    "#FieldNames for Tags\n",
    "tags_list=['Id','PostId','VoteTypeId','CreationDate']\n",
    "fileName = '<file-path>/Votes.xml'\n",
    "raw = (sc.textFile(fileName))\n",
    "#Removing top 2 lines form XML file,they didn't contain useful data\n",
    "headers = raw.take(2)\n",
    "VotesRDD = raw.filter(lambda x: x != headers)\n",
    "Votes_csvRDD=VotesRDD.map(lambda x:line2csv(x,tags_list))\n",
    "targetFile = '<file-path>/votes_csv'\n",
    "Votes_csvRDD.coalesce(1).saveAsTextFile(targetFile)"
   ]
  }
 ],
 "metadata": {
  "kernelspec": {
   "display_name": "Python 3",
   "language": "python",
   "name": "python3"
  },
  "language_info": {
   "codemirror_mode": {
    "name": "ipython",
    "version": 3
   },
   "file_extension": ".py",
   "mimetype": "text/x-python",
   "name": "python",
   "nbconvert_exporter": "python",
   "pygments_lexer": "ipython3",
   "version": "3.5.3"
  }
 },
 "nbformat": 4,
 "nbformat_minor": 2
}
