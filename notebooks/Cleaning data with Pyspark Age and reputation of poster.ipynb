{
 "cells": [
  {
   "cell_type": "markdown",
   "metadata": {},
   "source": [
    "# Cleaning data with PySpark"
   ]
  },
  {
   "cell_type": "markdown",
   "metadata": {},
   "source": [
    "## Start spark context"
   ]
  },
  {
   "cell_type": "code",
   "execution_count": 1,
   "metadata": {},
   "outputs": [
    {
     "name": "stdout",
     "output_type": "stream",
     "text": [
      "<pyspark.context.SparkContext object at 0x10a011320>\n",
      "<pyspark.sql.context.SQLContext object at 0x10a018e10>\n"
     ]
    }
   ],
   "source": [
    "import findspark\n",
    "findspark.init()\n",
    "import pyspark\n",
    "from pyspark.sql import SQLContext\n",
    "sc = pyspark.SparkContext()\n",
    "sqlContext = SQLContext(sc)\n",
    "print(sc)\n",
    "print(sqlContext)"
   ]
  },
  {
   "cell_type": "code",
   "execution_count": 2,
   "metadata": {
    "collapsed": true
   },
   "outputs": [],
   "source": [
    "from pyspark.sql import SparkSession\n",
    "from pyspark.sql import types as stypes\n",
    "from pyspark.sql.functions import udf\n",
    "spark = SparkSession \\\n",
    "    .builder \\\n",
    "    .appName(\"Python Spark SQL cleaning data\") \\\n",
    "    .config(\"spark.some.config.option\", \"some-value\") \\\n",
    "    .getOrCreate()"
   ]
  },
  {
   "cell_type": "code",
   "execution_count": 3,
   "metadata": {
    "collapsed": true
   },
   "outputs": [],
   "source": [
    "from datetime import datetime\n",
    "from datetime import date\n",
    "import matplotlib.pyplot as plt\n",
    "%matplotlib inline\n",
    "import numpy as np\n",
    "import scipy as scp\n",
    "import random\n",
    "random.seed()"
   ]
  },
  {
   "cell_type": "markdown",
   "metadata": {},
   "source": [
    "## Posts import"
   ]
  },
  {
   "cell_type": "code",
   "execution_count": 4,
   "metadata": {
    "collapsed": true
   },
   "outputs": [],
   "source": [
    "fields = [\n",
    "    stypes.StructField(\"Id\", stypes.IntegerType(), True),\\\n",
    "    stypes.StructField(\"PostTypeId\", stypes.IntegerType(), True),\\\n",
    "    stypes.StructField(\"AcceptedAnswerId\", stypes.IntegerType(), True),\\\n",
    "    stypes.StructField(\"ParentId\", stypes.IntegerType(), True),\\\n",
    "    stypes.StructField(\"CreationDate\", stypes.StringType(), True),\\\n",
    "    stypes.StructField(\"DeletionDate\", stypes.StringType(), True),\\\n",
    "    stypes.StructField(\"Score\", stypes.IntegerType(), True),\\\n",
    "    stypes.StructField(\"ViewCount\", stypes.IntegerType(), True),\\\n",
    "    stypes.StructField(\"Body\", stypes.StringType(), True),\\\n",
    "    stypes.StructField(\"OwnerUserId\", stypes.IntegerType(), True),\\\n",
    "    stypes.StructField(\"OwnerDisplayName\", stypes.StringType(), True),\\\n",
    "    stypes.StructField(\"LastEditorUserId\", stypes.IntegerType(), True),\\\n",
    "    stypes.StructField(\"LastEditorDisplayName\", stypes.StringType(), True),\\\n",
    "    stypes.StructField(\"LastEditDate\", stypes.StringType(), True),\\\n",
    "    stypes.StructField(\"LastActivityDate\", stypes.StringType(), True),\\\n",
    "    stypes.StructField(\"Title\", stypes.StringType(), True),\\\n",
    "    stypes.StructField(\"Tags\", stypes.StringType(), True),\\\n",
    "    stypes.StructField(\"AnswerCount\", stypes.IntegerType(), True),\\\n",
    "    stypes.StructField(\"CommentCount\", stypes.IntegerType(), True),\\\n",
    "    stypes.StructField(\"FavoriteCount\", stypes.IntegerType(), True),\\\n",
    "    stypes.StructField(\"ClosedDate\", stypes.StringType(), True),\\\n",
    "    stypes.StructField(\"CommunityOwnedDate\", stypes.StringType(), True)\n",
    "]\n",
    "customSchema = stypes.StructType(fields)\n",
    "posts = sqlContext.read\\\n",
    ".format('com.databricks.spark.csv')\\\n",
    ".load(\"file:///Users/Mat/Google_Drive/tfm/analysis/data/posts_csv\",\\\n",
    "      schema=customSchema)"
   ]
  },
  {
   "cell_type": "code",
   "execution_count": 5,
   "metadata": {
    "collapsed": true
   },
   "outputs": [],
   "source": [
    "#posts.toPandas()"
   ]
  },
  {
   "cell_type": "code",
   "execution_count": 6,
   "metadata": {
    "collapsed": true
   },
   "outputs": [],
   "source": [
    "reduced_posts = posts.drop('ParentId','Score','ViewCount','Body','OwnerDisplayName',\\\n",
    "                         'LastEditorUserId','LastEditorDisplayName','LastEditDate','LastActivityDate','AnswerCount',\\\n",
    "                         'CommentCount','FavoriteCount','CommunityOwnedDate','DeletionDate')"
   ]
  },
  {
   "cell_type": "code",
   "execution_count": 7,
   "metadata": {},
   "outputs": [],
   "source": [
    "#reduced_posts.describe().toPandas()"
   ]
  },
  {
   "cell_type": "markdown",
   "metadata": {},
   "source": [
    "## Questions import"
   ]
  },
  {
   "cell_type": "markdown",
   "metadata": {},
   "source": [
    "### UDF to transform questions columns"
   ]
  },
  {
   "cell_type": "code",
   "execution_count": 8,
   "metadata": {
    "collapsed": true
   },
   "outputs": [],
   "source": [
    "parse_time_udf = udf(lambda x: \\\n",
    "    float((datetime.strptime(x.split(\".\")[0], '%Y-%m-%dT%H:%M:%S') - datetime.min).total_seconds()),\\\n",
    "    stypes.FloatType()\n",
    ")\n",
    "\n",
    "parse_time_check_udf = udf(lambda x:\\\n",
    "    float((datetime.strptime(x.split(\".\")[0], '%Y-%m-%dT%H:%M:%S') - datetime.min).total_seconds())\\\n",
    "    if x is not None else None,\\\n",
    "    stypes.FloatType()\n",
    ")\n",
    "\n",
    "tag_counter_udf = udf(lambda x:\\\n",
    "    float(len([tag.split(\"&lt;\")[1] for tag in x.split(\"&gt;\")[0:-1]])),\\\n",
    "    stypes.FloatType()\n",
    ")\n",
    "\n",
    "title_length_udf = udf(lambda x:\\\n",
    "    float(len(x)),\\\n",
    "    stypes.FloatType()\n",
    ")"
   ]
  },
  {
   "cell_type": "code",
   "execution_count": 9,
   "metadata": {
    "collapsed": true
   },
   "outputs": [],
   "source": [
    "questions = reduced_posts.filter(reduced_posts.PostTypeId == 1)\\\n",
    ".drop(\"PostTypeId\")\n",
    "questions = questions.\\\n",
    "withColumn(\"ParsedCreationDate\", parse_time_udf(questions.CreationDate)).\\\n",
    "withColumn(\"ParsedClosedDate\", parse_time_check_udf(questions.ClosedDate)).\\\n",
    "withColumn(\"TagCount\", tag_counter_udf(questions.Tags)).\\\n",
    "withColumn(\"TitleLength\", title_length_udf(questions.Title)).\\\n",
    "withColumnRenamed(\"OwnerUserId\",\"PosterOwnerUserId\").\\\n",
    "drop(\"CreationDate\",\"ClosedDate\", \"Tags\", \"Title\")"
   ]
  },
  {
   "cell_type": "code",
   "execution_count": 10,
   "metadata": {
    "collapsed": true,
    "scrolled": true
   },
   "outputs": [],
   "source": [
    "#questions.toPandas()"
   ]
  },
  {
   "cell_type": "code",
   "execution_count": 11,
   "metadata": {
    "collapsed": true,
    "scrolled": false
   },
   "outputs": [],
   "source": [
    "#questions.describe().toPandas()"
   ]
  },
  {
   "cell_type": "code",
   "execution_count": 12,
   "metadata": {},
   "outputs": [
    {
     "name": "stdout",
     "output_type": "stream",
     "text": [
      "63430377472.0\n"
     ]
    }
   ],
   "source": [
    "min_time = questions.select(questions.ParsedCreationDate).rdd.min()[0]\n",
    "print(min_time)"
   ]
  },
  {
   "cell_type": "markdown",
   "metadata": {},
   "source": [
    "# Answers import"
   ]
  },
  {
   "cell_type": "code",
   "execution_count": 13,
   "metadata": {
    "collapsed": true
   },
   "outputs": [],
   "source": [
    "answers = reduced_posts.filter(reduced_posts.PostTypeId == 2)\\\n",
    ".drop(\"AcceptedAnswerId\", \"Title\", \"Tags\", \"ClosedDate\",\"PostTypeId\")\n",
    "answers = answers.withColumn(\"AnsParsedCreationDate\", parse_time_udf(answers.CreationDate)).drop(answers.CreationDate)"
   ]
  },
  {
   "cell_type": "code",
   "execution_count": 14,
   "metadata": {
    "collapsed": true
   },
   "outputs": [],
   "source": [
    "#answers.describe().toPandas()"
   ]
  },
  {
   "cell_type": "code",
   "execution_count": 15,
   "metadata": {
    "collapsed": true
   },
   "outputs": [],
   "source": [
    "answers.registerTempTable(\"answers\")\n",
    "questions.registerTempTable(\"questions\")"
   ]
  },
  {
   "cell_type": "code",
   "execution_count": 16,
   "metadata": {
    "collapsed": true
   },
   "outputs": [],
   "source": [
    "accepted_answers = sqlContext\\\n",
    ".sql(\"SELECT * FROM answers WHERE answers.Id IN (SELECT AcceptedAnswerId FROM questions)\")\\\n",
    "\n",
    "accepted_answers = accepted_answers\\\n",
    ".withColumnRenamed(\"Id\", \"AnswerId\")\\"
   ]
  },
  {
   "cell_type": "code",
   "execution_count": 17,
   "metadata": {
    "collapsed": true
   },
   "outputs": [],
   "source": [
    "#accepted_answers.toPandas()"
   ]
  },
  {
   "cell_type": "code",
   "execution_count": 18,
   "metadata": {},
   "outputs": [
    {
     "name": "stdout",
     "output_type": "stream",
     "text": [
      "63592824832.0\n"
     ]
    }
   ],
   "source": [
    "max_time = accepted_answers.select(accepted_answers.AnsParsedCreationDate).rdd.max()[0]\n",
    "print(max_time)"
   ]
  },
  {
   "cell_type": "markdown",
   "metadata": {},
   "source": [
    "## Users import"
   ]
  },
  {
   "cell_type": "code",
   "execution_count": 19,
   "metadata": {
    "collapsed": true
   },
   "outputs": [],
   "source": [
    "fields = [\n",
    "    stypes.StructField(\"Id\", stypes.IntegerType(), True),\\\n",
    "    stypes.StructField(\"Reputation\", stypes.FloatType(), True),\\\n",
    "    stypes.StructField(\"CreationDate\", stypes.StringType(), True),\\\n",
    "    stypes.StructField(\"DisplayName\", stypes.StringType(), True),\\\n",
    "    stypes.StructField(\"LastAccessDate\", stypes.StringType(), True),\\\n",
    "    stypes.StructField(\"WebsiteUrl\", stypes.StringType(), True),\\\n",
    "    stypes.StructField(\"Location\", stypes.StringType(), True),\\\n",
    "    stypes.StructField(\"AboutMe\", stypes.StringType(), True),\\\n",
    "    stypes.StructField(\"Views\", stypes.IntegerType(), True),\\\n",
    "    stypes.StructField(\"UpVotes\", stypes.IntegerType(), True),\\\n",
    "    stypes.StructField(\"DownVotes\", stypes.IntegerType(), True),\\\n",
    "    stypes.StructField(\"Age\", stypes.FloatType(), True),\\\n",
    "    stypes.StructField(\"AccountId\", stypes.IntegerType(), True),\\\n",
    "]\n",
    "customSchema = stypes.StructType(fields)\n",
    "users = sqlContext.read\\\n",
    ".format('com.databricks.spark.csv')\\\n",
    ".load(\"file:///Users/Mat/Google_Drive/tfm/analysis/data/users_csv/part-00000\",\\\n",
    "      schema=customSchema)\n",
    "users.describe().toPandas()\n",
    "users = users.drop(\"CreationDate\",\"DisplayName\",\"LastAccessDate\",\"WebsiteUrl\",\"Location\",\"AboutMe\",\"Views\",\"UpVotes\",\\\n",
    "                   \"DownVotes\",\"AccountId\")\n",
    "users = users.withColumnRenamed(\"Id\",\"UserId\").withColumnRenamed(\"Reputation\",\"UserReputation\")"
   ]
  },
  {
   "cell_type": "code",
   "execution_count": 20,
   "metadata": {},
   "outputs": [
    {
     "data": {
      "text/html": [
       "<div>\n",
       "<table border=\"1\" class=\"dataframe\">\n",
       "  <thead>\n",
       "    <tr style=\"text-align: right;\">\n",
       "      <th></th>\n",
       "      <th>summary</th>\n",
       "      <th>UserId</th>\n",
       "      <th>UserReputation</th>\n",
       "      <th>Age</th>\n",
       "    </tr>\n",
       "  </thead>\n",
       "  <tbody>\n",
       "    <tr>\n",
       "      <th>0</th>\n",
       "      <td>count</td>\n",
       "      <td>43360</td>\n",
       "      <td>43360</td>\n",
       "      <td>12901</td>\n",
       "    </tr>\n",
       "    <tr>\n",
       "      <th>1</th>\n",
       "      <td>mean</td>\n",
       "      <td>31417.359202029522</td>\n",
       "      <td>171.96042435424354</td>\n",
       "      <td>33.28548174560112</td>\n",
       "    </tr>\n",
       "    <tr>\n",
       "      <th>2</th>\n",
       "      <td>stddev</td>\n",
       "      <td>19202.403149027137</td>\n",
       "      <td>2012.982474680336</td>\n",
       "      <td>10.22403146691696</td>\n",
       "    </tr>\n",
       "    <tr>\n",
       "      <th>3</th>\n",
       "      <td>min</td>\n",
       "      <td>-1</td>\n",
       "      <td>1.0</td>\n",
       "      <td>14.0</td>\n",
       "    </tr>\n",
       "    <tr>\n",
       "      <th>4</th>\n",
       "      <td>max</td>\n",
       "      <td>62923</td>\n",
       "      <td>198942.0</td>\n",
       "      <td>96.0</td>\n",
       "    </tr>\n",
       "  </tbody>\n",
       "</table>\n",
       "</div>"
      ],
      "text/plain": [
       "  summary              UserId      UserReputation                Age\n",
       "0   count               43360               43360              12901\n",
       "1    mean  31417.359202029522  171.96042435424354  33.28548174560112\n",
       "2  stddev  19202.403149027137   2012.982474680336  10.22403146691696\n",
       "3     min                  -1                 1.0               14.0\n",
       "4     max               62923            198942.0               96.0"
      ]
     },
     "execution_count": 20,
     "metadata": {},
     "output_type": "execute_result"
    }
   ],
   "source": [
    "users.describe().toPandas()"
   ]
  },
  {
   "cell_type": "markdown",
   "metadata": {},
   "source": [
    "# Join for final dataframe"
   ]
  },
  {
   "cell_type": "markdown",
   "metadata": {},
   "source": [
    "### First join answers with users"
   ]
  },
  {
   "cell_type": "code",
   "execution_count": 21,
   "metadata": {
    "collapsed": true
   },
   "outputs": [],
   "source": [
    "questions_with_users = questions.join(users, questions.PosterOwnerUserId == users.UserId, \"left\").\\\n",
    "withColumnRenamed(\"Age\",\"PosterAge\").withColumnRenamed(\"UserReputation\",\"PosterReputation\").\\\n",
    "drop(\"PosterOwnerUserId\",\"UserId\")\n",
    "join_df = questions_with_users.join(accepted_answers, accepted_answers.AnswerId == questions.AcceptedAnswerId, 'full')\n",
    "join_df = join_df.join(users, join_df.OwnerUserId == users.UserId, \"left\").\\\n",
    "drop(\"AcceptedAnswerId\",\"UserId\",\"OwnerUserId\", \"AnswerId\", \"Id\")"
   ]
  },
  {
   "cell_type": "code",
   "execution_count": 22,
   "metadata": {
    "collapsed": true
   },
   "outputs": [],
   "source": [
    "#join_df.toPandas()"
   ]
  },
  {
   "cell_type": "code",
   "execution_count": 23,
   "metadata": {},
   "outputs": [
    {
     "data": {
      "text/html": [
       "<div>\n",
       "<table border=\"1\" class=\"dataframe\">\n",
       "  <thead>\n",
       "    <tr style=\"text-align: right;\">\n",
       "      <th></th>\n",
       "      <th>summary</th>\n",
       "      <th>ParsedCreationDate</th>\n",
       "      <th>ParsedClosedDate</th>\n",
       "      <th>TagCount</th>\n",
       "      <th>TitleLength</th>\n",
       "      <th>PosterReputation</th>\n",
       "      <th>PosterAge</th>\n",
       "      <th>AnsParsedCreationDate</th>\n",
       "      <th>UserReputation</th>\n",
       "      <th>Age</th>\n",
       "    </tr>\n",
       "  </thead>\n",
       "  <tbody>\n",
       "    <tr>\n",
       "      <th>0</th>\n",
       "      <td>count</td>\n",
       "      <td>29301</td>\n",
       "      <td>2511</td>\n",
       "      <td>29301</td>\n",
       "      <td>29301</td>\n",
       "      <td>28727</td>\n",
       "      <td>12214</td>\n",
       "      <td>17917</td>\n",
       "      <td>17208</td>\n",
       "      <td>7763</td>\n",
       "    </tr>\n",
       "    <tr>\n",
       "      <th>1</th>\n",
       "      <td>mean</td>\n",
       "      <td>6.3530990516967476E10</td>\n",
       "      <td>6.35485619340693E10</td>\n",
       "      <td>2.0557660148117813</td>\n",
       "      <td>59.35329852223474</td>\n",
       "      <td>12918.052981515648</td>\n",
       "      <td>34.68536106107745</td>\n",
       "      <td>6.352499363107306E10</td>\n",
       "      <td>49932.78074151558</td>\n",
       "      <td>37.24591008630684</td>\n",
       "    </tr>\n",
       "    <tr>\n",
       "      <th>2</th>\n",
       "      <td>stddev</td>\n",
       "      <td>4.504117517012715E7</td>\n",
       "      <td>3.532019377350662E7</td>\n",
       "      <td>0.9919622077292334</td>\n",
       "      <td>22.55610271635549</td>\n",
       "      <td>33500.48405203392</td>\n",
       "      <td>11.211497949946038</td>\n",
       "      <td>4.6620306413311735E7</td>\n",
       "      <td>63437.14410370897</td>\n",
       "      <td>9.559868164116324</td>\n",
       "    </tr>\n",
       "    <tr>\n",
       "      <th>3</th>\n",
       "      <td>min</td>\n",
       "      <td>6.3430377E10</td>\n",
       "      <td>6.3431139E10</td>\n",
       "      <td>1.0</td>\n",
       "      <td>15.0</td>\n",
       "      <td>1.0</td>\n",
       "      <td>14.0</td>\n",
       "      <td>6.3430377E10</td>\n",
       "      <td>1.0</td>\n",
       "      <td>14.0</td>\n",
       "    </tr>\n",
       "    <tr>\n",
       "      <th>4</th>\n",
       "      <td>max</td>\n",
       "      <td>6.3592829E10</td>\n",
       "      <td>6.3592829E10</td>\n",
       "      <td>5.0</td>\n",
       "      <td>168.0</td>\n",
       "      <td>198942.0</td>\n",
       "      <td>96.0</td>\n",
       "      <td>6.3592825E10</td>\n",
       "      <td>198942.0</td>\n",
       "      <td>96.0</td>\n",
       "    </tr>\n",
       "  </tbody>\n",
       "</table>\n",
       "</div>"
      ],
      "text/plain": [
       "  summary     ParsedCreationDate     ParsedClosedDate            TagCount  \\\n",
       "0   count                  29301                 2511               29301   \n",
       "1    mean  6.3530990516967476E10  6.35485619340693E10  2.0557660148117813   \n",
       "2  stddev    4.504117517012715E7  3.532019377350662E7  0.9919622077292334   \n",
       "3     min           6.3430377E10         6.3431139E10                 1.0   \n",
       "4     max           6.3592829E10         6.3592829E10                 5.0   \n",
       "\n",
       "         TitleLength    PosterReputation           PosterAge  \\\n",
       "0              29301               28727               12214   \n",
       "1  59.35329852223474  12918.052981515648   34.68536106107745   \n",
       "2  22.55610271635549   33500.48405203392  11.211497949946038   \n",
       "3               15.0                 1.0                14.0   \n",
       "4              168.0            198942.0                96.0   \n",
       "\n",
       "  AnsParsedCreationDate     UserReputation                Age  \n",
       "0                 17917              17208               7763  \n",
       "1  6.352499363107306E10  49932.78074151558  37.24591008630684  \n",
       "2  4.6620306413311735E7  63437.14410370897  9.559868164116324  \n",
       "3          6.3430377E10                1.0               14.0  \n",
       "4          6.3592825E10           198942.0               96.0  "
      ]
     },
     "execution_count": 23,
     "metadata": {},
     "output_type": "execute_result"
    }
   ],
   "source": [
    "join_df.describe().toPandas()"
   ]
  },
  {
   "cell_type": "markdown",
   "metadata": {},
   "source": [
    "## Final formatting and adding censored variable and final time"
   ]
  },
  {
   "cell_type": "code",
   "execution_count": 24,
   "metadata": {
    "collapsed": true
   },
   "outputs": [],
   "source": [
    "def final_time(ParsedCreationDate, ParsedClosedDate, AnsParsedCreationDate):\n",
    "\n",
    "    if(AnsParsedCreationDate):\n",
    "        return AnsParsedCreationDate-ParsedCreationDate\n",
    "    elif(ParsedClosedDate):\n",
    "        return ParsedClosedDate-ParsedCreationDate\n",
    "    else:\n",
    "        return max_time-ParsedCreationDate\n",
    "\n",
    "final_time_udf = udf(final_time, stypes.FloatType())\n",
    "\n",
    "def censoring_status(ParsedCreationDate, ParsedClosedDate, AnsParsedCreationDate):\n",
    "    \n",
    "    if(AnsParsedCreationDate):\n",
    "        return float(1)\n",
    "    elif(ParsedClosedDate):\n",
    "        return float(0)\n",
    "    else:\n",
    "        return float(0)\n",
    "    \n",
    "censoring_status_udf = udf(censoring_status, stypes.FloatType())"
   ]
  },
  {
   "cell_type": "code",
   "execution_count": 25,
   "metadata": {
    "collapsed": true,
    "scrolled": false
   },
   "outputs": [],
   "source": [
    "final_df = join_df.\\\n",
    "withColumn(\"FinalTime\",\\\n",
    "final_time_udf(join_df.ParsedCreationDate, join_df.ParsedClosedDate, join_df.AnsParsedCreationDate)).\\\n",
    "withColumn(\"CensoringStatus\",\\\n",
    "censoring_status_udf(join_df.ParsedCreationDate, join_df.ParsedClosedDate, join_df.AnsParsedCreationDate)).\\\n",
    "drop(\"ParsedCreationDate\", \"ParsedClosedDate\", \"AnsParsedCreationDate\")"
   ]
  },
  {
   "cell_type": "code",
   "execution_count": 26,
   "metadata": {
    "scrolled": false
   },
   "outputs": [
    {
     "data": {
      "text/html": [
       "<div>\n",
       "<table border=\"1\" class=\"dataframe\">\n",
       "  <thead>\n",
       "    <tr style=\"text-align: right;\">\n",
       "      <th></th>\n",
       "      <th>summary</th>\n",
       "      <th>TagCount</th>\n",
       "      <th>TitleLength</th>\n",
       "      <th>PosterReputation</th>\n",
       "      <th>PosterAge</th>\n",
       "      <th>UserReputation</th>\n",
       "      <th>Age</th>\n",
       "      <th>FinalTime</th>\n",
       "      <th>CensoringStatus</th>\n",
       "    </tr>\n",
       "  </thead>\n",
       "  <tbody>\n",
       "    <tr>\n",
       "      <th>0</th>\n",
       "      <td>count</td>\n",
       "      <td>29301</td>\n",
       "      <td>29301</td>\n",
       "      <td>28727</td>\n",
       "      <td>12214</td>\n",
       "      <td>17208</td>\n",
       "      <td>7763</td>\n",
       "      <td>29301</td>\n",
       "      <td>29301</td>\n",
       "    </tr>\n",
       "    <tr>\n",
       "      <th>1</th>\n",
       "      <td>mean</td>\n",
       "      <td>2.0557660148117813</td>\n",
       "      <td>59.35329852223474</td>\n",
       "      <td>12918.052981515648</td>\n",
       "      <td>34.68536106107745</td>\n",
       "      <td>49932.78074151558</td>\n",
       "      <td>37.24591008630684</td>\n",
       "      <td>1.7990164601617694E7</td>\n",
       "      <td>0.6114808368315074</td>\n",
       "    </tr>\n",
       "    <tr>\n",
       "      <th>2</th>\n",
       "      <td>stddev</td>\n",
       "      <td>0.9919622077292334</td>\n",
       "      <td>22.55610271635549</td>\n",
       "      <td>33500.48405203392</td>\n",
       "      <td>11.211497949946038</td>\n",
       "      <td>63437.14410370897</td>\n",
       "      <td>9.559868164116324</td>\n",
       "      <td>3.325815829370682E7</td>\n",
       "      <td>0.48742192326517086</td>\n",
       "    </tr>\n",
       "    <tr>\n",
       "      <th>3</th>\n",
       "      <td>min</td>\n",
       "      <td>1.0</td>\n",
       "      <td>15.0</td>\n",
       "      <td>1.0</td>\n",
       "      <td>14.0</td>\n",
       "      <td>1.0</td>\n",
       "      <td>14.0</td>\n",
       "      <td>-5.6172544E7</td>\n",
       "      <td>0.0</td>\n",
       "    </tr>\n",
       "    <tr>\n",
       "      <th>4</th>\n",
       "      <td>max</td>\n",
       "      <td>5.0</td>\n",
       "      <td>168.0</td>\n",
       "      <td>198942.0</td>\n",
       "      <td>96.0</td>\n",
       "      <td>198942.0</td>\n",
       "      <td>96.0</td>\n",
       "      <td>1.62443264E8</td>\n",
       "      <td>1.0</td>\n",
       "    </tr>\n",
       "  </tbody>\n",
       "</table>\n",
       "</div>"
      ],
      "text/plain": [
       "  summary            TagCount        TitleLength    PosterReputation  \\\n",
       "0   count               29301              29301               28727   \n",
       "1    mean  2.0557660148117813  59.35329852223474  12918.052981515648   \n",
       "2  stddev  0.9919622077292334  22.55610271635549   33500.48405203392   \n",
       "3     min                 1.0               15.0                 1.0   \n",
       "4     max                 5.0              168.0            198942.0   \n",
       "\n",
       "            PosterAge     UserReputation                Age  \\\n",
       "0               12214              17208               7763   \n",
       "1   34.68536106107745  49932.78074151558  37.24591008630684   \n",
       "2  11.211497949946038  63437.14410370897  9.559868164116324   \n",
       "3                14.0                1.0               14.0   \n",
       "4                96.0           198942.0               96.0   \n",
       "\n",
       "              FinalTime      CensoringStatus  \n",
       "0                 29301                29301  \n",
       "1  1.7990164601617694E7   0.6114808368315074  \n",
       "2   3.325815829370682E7  0.48742192326517086  \n",
       "3          -5.6172544E7                  0.0  \n",
       "4          1.62443264E8                  1.0  "
      ]
     },
     "execution_count": 26,
     "metadata": {},
     "output_type": "execute_result"
    }
   ],
   "source": [
    "final_df.describe().toPandas()"
   ]
  },
  {
   "cell_type": "markdown",
   "metadata": {},
   "source": [
    "\n",
    "## Filtering invalid results"
   ]
  },
  {
   "cell_type": "code",
   "execution_count": 27,
   "metadata": {
    "collapsed": true
   },
   "outputs": [],
   "source": [
    "final_filtered_df = final_df.filter(final_df.FinalTime > float(0))"
   ]
  },
  {
   "cell_type": "code",
   "execution_count": 28,
   "metadata": {
    "scrolled": false
   },
   "outputs": [
    {
     "data": {
      "text/html": [
       "<div>\n",
       "<table border=\"1\" class=\"dataframe\">\n",
       "  <thead>\n",
       "    <tr style=\"text-align: right;\">\n",
       "      <th></th>\n",
       "      <th>summary</th>\n",
       "      <th>TagCount</th>\n",
       "      <th>TitleLength</th>\n",
       "      <th>PosterReputation</th>\n",
       "      <th>PosterAge</th>\n",
       "      <th>UserReputation</th>\n",
       "      <th>Age</th>\n",
       "      <th>FinalTime</th>\n",
       "      <th>CensoringStatus</th>\n",
       "    </tr>\n",
       "  </thead>\n",
       "  <tbody>\n",
       "    <tr>\n",
       "      <th>0</th>\n",
       "      <td>count</td>\n",
       "      <td>24009</td>\n",
       "      <td>24009</td>\n",
       "      <td>23517</td>\n",
       "      <td>9683</td>\n",
       "      <td>12425</td>\n",
       "      <td>5554</td>\n",
       "      <td>24009</td>\n",
       "      <td>24009</td>\n",
       "    </tr>\n",
       "    <tr>\n",
       "      <th>1</th>\n",
       "      <td>mean</td>\n",
       "      <td>2.058894581198717</td>\n",
       "      <td>59.9233204215086</td>\n",
       "      <td>12649.858017604287</td>\n",
       "      <td>34.83228338324899</td>\n",
       "      <td>46809.372796780684</td>\n",
       "      <td>37.44382427079582</td>\n",
       "      <td>2.195890047365571E7</td>\n",
       "      <td>0.5387146486734141</td>\n",
       "    </tr>\n",
       "    <tr>\n",
       "      <th>2</th>\n",
       "      <td>stddev</td>\n",
       "      <td>0.9926152490165466</td>\n",
       "      <td>22.637822393134446</td>\n",
       "      <td>33794.18142702922</td>\n",
       "      <td>11.252678205914636</td>\n",
       "      <td>62553.06355062486</td>\n",
       "      <td>9.477650292365588</td>\n",
       "      <td>3.553240806671485E7</td>\n",
       "      <td>0.4985093045706418</td>\n",
       "    </tr>\n",
       "    <tr>\n",
       "      <th>3</th>\n",
       "      <td>min</td>\n",
       "      <td>1.0</td>\n",
       "      <td>15.0</td>\n",
       "      <td>1.0</td>\n",
       "      <td>14.0</td>\n",
       "      <td>1.0</td>\n",
       "      <td>14.0</td>\n",
       "      <td>4096.0</td>\n",
       "      <td>0.0</td>\n",
       "    </tr>\n",
       "    <tr>\n",
       "      <th>4</th>\n",
       "      <td>max</td>\n",
       "      <td>5.0</td>\n",
       "      <td>168.0</td>\n",
       "      <td>198942.0</td>\n",
       "      <td>96.0</td>\n",
       "      <td>198942.0</td>\n",
       "      <td>96.0</td>\n",
       "      <td>1.62443264E8</td>\n",
       "      <td>1.0</td>\n",
       "    </tr>\n",
       "  </tbody>\n",
       "</table>\n",
       "</div>"
      ],
      "text/plain": [
       "  summary            TagCount         TitleLength    PosterReputation  \\\n",
       "0   count               24009               24009               23517   \n",
       "1    mean   2.058894581198717    59.9233204215086  12649.858017604287   \n",
       "2  stddev  0.9926152490165466  22.637822393134446   33794.18142702922   \n",
       "3     min                 1.0                15.0                 1.0   \n",
       "4     max                 5.0               168.0            198942.0   \n",
       "\n",
       "            PosterAge      UserReputation                Age  \\\n",
       "0                9683               12425               5554   \n",
       "1   34.83228338324899  46809.372796780684  37.44382427079582   \n",
       "2  11.252678205914636   62553.06355062486  9.477650292365588   \n",
       "3                14.0                 1.0               14.0   \n",
       "4                96.0            198942.0               96.0   \n",
       "\n",
       "             FinalTime     CensoringStatus  \n",
       "0                24009               24009  \n",
       "1  2.195890047365571E7  0.5387146486734141  \n",
       "2  3.553240806671485E7  0.4985093045706418  \n",
       "3               4096.0                 0.0  \n",
       "4         1.62443264E8                 1.0  "
      ]
     },
     "execution_count": 28,
     "metadata": {},
     "output_type": "execute_result"
    }
   ],
   "source": [
    "final_filtered_df.describe().toPandas()"
   ]
  },
  {
   "cell_type": "code",
   "execution_count": 29,
   "metadata": {
    "collapsed": true
   },
   "outputs": [],
   "source": [
    "#final_filtered_df.select(\"FinalTime\",\"CensoringStatus\",\"TagCount\",\"TitleLength\",\"UserReputation\",\"Age\")\\\n",
    "#.toPandas().to_csv(\"/Users/Mat/Desktop/final_df\")"
   ]
  },
  {
   "cell_type": "code",
   "execution_count": 30,
   "metadata": {
    "collapsed": true,
    "scrolled": false
   },
   "outputs": [],
   "source": [
    "#final_filtered_df.select(\"FinalTime\",\"CensoringStatus\",\"TagCount\",\"TitleLength\",\"UserReputation\",\"Age\").\\\n",
    "#write.csv(\"/Users/Mat/Desktop/final_df_float\")"
   ]
  },
  {
   "cell_type": "markdown",
   "metadata": {},
   "source": [
    "## Dealing with missing values"
   ]
  },
  {
   "cell_type": "markdown",
   "metadata": {},
   "source": [
    "Age and UserReputation are data related to the user that posted the answer, and so there are a lot of missing values, as there are numerous not answered questions (censored data). Therefore these features are omited from the survival analysis"
   ]
  },
  {
   "cell_type": "code",
   "execution_count": 31,
   "metadata": {},
   "outputs": [
    {
     "data": {
      "text/html": [
       "<div>\n",
       "<table border=\"1\" class=\"dataframe\">\n",
       "  <thead>\n",
       "    <tr style=\"text-align: right;\">\n",
       "      <th></th>\n",
       "      <th>summary</th>\n",
       "      <th>TagCount</th>\n",
       "      <th>TitleLength</th>\n",
       "      <th>PosterReputation</th>\n",
       "      <th>PosterAge</th>\n",
       "      <th>FinalTime</th>\n",
       "      <th>CensoringStatus</th>\n",
       "    </tr>\n",
       "  </thead>\n",
       "  <tbody>\n",
       "    <tr>\n",
       "      <th>0</th>\n",
       "      <td>count</td>\n",
       "      <td>24009</td>\n",
       "      <td>24009</td>\n",
       "      <td>23517</td>\n",
       "      <td>9683</td>\n",
       "      <td>24009</td>\n",
       "      <td>24009</td>\n",
       "    </tr>\n",
       "    <tr>\n",
       "      <th>1</th>\n",
       "      <td>mean</td>\n",
       "      <td>2.058894581198717</td>\n",
       "      <td>59.9233204215086</td>\n",
       "      <td>12649.858017604287</td>\n",
       "      <td>34.83228338324899</td>\n",
       "      <td>2.195890047365571E7</td>\n",
       "      <td>0.5387146486734141</td>\n",
       "    </tr>\n",
       "    <tr>\n",
       "      <th>2</th>\n",
       "      <td>stddev</td>\n",
       "      <td>0.9926152490165466</td>\n",
       "      <td>22.637822393134446</td>\n",
       "      <td>33794.18142702922</td>\n",
       "      <td>11.252678205914636</td>\n",
       "      <td>3.553240806671485E7</td>\n",
       "      <td>0.4985093045706418</td>\n",
       "    </tr>\n",
       "    <tr>\n",
       "      <th>3</th>\n",
       "      <td>min</td>\n",
       "      <td>1.0</td>\n",
       "      <td>15.0</td>\n",
       "      <td>1.0</td>\n",
       "      <td>14.0</td>\n",
       "      <td>4096.0</td>\n",
       "      <td>0.0</td>\n",
       "    </tr>\n",
       "    <tr>\n",
       "      <th>4</th>\n",
       "      <td>max</td>\n",
       "      <td>5.0</td>\n",
       "      <td>168.0</td>\n",
       "      <td>198942.0</td>\n",
       "      <td>96.0</td>\n",
       "      <td>1.62443264E8</td>\n",
       "      <td>1.0</td>\n",
       "    </tr>\n",
       "  </tbody>\n",
       "</table>\n",
       "</div>"
      ],
      "text/plain": [
       "  summary            TagCount         TitleLength    PosterReputation  \\\n",
       "0   count               24009               24009               23517   \n",
       "1    mean   2.058894581198717    59.9233204215086  12649.858017604287   \n",
       "2  stddev  0.9926152490165466  22.637822393134446   33794.18142702922   \n",
       "3     min                 1.0                15.0                 1.0   \n",
       "4     max                 5.0               168.0            198942.0   \n",
       "\n",
       "            PosterAge            FinalTime     CensoringStatus  \n",
       "0                9683                24009               24009  \n",
       "1   34.83228338324899  2.195890047365571E7  0.5387146486734141  \n",
       "2  11.252678205914636  3.553240806671485E7  0.4985093045706418  \n",
       "3                14.0               4096.0                 0.0  \n",
       "4                96.0         1.62443264E8                 1.0  "
      ]
     },
     "execution_count": 31,
     "metadata": {},
     "output_type": "execute_result"
    }
   ],
   "source": [
    "final_reduced_df = final_filtered_df.drop(\"Age\",\"UserReputation\")\n",
    "final_reduced_df.describe().toPandas()"
   ]
  },
  {
   "cell_type": "markdown",
   "metadata": {},
   "source": [
    "### UDFs to fill NaNs"
   ]
  },
  {
   "cell_type": "markdown",
   "metadata": {},
   "source": [
    "### Poster Reputation\n",
    "The feature PosterReputation does not follow any specific distribution, so missing data is imputed randomly."
   ]
  },
  {
   "cell_type": "code",
   "execution_count": 225,
   "metadata": {},
   "outputs": [],
   "source": [
    "min_reputation = final_reduced_df.select(\"PosterReputation\").\\\n",
    "where(final_reduced_df.PosterReputation.isNotNull()).rdd.min()[0]\n",
    "max_reputation = final_reduced_df.select(\"PosterReputation\").\\\n",
    "where(final_reduced_df.PosterReputation.isNotNull()).rdd.max()[0]"
   ]
  },
  {
   "cell_type": "code",
   "execution_count": 226,
   "metadata": {
    "collapsed": true
   },
   "outputs": [],
   "source": [
    "final_red_pr_df = final_reduced_df.fillna(random.randint(min_reputation, max_reputation), subset=[\"PosterReputation\"])"
   ]
  },
  {
   "cell_type": "code",
   "execution_count": 227,
   "metadata": {
    "scrolled": true
   },
   "outputs": [
    {
     "data": {
      "text/html": [
       "<div>\n",
       "<table border=\"1\" class=\"dataframe\">\n",
       "  <thead>\n",
       "    <tr style=\"text-align: right;\">\n",
       "      <th></th>\n",
       "      <th>summary</th>\n",
       "      <th>TagCount</th>\n",
       "      <th>TitleLength</th>\n",
       "      <th>PosterReputation</th>\n",
       "      <th>PosterAge</th>\n",
       "      <th>FinalTime</th>\n",
       "      <th>CensoringStatus</th>\n",
       "    </tr>\n",
       "  </thead>\n",
       "  <tbody>\n",
       "    <tr>\n",
       "      <th>0</th>\n",
       "      <td>count</td>\n",
       "      <td>24009</td>\n",
       "      <td>24009</td>\n",
       "      <td>24009</td>\n",
       "      <td>9683</td>\n",
       "      <td>24009</td>\n",
       "      <td>24009</td>\n",
       "    </tr>\n",
       "    <tr>\n",
       "      <th>1</th>\n",
       "      <td>mean</td>\n",
       "      <td>2.058894581198717</td>\n",
       "      <td>59.9233204215086</td>\n",
       "      <td>12841.525552917656</td>\n",
       "      <td>34.83228338324899</td>\n",
       "      <td>2.195890047365571E7</td>\n",
       "      <td>0.5387146486734141</td>\n",
       "    </tr>\n",
       "    <tr>\n",
       "      <th>2</th>\n",
       "      <td>stddev</td>\n",
       "      <td>0.9926152490165466</td>\n",
       "      <td>22.637822393134446</td>\n",
       "      <td>33472.355351248756</td>\n",
       "      <td>11.252678205914636</td>\n",
       "      <td>3.553240806671485E7</td>\n",
       "      <td>0.4985093045706418</td>\n",
       "    </tr>\n",
       "    <tr>\n",
       "      <th>3</th>\n",
       "      <td>min</td>\n",
       "      <td>1.0</td>\n",
       "      <td>15.0</td>\n",
       "      <td>1.0</td>\n",
       "      <td>14.0</td>\n",
       "      <td>4096.0</td>\n",
       "      <td>0.0</td>\n",
       "    </tr>\n",
       "    <tr>\n",
       "      <th>4</th>\n",
       "      <td>max</td>\n",
       "      <td>5.0</td>\n",
       "      <td>168.0</td>\n",
       "      <td>198942.0</td>\n",
       "      <td>96.0</td>\n",
       "      <td>1.62443264E8</td>\n",
       "      <td>1.0</td>\n",
       "    </tr>\n",
       "  </tbody>\n",
       "</table>\n",
       "</div>"
      ],
      "text/plain": [
       "  summary            TagCount         TitleLength    PosterReputation  \\\n",
       "0   count               24009               24009               24009   \n",
       "1    mean   2.058894581198717    59.9233204215086  12841.525552917656   \n",
       "2  stddev  0.9926152490165466  22.637822393134446  33472.355351248756   \n",
       "3     min                 1.0                15.0                 1.0   \n",
       "4     max                 5.0               168.0            198942.0   \n",
       "\n",
       "            PosterAge            FinalTime     CensoringStatus  \n",
       "0                9683                24009               24009  \n",
       "1   34.83228338324899  2.195890047365571E7  0.5387146486734141  \n",
       "2  11.252678205914636  3.553240806671485E7  0.4985093045706418  \n",
       "3                14.0               4096.0                 0.0  \n",
       "4                96.0         1.62443264E8                 1.0  "
      ]
     },
     "execution_count": 227,
     "metadata": {},
     "output_type": "execute_result"
    }
   ],
   "source": [
    "final_red_pr_df.describe().toPandas()"
   ]
  },
  {
   "cell_type": "markdown",
   "metadata": {
    "collapsed": true
   },
   "source": [
    "### Poster Age\n",
    "The feature PosterAge misses the majority of the data, having only around 40% of the total data. To fill the missing values of this feature, MICE technique has been chosen, using the python package fancyimpute"
   ]
  },
  {
   "cell_type": "code",
   "execution_count": 229,
   "metadata": {
    "collapsed": true
   },
   "outputs": [],
   "source": [
    "import fancyimpute"
   ]
  },
  {
   "cell_type": "code",
   "execution_count": 232,
   "metadata": {
    "collapsed": true
   },
   "outputs": [],
   "source": [
    "from fancyimpute import MICE, SoftImpute\n",
    "solver = SoftImpute(verbose=False)"
   ]
  },
  {
   "cell_type": "code",
   "execution_count": 254,
   "metadata": {},
   "outputs": [
    {
     "name": "stdout",
     "output_type": "stream",
     "text": [
      "[[  1.00000000e+00   5.30000000e+01   4.74000000e+02   2.90000000e+01\n",
      "    2.04800000e+04   1.00000000e+00]\n",
      " [  1.00000000e+00   8.50000000e+01   5.84000000e+02   3.10000000e+01\n",
      "    4.09600000e+03   1.00000000e+00]\n",
      " [  3.00000000e+00   4.50000000e+01   3.31100000e+03   3.20000000e+01\n",
      "    4.09600000e+03   1.00000000e+00]\n",
      " ..., \n",
      " [  2.00000000e+00   2.60000000e+01   7.85100000e+03              nan\n",
      "    1.03559168e+08   1.00000000e+00]\n",
      " [  1.00000000e+00   9.00000000e+01   1.24340000e+04              nan\n",
      "    2.27328000e+06   1.00000000e+00]\n",
      " [  1.00000000e+00   4.20000000e+01   1.17700000e+03   2.90000000e+01\n",
      "    5.03808000e+05   1.00000000e+00]]\n"
     ]
    }
   ],
   "source": [
    "fda = final_red_pr_df.toPandas().as_matrix()\n",
    "\n",
    "solver = MICE(verbose=0)\n",
    "\n",
    "fdac = solver.complete(fda) # This works perfectly well.\n",
    "\n",
    "print(fda)"
   ]
  },
  {
   "cell_type": "code",
   "execution_count": 243,
   "metadata": {},
   "outputs": [],
   "source": [
    "full_dums=final_red_pr_df.columns"
   ]
  },
  {
   "cell_type": "code",
   "execution_count": 256,
   "metadata": {},
   "outputs": [
    {
     "data": {
      "text/html": [
       "<div>\n",
       "<table border=\"1\" class=\"dataframe\">\n",
       "  <thead>\n",
       "    <tr style=\"text-align: right;\">\n",
       "      <th></th>\n",
       "      <th>TagCount</th>\n",
       "      <th>TitleLength</th>\n",
       "      <th>PosterReputation</th>\n",
       "      <th>PosterAge</th>\n",
       "      <th>FinalTime</th>\n",
       "      <th>CensoringStatus</th>\n",
       "    </tr>\n",
       "  </thead>\n",
       "  <tbody>\n",
       "    <tr>\n",
       "      <th>count</th>\n",
       "      <td>24009.000000</td>\n",
       "      <td>24009.000000</td>\n",
       "      <td>24009.000000</td>\n",
       "      <td>9683.000000</td>\n",
       "      <td>2.400900e+04</td>\n",
       "      <td>24009.000000</td>\n",
       "    </tr>\n",
       "    <tr>\n",
       "      <th>mean</th>\n",
       "      <td>2.058895</td>\n",
       "      <td>59.923320</td>\n",
       "      <td>12841.525553</td>\n",
       "      <td>34.832283</td>\n",
       "      <td>2.195890e+07</td>\n",
       "      <td>0.538715</td>\n",
       "    </tr>\n",
       "    <tr>\n",
       "      <th>std</th>\n",
       "      <td>0.992615</td>\n",
       "      <td>22.637822</td>\n",
       "      <td>33472.355351</td>\n",
       "      <td>11.252678</td>\n",
       "      <td>3.553241e+07</td>\n",
       "      <td>0.498509</td>\n",
       "    </tr>\n",
       "    <tr>\n",
       "      <th>min</th>\n",
       "      <td>1.000000</td>\n",
       "      <td>15.000000</td>\n",
       "      <td>1.000000</td>\n",
       "      <td>14.000000</td>\n",
       "      <td>4.096000e+03</td>\n",
       "      <td>0.000000</td>\n",
       "    </tr>\n",
       "    <tr>\n",
       "      <th>25%</th>\n",
       "      <td>1.000000</td>\n",
       "      <td>43.000000</td>\n",
       "      <td>109.000000</td>\n",
       "      <td>27.000000</td>\n",
       "      <td>8.192000e+03</td>\n",
       "      <td>0.000000</td>\n",
       "    </tr>\n",
       "    <tr>\n",
       "      <th>50%</th>\n",
       "      <td>2.000000</td>\n",
       "      <td>57.000000</td>\n",
       "      <td>803.000000</td>\n",
       "      <td>33.000000</td>\n",
       "      <td>2.088960e+05</td>\n",
       "      <td>1.000000</td>\n",
       "    </tr>\n",
       "    <tr>\n",
       "      <th>75%</th>\n",
       "      <td>3.000000</td>\n",
       "      <td>73.000000</td>\n",
       "      <td>8117.000000</td>\n",
       "      <td>41.000000</td>\n",
       "      <td>3.276390e+07</td>\n",
       "      <td>1.000000</td>\n",
       "    </tr>\n",
       "    <tr>\n",
       "      <th>max</th>\n",
       "      <td>5.000000</td>\n",
       "      <td>168.000000</td>\n",
       "      <td>198942.000000</td>\n",
       "      <td>96.000000</td>\n",
       "      <td>1.624433e+08</td>\n",
       "      <td>1.000000</td>\n",
       "    </tr>\n",
       "  </tbody>\n",
       "</table>\n",
       "</div>"
      ],
      "text/plain": [
       "           TagCount   TitleLength  PosterReputation    PosterAge  \\\n",
       "count  24009.000000  24009.000000      24009.000000  9683.000000   \n",
       "mean       2.058895     59.923320      12841.525553    34.832283   \n",
       "std        0.992615     22.637822      33472.355351    11.252678   \n",
       "min        1.000000     15.000000          1.000000    14.000000   \n",
       "25%        1.000000     43.000000        109.000000    27.000000   \n",
       "50%        2.000000     57.000000        803.000000    33.000000   \n",
       "75%        3.000000     73.000000       8117.000000    41.000000   \n",
       "max        5.000000    168.000000     198942.000000    96.000000   \n",
       "\n",
       "          FinalTime  CensoringStatus  \n",
       "count  2.400900e+04     24009.000000  \n",
       "mean   2.195890e+07         0.538715  \n",
       "std    3.553241e+07         0.498509  \n",
       "min    4.096000e+03         0.000000  \n",
       "25%    8.192000e+03         0.000000  \n",
       "50%    2.088960e+05         1.000000  \n",
       "75%    3.276390e+07         1.000000  \n",
       "max    1.624433e+08         1.000000  "
      ]
     },
     "execution_count": 256,
     "metadata": {},
     "output_type": "execute_result"
    }
   ],
   "source": [
    "final_red_pr_df.toPandas().describe()"
   ]
  },
  {
   "cell_type": "code",
   "execution_count": 255,
   "metadata": {},
   "outputs": [
    {
     "data": {
      "text/html": [
       "<div>\n",
       "<table border=\"1\" class=\"dataframe\">\n",
       "  <thead>\n",
       "    <tr style=\"text-align: right;\">\n",
       "      <th></th>\n",
       "      <th>TagCount</th>\n",
       "      <th>TitleLength</th>\n",
       "      <th>PosterReputation</th>\n",
       "      <th>PosterAge</th>\n",
       "      <th>FinalTime</th>\n",
       "      <th>CensoringStatus</th>\n",
       "    </tr>\n",
       "  </thead>\n",
       "  <tbody>\n",
       "    <tr>\n",
       "      <th>count</th>\n",
       "      <td>24009.000000</td>\n",
       "      <td>24009.000000</td>\n",
       "      <td>24009.000000</td>\n",
       "      <td>24009.000000</td>\n",
       "      <td>2.400900e+04</td>\n",
       "      <td>24009.000000</td>\n",
       "    </tr>\n",
       "    <tr>\n",
       "      <th>mean</th>\n",
       "      <td>2.058895</td>\n",
       "      <td>59.923320</td>\n",
       "      <td>12841.525553</td>\n",
       "      <td>34.905050</td>\n",
       "      <td>2.195890e+07</td>\n",
       "      <td>0.538715</td>\n",
       "    </tr>\n",
       "    <tr>\n",
       "      <th>std</th>\n",
       "      <td>0.992615</td>\n",
       "      <td>22.637822</td>\n",
       "      <td>33472.355351</td>\n",
       "      <td>7.214057</td>\n",
       "      <td>3.553241e+07</td>\n",
       "      <td>0.498509</td>\n",
       "    </tr>\n",
       "    <tr>\n",
       "      <th>min</th>\n",
       "      <td>1.000000</td>\n",
       "      <td>15.000000</td>\n",
       "      <td>1.000000</td>\n",
       "      <td>14.000000</td>\n",
       "      <td>4.096000e+03</td>\n",
       "      <td>0.000000</td>\n",
       "    </tr>\n",
       "    <tr>\n",
       "      <th>25%</th>\n",
       "      <td>1.000000</td>\n",
       "      <td>43.000000</td>\n",
       "      <td>109.000000</td>\n",
       "      <td>33.181345</td>\n",
       "      <td>8.192000e+03</td>\n",
       "      <td>0.000000</td>\n",
       "    </tr>\n",
       "    <tr>\n",
       "      <th>50%</th>\n",
       "      <td>2.000000</td>\n",
       "      <td>57.000000</td>\n",
       "      <td>803.000000</td>\n",
       "      <td>34.831482</td>\n",
       "      <td>2.088960e+05</td>\n",
       "      <td>1.000000</td>\n",
       "    </tr>\n",
       "    <tr>\n",
       "      <th>75%</th>\n",
       "      <td>3.000000</td>\n",
       "      <td>73.000000</td>\n",
       "      <td>8117.000000</td>\n",
       "      <td>36.266765</td>\n",
       "      <td>3.276390e+07</td>\n",
       "      <td>1.000000</td>\n",
       "    </tr>\n",
       "    <tr>\n",
       "      <th>max</th>\n",
       "      <td>5.000000</td>\n",
       "      <td>168.000000</td>\n",
       "      <td>198942.000000</td>\n",
       "      <td>96.000000</td>\n",
       "      <td>1.624433e+08</td>\n",
       "      <td>1.000000</td>\n",
       "    </tr>\n",
       "  </tbody>\n",
       "</table>\n",
       "</div>"
      ],
      "text/plain": [
       "           TagCount   TitleLength  PosterReputation     PosterAge  \\\n",
       "count  24009.000000  24009.000000      24009.000000  24009.000000   \n",
       "mean       2.058895     59.923320      12841.525553     34.905050   \n",
       "std        0.992615     22.637822      33472.355351      7.214057   \n",
       "min        1.000000     15.000000          1.000000     14.000000   \n",
       "25%        1.000000     43.000000        109.000000     33.181345   \n",
       "50%        2.000000     57.000000        803.000000     34.831482   \n",
       "75%        3.000000     73.000000       8117.000000     36.266765   \n",
       "max        5.000000    168.000000     198942.000000     96.000000   \n",
       "\n",
       "          FinalTime  CensoringStatus  \n",
       "count  2.400900e+04     24009.000000  \n",
       "mean   2.195890e+07         0.538715  \n",
       "std    3.553241e+07         0.498509  \n",
       "min    4.096000e+03         0.000000  \n",
       "25%    8.192000e+03         0.000000  \n",
       "50%    2.088960e+05         1.000000  \n",
       "75%    3.276390e+07         1.000000  \n",
       "max    1.624433e+08         1.000000  "
      ]
     },
     "execution_count": 255,
     "metadata": {},
     "output_type": "execute_result"
    }
   ],
   "source": [
    "pd_final.describe()"
   ]
  },
  {
   "cell_type": "code",
   "execution_count": 259,
   "metadata": {},
   "outputs": [
    {
     "data": {
      "text/html": [
       "<div>\n",
       "<table border=\"1\" class=\"dataframe\">\n",
       "  <thead>\n",
       "    <tr style=\"text-align: right;\">\n",
       "      <th></th>\n",
       "      <th>summary</th>\n",
       "      <th>TagCount</th>\n",
       "      <th>TitleLength</th>\n",
       "      <th>PosterReputation</th>\n",
       "      <th>PosterAge</th>\n",
       "      <th>FinalTime</th>\n",
       "      <th>CensoringStatus</th>\n",
       "    </tr>\n",
       "  </thead>\n",
       "  <tbody>\n",
       "    <tr>\n",
       "      <th>0</th>\n",
       "      <td>count</td>\n",
       "      <td>24009</td>\n",
       "      <td>24009</td>\n",
       "      <td>24009</td>\n",
       "      <td>24009</td>\n",
       "      <td>24009</td>\n",
       "      <td>24009</td>\n",
       "    </tr>\n",
       "    <tr>\n",
       "      <th>1</th>\n",
       "      <td>mean</td>\n",
       "      <td>2.058894581198717</td>\n",
       "      <td>59.9233204215086</td>\n",
       "      <td>12841.525552917656</td>\n",
       "      <td>34.9050500782497</td>\n",
       "      <td>2.195890047365571E7</td>\n",
       "      <td>0.5387146486734141</td>\n",
       "    </tr>\n",
       "    <tr>\n",
       "      <th>2</th>\n",
       "      <td>stddev</td>\n",
       "      <td>0.9926152490165475</td>\n",
       "      <td>22.637822393134428</td>\n",
       "      <td>33472.35535124874</td>\n",
       "      <td>7.214057038582819</td>\n",
       "      <td>3.553240806671484E7</td>\n",
       "      <td>0.49850930457064163</td>\n",
       "    </tr>\n",
       "    <tr>\n",
       "      <th>3</th>\n",
       "      <td>min</td>\n",
       "      <td>1.0</td>\n",
       "      <td>15.0</td>\n",
       "      <td>1.0</td>\n",
       "      <td>14.0</td>\n",
       "      <td>4096.0</td>\n",
       "      <td>0.0</td>\n",
       "    </tr>\n",
       "    <tr>\n",
       "      <th>4</th>\n",
       "      <td>max</td>\n",
       "      <td>5.0</td>\n",
       "      <td>168.0</td>\n",
       "      <td>198942.0</td>\n",
       "      <td>96.0</td>\n",
       "      <td>1.62443264E8</td>\n",
       "      <td>1.0</td>\n",
       "    </tr>\n",
       "  </tbody>\n",
       "</table>\n",
       "</div>"
      ],
      "text/plain": [
       "  summary            TagCount         TitleLength    PosterReputation  \\\n",
       "0   count               24009               24009               24009   \n",
       "1    mean   2.058894581198717    59.9233204215086  12841.525552917656   \n",
       "2  stddev  0.9926152490165475  22.637822393134428   33472.35535124874   \n",
       "3     min                 1.0                15.0                 1.0   \n",
       "4     max                 5.0               168.0            198942.0   \n",
       "\n",
       "           PosterAge            FinalTime      CensoringStatus  \n",
       "0              24009                24009                24009  \n",
       "1   34.9050500782497  2.195890047365571E7   0.5387146486734141  \n",
       "2  7.214057038582819  3.553240806671484E7  0.49850930457064163  \n",
       "3               14.0               4096.0                  0.0  \n",
       "4               96.0         1.62443264E8                  1.0  "
      ]
     },
     "execution_count": 259,
     "metadata": {},
     "output_type": "execute_result"
    }
   ],
   "source": [
    "prueba = sqlContext.createDataFrame(pd_final)\n",
    "prueba.describe().toPandas()"
   ]
  },
  {
   "cell_type": "code",
   "execution_count": 262,
   "metadata": {
    "scrolled": true
   },
   "outputs": [
    {
     "data": {
      "text/html": [
       "<div>\n",
       "<table border=\"1\" class=\"dataframe\">\n",
       "  <thead>\n",
       "    <tr style=\"text-align: right;\">\n",
       "      <th></th>\n",
       "      <th>TagCount</th>\n",
       "      <th>TitleLength</th>\n",
       "      <th>PosterReputation</th>\n",
       "      <th>PosterAge</th>\n",
       "      <th>FinalTime</th>\n",
       "      <th>CensoringStatus</th>\n",
       "    </tr>\n",
       "  </thead>\n",
       "  <tbody>\n",
       "    <tr>\n",
       "      <th>TagCount</th>\n",
       "      <td>1.000000</td>\n",
       "      <td>0.060511</td>\n",
       "      <td>-0.014350</td>\n",
       "      <td>0.005192</td>\n",
       "      <td>-0.018741</td>\n",
       "      <td>0.016520</td>\n",
       "    </tr>\n",
       "    <tr>\n",
       "      <th>TitleLength</th>\n",
       "      <td>0.060511</td>\n",
       "      <td>1.000000</td>\n",
       "      <td>0.007587</td>\n",
       "      <td>0.072787</td>\n",
       "      <td>0.071873</td>\n",
       "      <td>-0.068567</td>\n",
       "    </tr>\n",
       "    <tr>\n",
       "      <th>PosterReputation</th>\n",
       "      <td>-0.014350</td>\n",
       "      <td>0.007587</td>\n",
       "      <td>1.000000</td>\n",
       "      <td>0.214868</td>\n",
       "      <td>-0.003213</td>\n",
       "      <td>0.114674</td>\n",
       "    </tr>\n",
       "    <tr>\n",
       "      <th>PosterAge</th>\n",
       "      <td>0.005192</td>\n",
       "      <td>0.072787</td>\n",
       "      <td>0.214868</td>\n",
       "      <td>1.000000</td>\n",
       "      <td>0.083665</td>\n",
       "      <td>-0.014546</td>\n",
       "    </tr>\n",
       "    <tr>\n",
       "      <th>FinalTime</th>\n",
       "      <td>-0.018741</td>\n",
       "      <td>0.071873</td>\n",
       "      <td>-0.003213</td>\n",
       "      <td>0.083665</td>\n",
       "      <td>1.000000</td>\n",
       "      <td>-0.599324</td>\n",
       "    </tr>\n",
       "    <tr>\n",
       "      <th>CensoringStatus</th>\n",
       "      <td>0.016520</td>\n",
       "      <td>-0.068567</td>\n",
       "      <td>0.114674</td>\n",
       "      <td>-0.014546</td>\n",
       "      <td>-0.599324</td>\n",
       "      <td>1.000000</td>\n",
       "    </tr>\n",
       "  </tbody>\n",
       "</table>\n",
       "</div>"
      ],
      "text/plain": [
       "                  TagCount  TitleLength  PosterReputation  PosterAge  \\\n",
       "TagCount          1.000000     0.060511         -0.014350   0.005192   \n",
       "TitleLength       0.060511     1.000000          0.007587   0.072787   \n",
       "PosterReputation -0.014350     0.007587          1.000000   0.214868   \n",
       "PosterAge         0.005192     0.072787          0.214868   1.000000   \n",
       "FinalTime        -0.018741     0.071873         -0.003213   0.083665   \n",
       "CensoringStatus   0.016520    -0.068567          0.114674  -0.014546   \n",
       "\n",
       "                  FinalTime  CensoringStatus  \n",
       "TagCount          -0.018741         0.016520  \n",
       "TitleLength        0.071873        -0.068567  \n",
       "PosterReputation  -0.003213         0.114674  \n",
       "PosterAge          0.083665        -0.014546  \n",
       "FinalTime          1.000000        -0.599324  \n",
       "CensoringStatus   -0.599324         1.000000  "
      ]
     },
     "execution_count": 262,
     "metadata": {},
     "output_type": "execute_result"
    }
   ],
   "source": [
    "pd_final.corr()"
   ]
  },
  {
   "cell_type": "code",
   "execution_count": 263,
   "metadata": {},
   "outputs": [
    {
     "data": {
      "text/html": [
       "<div>\n",
       "<table border=\"1\" class=\"dataframe\">\n",
       "  <thead>\n",
       "    <tr style=\"text-align: right;\">\n",
       "      <th></th>\n",
       "      <th>TagCount</th>\n",
       "      <th>TitleLength</th>\n",
       "      <th>PosterReputation</th>\n",
       "      <th>PosterAge</th>\n",
       "      <th>FinalTime</th>\n",
       "      <th>CensoringStatus</th>\n",
       "    </tr>\n",
       "  </thead>\n",
       "  <tbody>\n",
       "    <tr>\n",
       "      <th>TagCount</th>\n",
       "      <td>0.985285</td>\n",
       "      <td>1.359731e+00</td>\n",
       "      <td>-4.767656e+02</td>\n",
       "      <td>3.717655e-02</td>\n",
       "      <td>-6.610076e+05</td>\n",
       "      <td>8.174670e-03</td>\n",
       "    </tr>\n",
       "    <tr>\n",
       "      <th>TitleLength</th>\n",
       "      <td>1.359731</td>\n",
       "      <td>5.124710e+02</td>\n",
       "      <td>5.749061e+03</td>\n",
       "      <td>1.188693e+01</td>\n",
       "      <td>5.781333e+07</td>\n",
       "      <td>-7.737932e-01</td>\n",
       "    </tr>\n",
       "    <tr>\n",
       "      <th>PosterReputation</th>\n",
       "      <td>-476.765584</td>\n",
       "      <td>5.749061e+03</td>\n",
       "      <td>1.120399e+09</td>\n",
       "      <td>5.188446e+04</td>\n",
       "      <td>-3.821557e+09</td>\n",
       "      <td>1.913475e+03</td>\n",
       "    </tr>\n",
       "    <tr>\n",
       "      <th>PosterAge</th>\n",
       "      <td>0.037177</td>\n",
       "      <td>1.188693e+01</td>\n",
       "      <td>5.188446e+04</td>\n",
       "      <td>5.204262e+01</td>\n",
       "      <td>2.144613e+07</td>\n",
       "      <td>-5.231089e-02</td>\n",
       "    </tr>\n",
       "    <tr>\n",
       "      <th>FinalTime</th>\n",
       "      <td>-661007.593042</td>\n",
       "      <td>5.781333e+07</td>\n",
       "      <td>-3.821557e+09</td>\n",
       "      <td>2.144613e+07</td>\n",
       "      <td>1.262552e+15</td>\n",
       "      <td>-1.061596e+07</td>\n",
       "    </tr>\n",
       "    <tr>\n",
       "      <th>CensoringStatus</th>\n",
       "      <td>0.008175</td>\n",
       "      <td>-7.737932e-01</td>\n",
       "      <td>1.913475e+03</td>\n",
       "      <td>-5.231089e-02</td>\n",
       "      <td>-1.061596e+07</td>\n",
       "      <td>2.485115e-01</td>\n",
       "    </tr>\n",
       "  </tbody>\n",
       "</table>\n",
       "</div>"
      ],
      "text/plain": [
       "                       TagCount   TitleLength  PosterReputation     PosterAge  \\\n",
       "TagCount               0.985285  1.359731e+00     -4.767656e+02  3.717655e-02   \n",
       "TitleLength            1.359731  5.124710e+02      5.749061e+03  1.188693e+01   \n",
       "PosterReputation    -476.765584  5.749061e+03      1.120399e+09  5.188446e+04   \n",
       "PosterAge              0.037177  1.188693e+01      5.188446e+04  5.204262e+01   \n",
       "FinalTime        -661007.593042  5.781333e+07     -3.821557e+09  2.144613e+07   \n",
       "CensoringStatus        0.008175 -7.737932e-01      1.913475e+03 -5.231089e-02   \n",
       "\n",
       "                     FinalTime  CensoringStatus  \n",
       "TagCount         -6.610076e+05     8.174670e-03  \n",
       "TitleLength       5.781333e+07    -7.737932e-01  \n",
       "PosterReputation -3.821557e+09     1.913475e+03  \n",
       "PosterAge         2.144613e+07    -5.231089e-02  \n",
       "FinalTime         1.262552e+15    -1.061596e+07  \n",
       "CensoringStatus  -1.061596e+07     2.485115e-01  "
      ]
     },
     "execution_count": 263,
     "metadata": {},
     "output_type": "execute_result"
    }
   ],
   "source": [
    "pd_final.cov()"
   ]
  },
  {
   "cell_type": "code",
   "execution_count": 249,
   "metadata": {},
   "outputs": [],
   "source": [
    "import pandas\n",
    "pd_final = pandas.DataFrame(fdac, columns = [x for x in list(final_red_pr_df.columns)])"
   ]
  },
  {
   "cell_type": "code",
   "execution_count": 252,
   "metadata": {},
   "outputs": [
    {
     "data": {
      "text/plain": [
       "<matplotlib.axes._subplots.AxesSubplot at 0x110ada7b8>"
      ]
     },
     "execution_count": 252,
     "metadata": {},
     "output_type": "execute_result"
    },
    {
     "data": {
      "image/png": "[encoded data removed]",
      "text/plain": [
       "<matplotlib.figure.Figure at 0x111345cc0>"
      ]
     },
     "metadata": {},
     "output_type": "display_data"
    }
   ],
   "source": [
    "final_red_pr_df.toPandas().PosterAge.hist()"
   ]
  },
  {
   "cell_type": "code",
   "execution_count": 251,
   "metadata": {},
   "outputs": [
    {
     "data": {
      "text/plain": [
       "<matplotlib.axes._subplots.AxesSubplot at 0x110a27eb8>"
      ]
     },
     "execution_count": 251,
     "metadata": {},
     "output_type": "execute_result"
    },
    {
     "data": {
      "image/png": "[encoded data removed]",
      "text/plain": [
       "<matplotlib.figure.Figure at 0x110a2cc18>"
      ]
     },
     "metadata": {},
     "output_type": "display_data"
    }
   ],
   "source": [
    "pd_final.PosterAge.hist()"
   ]
  }
 ],
 "metadata": {
  "kernelspec": {
   "display_name": "Python 3",
   "language": "python",
   "name": "python3"
  },
  "language_info": {
   "codemirror_mode": {
    "name": "ipython",
    "version": 3
   },
   "file_extension": ".py",
   "mimetype": "text/x-python",
   "name": "python",
   "nbconvert_exporter": "python",
   "pygments_lexer": "ipython3",
   "version": "3.5.3"
  }
 },
 "nbformat": 4,
 "nbformat_minor": 2
}
