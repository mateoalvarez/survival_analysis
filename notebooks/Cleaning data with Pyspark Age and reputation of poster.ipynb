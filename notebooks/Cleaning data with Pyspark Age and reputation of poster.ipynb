{
 "cells": [
  {
   "cell_type": "markdown",
   "metadata": {},
   "source": [
    "# Cleaning data with PySpark"
   ]
  },
  {
   "cell_type": "markdown",
   "metadata": {},
   "source": [
    "## Start spark context"
   ]
  },
  {
   "cell_type": "code",
   "execution_count": 1,
   "metadata": {},
   "outputs": [
    {
     "name": "stdout",
     "output_type": "stream",
     "text": [
      "<pyspark.context.SparkContext object at 0x7f0710585f98>\n",
      "<pyspark.sql.context.SQLContext object at 0x7f07105228d0>\n"
     ]
    }
   ],
   "source": [
    "import findspark\n",
    "findspark.init()\n",
    "import pyspark\n",
    "from pyspark.sql import SQLContext\n",
    "sc = pyspark.SparkContext()\n",
    "sqlContext = SQLContext(sc)\n",
    "print(sc)\n",
    "print(sqlContext)"
   ]
  },
  {
   "cell_type": "code",
   "execution_count": 2,
   "metadata": {
    "collapsed": true
   },
   "outputs": [],
   "source": [
    "from pyspark.sql import SparkSession\n",
    "from pyspark.sql import types as stypes\n",
    "from pyspark.sql.functions import udf\n",
    "spark = SparkSession \\\n",
    "    .builder \\\n",
    "    .appName(\"Python Spark SQL cleaning data\") \\\n",
    "    .config(\"spark.some.config.option\", \"some-value\") \\\n",
    "    .getOrCreate()"
   ]
  },
  {
   "cell_type": "code",
   "execution_count": 3,
   "metadata": {
    "collapsed": true
   },
   "outputs": [],
   "source": [
    "from datetime import datetime\n",
    "from datetime import date\n",
    "import matplotlib.pyplot as plt\n",
    "%matplotlib inline\n",
    "import numpy as np\n",
    "import scipy as scp\n",
    "import random\n",
    "random.seed()"
   ]
  },
  {
   "cell_type": "markdown",
   "metadata": {},
   "source": [
    "## Posts import"
   ]
  },
  {
   "cell_type": "code",
   "execution_count": 4,
   "metadata": {
    "collapsed": true
   },
   "outputs": [],
   "source": [
    "fields = [\n",
    "    stypes.StructField(\"Id\", stypes.IntegerType(), True),\\\n",
    "    stypes.StructField(\"PostTypeId\", stypes.IntegerType(), True),\\\n",
    "    stypes.StructField(\"AcceptedAnswerId\", stypes.IntegerType(), True),\\\n",
    "    stypes.StructField(\"ParentId\", stypes.IntegerType(), True),\\\n",
    "    stypes.StructField(\"CreationDate\", stypes.StringType(), True),\\\n",
    "    stypes.StructField(\"DeletionDate\", stypes.StringType(), True),\\\n",
    "    stypes.StructField(\"Score\", stypes.IntegerType(), True),\\\n",
    "    stypes.StructField(\"ViewCount\", stypes.IntegerType(), True),\\\n",
    "    stypes.StructField(\"Body\", stypes.StringType(), True),\\\n",
    "    stypes.StructField(\"OwnerUserId\", stypes.IntegerType(), True),\\\n",
    "    stypes.StructField(\"OwnerDisplayName\", stypes.StringType(), True),\\\n",
    "    stypes.StructField(\"LastEditorUserId\", stypes.IntegerType(), True),\\\n",
    "    stypes.StructField(\"LastEditorDisplayName\", stypes.StringType(), True),\\\n",
    "    stypes.StructField(\"LastEditDate\", stypes.StringType(), True),\\\n",
    "    stypes.StructField(\"LastActivityDate\", stypes.StringType(), True),\\\n",
    "    stypes.StructField(\"Title\", stypes.StringType(), True),\\\n",
    "    stypes.StructField(\"Tags\", stypes.StringType(), True),\\\n",
    "    stypes.StructField(\"AnswerCount\", stypes.IntegerType(), True),\\\n",
    "    stypes.StructField(\"CommentCount\", stypes.IntegerType(), True),\\\n",
    "    stypes.StructField(\"FavoriteCount\", stypes.IntegerType(), True),\\\n",
    "    stypes.StructField(\"ClosedDate\", stypes.StringType(), True),\\\n",
    "    stypes.StructField(\"CommunityOwnedDate\", stypes.StringType(), True)\n",
    "]\n",
    "customSchema = stypes.StructType(fields)\n",
    "posts = sqlContext.read\\\n",
    ".format('com.databricks.spark.csv')\\\n",
    ".load(\"file:///home/mat/Escritorio/ejecucion_systemml/jupyter_notebook/data/posts_csv/part-00000\",\\\n",
    "      schema=customSchema)"
   ]
  },
  {
   "cell_type": "code",
   "execution_count": 5,
   "metadata": {
    "collapsed": true
   },
   "outputs": [],
   "source": [
    "#posts.toPandas()"
   ]
  },
  {
   "cell_type": "code",
   "execution_count": 6,
   "metadata": {
    "collapsed": true
   },
   "outputs": [],
   "source": [
    "reduced_posts = posts.drop('ParentId','Score','ViewCount','Body','OwnerDisplayName',\\\n",
    "                         'LastEditorUserId','LastEditorDisplayName','LastEditDate','LastActivityDate','AnswerCount',\\\n",
    "                         'CommentCount','FavoriteCount','CommunityOwnedDate','DeletionDate')"
   ]
  },
  {
   "cell_type": "code",
   "execution_count": 7,
   "metadata": {
    "collapsed": true
   },
   "outputs": [],
   "source": [
    "#reduced_posts.describe().toPandas()"
   ]
  },
  {
   "cell_type": "markdown",
   "metadata": {},
   "source": [
    "## Questions import"
   ]
  },
  {
   "cell_type": "markdown",
   "metadata": {},
   "source": [
    "### UDF to transform questions columns"
   ]
  },
  {
   "cell_type": "code",
   "execution_count": 8,
   "metadata": {
    "collapsed": true
   },
   "outputs": [],
   "source": [
    "parse_time_udf = udf(lambda x: \\\n",
    "    float((datetime.strptime(x.split(\".\")[0], '%Y-%m-%dT%H:%M:%S') - datetime.min).total_seconds()),\\\n",
    "    stypes.FloatType()\n",
    ")\n",
    "\n",
    "parse_time_check_udf = udf(lambda x:\\\n",
    "    float((datetime.strptime(x.split(\".\")[0], '%Y-%m-%dT%H:%M:%S') - datetime.min).total_seconds())\\\n",
    "    if x is not None else None,\\\n",
    "    stypes.FloatType()\n",
    ")\n",
    "\n",
    "tag_counter_udf = udf(lambda x:\\\n",
    "    float(len([tag.split(\"&lt;\")[1] for tag in x.split(\"&gt;\")[0:-1]])),\\\n",
    "    stypes.FloatType()\n",
    ")\n",
    "\n",
    "title_length_udf = udf(lambda x:\\\n",
    "    float(len(x)),\\\n",
    "    stypes.FloatType()\n",
    ")"
   ]
  },
  {
   "cell_type": "code",
   "execution_count": 9,
   "metadata": {
    "collapsed": true
   },
   "outputs": [],
   "source": [
    "questions = reduced_posts.filter(reduced_posts.PostTypeId == 1)\\\n",
    ".drop(\"PostTypeId\")\n",
    "questions = questions.\\\n",
    "withColumn(\"ParsedCreationDate\", parse_time_udf(questions.CreationDate)).\\\n",
    "withColumn(\"ParsedClosedDate\", parse_time_check_udf(questions.ClosedDate)).\\\n",
    "withColumn(\"TagCount\", tag_counter_udf(questions.Tags)).\\\n",
    "withColumn(\"TitleLength\", title_length_udf(questions.Title)).\\\n",
    "withColumnRenamed(\"OwnerUserId\",\"PosterOwnerUserId\").\\\n",
    "drop(\"CreationDate\",\"ClosedDate\", \"Tags\", \"Title\")"
   ]
  },
  {
   "cell_type": "code",
   "execution_count": 10,
   "metadata": {
    "collapsed": true,
    "scrolled": true
   },
   "outputs": [],
   "source": [
    "#questions.toPandas()"
   ]
  },
  {
   "cell_type": "code",
   "execution_count": 11,
   "metadata": {
    "collapsed": true,
    "scrolled": false
   },
   "outputs": [],
   "source": [
    "#questions.describe().toPandas()"
   ]
  },
  {
   "cell_type": "code",
   "execution_count": 12,
   "metadata": {},
   "outputs": [
    {
     "name": "stdout",
     "output_type": "stream",
     "text": [
      "63430377472.0\n"
     ]
    }
   ],
   "source": [
    "min_time = questions.select(questions.ParsedCreationDate).rdd.min()[0]\n",
    "print(min_time)"
   ]
  },
  {
   "cell_type": "markdown",
   "metadata": {},
   "source": [
    "# Answers import"
   ]
  },
  {
   "cell_type": "code",
   "execution_count": 13,
   "metadata": {
    "collapsed": true
   },
   "outputs": [],
   "source": [
    "answers = reduced_posts.filter(reduced_posts.PostTypeId == 2)\\\n",
    ".drop(\"AcceptedAnswerId\", \"Title\", \"Tags\", \"ClosedDate\",\"PostTypeId\")\n",
    "answers = answers.withColumn(\"AnsParsedCreationDate\", parse_time_udf(answers.CreationDate)).drop(answers.CreationDate)"
   ]
  },
  {
   "cell_type": "code",
   "execution_count": 14,
   "metadata": {
    "collapsed": true
   },
   "outputs": [],
   "source": [
    "#answers.describe().toPandas()"
   ]
  },
  {
   "cell_type": "code",
   "execution_count": 15,
   "metadata": {
    "collapsed": true
   },
   "outputs": [],
   "source": [
    "answers.registerTempTable(\"answers\")\n",
    "questions.registerTempTable(\"questions\")"
   ]
  },
  {
   "cell_type": "code",
   "execution_count": 16,
   "metadata": {
    "collapsed": true
   },
   "outputs": [],
   "source": [
    "accepted_answers = sqlContext\\\n",
    ".sql(\"SELECT * FROM answers WHERE answers.Id IN (SELECT AcceptedAnswerId FROM questions)\")\\\n",
    "\n",
    "accepted_answers = accepted_answers\\\n",
    ".withColumnRenamed(\"Id\", \"AnswerId\")\\"
   ]
  },
  {
   "cell_type": "code",
   "execution_count": 17,
   "metadata": {
    "collapsed": true
   },
   "outputs": [],
   "source": [
    "#accepted_answers.toPandas()"
   ]
  },
  {
   "cell_type": "code",
   "execution_count": 18,
   "metadata": {},
   "outputs": [
    {
     "name": "stdout",
     "output_type": "stream",
     "text": [
      "63592824832.0\n"
     ]
    }
   ],
   "source": [
    "max_time = accepted_answers.select(accepted_answers.AnsParsedCreationDate).rdd.max()[0]\n",
    "print(max_time)"
   ]
  },
  {
   "cell_type": "markdown",
   "metadata": {},
   "source": [
    "## Users import"
   ]
  },
  {
   "cell_type": "code",
   "execution_count": 19,
   "metadata": {
    "collapsed": true
   },
   "outputs": [],
   "source": [
    "fields = [\n",
    "    stypes.StructField(\"Id\", stypes.IntegerType(), True),\\\n",
    "    stypes.StructField(\"Reputation\", stypes.FloatType(), True),\\\n",
    "    stypes.StructField(\"CreationDate\", stypes.StringType(), True),\\\n",
    "    stypes.StructField(\"DisplayName\", stypes.StringType(), True),\\\n",
    "    stypes.StructField(\"LastAccessDate\", stypes.StringType(), True),\\\n",
    "    stypes.StructField(\"WebsiteUrl\", stypes.StringType(), True),\\\n",
    "    stypes.StructField(\"Location\", stypes.StringType(), True),\\\n",
    "    stypes.StructField(\"AboutMe\", stypes.StringType(), True),\\\n",
    "    stypes.StructField(\"Views\", stypes.IntegerType(), True),\\\n",
    "    stypes.StructField(\"UpVotes\", stypes.IntegerType(), True),\\\n",
    "    stypes.StructField(\"DownVotes\", stypes.IntegerType(), True),\\\n",
    "    stypes.StructField(\"Age\", stypes.FloatType(), True),\\\n",
    "    stypes.StructField(\"AccountId\", stypes.IntegerType(), True),\\\n",
    "]\n",
    "customSchema = stypes.StructType(fields)\n",
    "users = sqlContext.read\\\n",
    ".format('com.databricks.spark.csv')\\\n",
    ".load(\"file:///home/mat/Escritorio/ejecucion_systemml/jupyter_notebook/data/users_csv/part-00000\",\\\n",
    "      schema=customSchema)\n",
    "users.describe().toPandas()\n",
    "users = users.drop(\"CreationDate\",\"DisplayName\",\"LastAccessDate\",\"WebsiteUrl\",\"Location\",\"AboutMe\",\"Views\",\"UpVotes\",\\\n",
    "                   \"DownVotes\",\"AccountId\")\n",
    "users = users.withColumnRenamed(\"Id\",\"UserId\").withColumnRenamed(\"Reputation\",\"UserReputation\")"
   ]
  },
  {
   "cell_type": "code",
   "execution_count": 20,
   "metadata": {},
   "outputs": [
    {
     "data": {
      "text/html": [
       "<div>\n",
       "<style>\n",
       "    .dataframe thead tr:only-child th {\n",
       "        text-align: right;\n",
       "    }\n",
       "\n",
       "    .dataframe thead th {\n",
       "        text-align: left;\n",
       "    }\n",
       "\n",
       "    .dataframe tbody tr th {\n",
       "        vertical-align: top;\n",
       "    }\n",
       "</style>\n",
       "<table border=\"1\" class=\"dataframe\">\n",
       "  <thead>\n",
       "    <tr style=\"text-align: right;\">\n",
       "      <th></th>\n",
       "      <th>summary</th>\n",
       "      <th>UserId</th>\n",
       "      <th>UserReputation</th>\n",
       "      <th>Age</th>\n",
       "    </tr>\n",
       "  </thead>\n",
       "  <tbody>\n",
       "    <tr>\n",
       "      <th>0</th>\n",
       "      <td>count</td>\n",
       "      <td>43360</td>\n",
       "      <td>43360</td>\n",
       "      <td>12901</td>\n",
       "    </tr>\n",
       "    <tr>\n",
       "      <th>1</th>\n",
       "      <td>mean</td>\n",
       "      <td>31417.359202029522</td>\n",
       "      <td>171.96042435424354</td>\n",
       "      <td>33.28548174560112</td>\n",
       "    </tr>\n",
       "    <tr>\n",
       "      <th>2</th>\n",
       "      <td>stddev</td>\n",
       "      <td>19202.403149027137</td>\n",
       "      <td>2012.982474680336</td>\n",
       "      <td>10.22403146691696</td>\n",
       "    </tr>\n",
       "    <tr>\n",
       "      <th>3</th>\n",
       "      <td>min</td>\n",
       "      <td>-1</td>\n",
       "      <td>1.0</td>\n",
       "      <td>14.0</td>\n",
       "    </tr>\n",
       "    <tr>\n",
       "      <th>4</th>\n",
       "      <td>max</td>\n",
       "      <td>62923</td>\n",
       "      <td>198942.0</td>\n",
       "      <td>96.0</td>\n",
       "    </tr>\n",
       "  </tbody>\n",
       "</table>\n",
       "</div>"
      ],
      "text/plain": [
       "  summary              UserId      UserReputation                Age\n",
       "0   count               43360               43360              12901\n",
       "1    mean  31417.359202029522  171.96042435424354  33.28548174560112\n",
       "2  stddev  19202.403149027137   2012.982474680336  10.22403146691696\n",
       "3     min                  -1                 1.0               14.0\n",
       "4     max               62923            198942.0               96.0"
      ]
     },
     "execution_count": 20,
     "metadata": {},
     "output_type": "execute_result"
    }
   ],
   "source": [
    "users.describe().toPandas()"
   ]
  },
  {
   "cell_type": "markdown",
   "metadata": {},
   "source": [
    "# Join for final dataframe"
   ]
  },
  {
   "cell_type": "markdown",
   "metadata": {},
   "source": [
    "### First join answers with users"
   ]
  },
  {
   "cell_type": "code",
   "execution_count": 21,
   "metadata": {
    "collapsed": true
   },
   "outputs": [],
   "source": [
    "questions_with_users = questions.join(users, questions.PosterOwnerUserId == users.UserId, \"left\").\\\n",
    "withColumnRenamed(\"Age\",\"PosterAge\").withColumnRenamed(\"UserReputation\",\"PosterReputation\").\\\n",
    "drop(\"PosterOwnerUserId\",\"UserId\")\n",
    "join_df = questions_with_users.join(accepted_answers, accepted_answers.AnswerId == questions.AcceptedAnswerId, 'full')\n",
    "join_df = join_df.join(users, join_df.OwnerUserId == users.UserId, \"left\").\\\n",
    "drop(\"AcceptedAnswerId\",\"UserId\",\"OwnerUserId\", \"AnswerId\", \"Id\")"
   ]
  },
  {
   "cell_type": "code",
   "execution_count": 22,
   "metadata": {
    "collapsed": true
   },
   "outputs": [],
   "source": [
    "#join_df.toPandas()"
   ]
  },
  {
   "cell_type": "code",
   "execution_count": 23,
   "metadata": {},
   "outputs": [
    {
     "data": {
      "text/html": [
       "<div>\n",
       "<style>\n",
       "    .dataframe thead tr:only-child th {\n",
       "        text-align: right;\n",
       "    }\n",
       "\n",
       "    .dataframe thead th {\n",
       "        text-align: left;\n",
       "    }\n",
       "\n",
       "    .dataframe tbody tr th {\n",
       "        vertical-align: top;\n",
       "    }\n",
       "</style>\n",
       "<table border=\"1\" class=\"dataframe\">\n",
       "  <thead>\n",
       "    <tr style=\"text-align: right;\">\n",
       "      <th></th>\n",
       "      <th>summary</th>\n",
       "      <th>ParsedCreationDate</th>\n",
       "      <th>ParsedClosedDate</th>\n",
       "      <th>TagCount</th>\n",
       "      <th>TitleLength</th>\n",
       "      <th>PosterReputation</th>\n",
       "      <th>PosterAge</th>\n",
       "      <th>AnsParsedCreationDate</th>\n",
       "      <th>UserReputation</th>\n",
       "      <th>Age</th>\n",
       "    </tr>\n",
       "  </thead>\n",
       "  <tbody>\n",
       "    <tr>\n",
       "      <th>0</th>\n",
       "      <td>count</td>\n",
       "      <td>29301</td>\n",
       "      <td>2511</td>\n",
       "      <td>29301</td>\n",
       "      <td>29301</td>\n",
       "      <td>28727</td>\n",
       "      <td>12214</td>\n",
       "      <td>17917</td>\n",
       "      <td>17208</td>\n",
       "      <td>7763</td>\n",
       "    </tr>\n",
       "    <tr>\n",
       "      <th>1</th>\n",
       "      <td>mean</td>\n",
       "      <td>6.3530990516967476E10</td>\n",
       "      <td>6.35485619340693E10</td>\n",
       "      <td>2.0557660148117813</td>\n",
       "      <td>59.35329852223474</td>\n",
       "      <td>12918.052981515648</td>\n",
       "      <td>34.68536106107745</td>\n",
       "      <td>6.352499363107306E10</td>\n",
       "      <td>49932.78074151558</td>\n",
       "      <td>37.24591008630684</td>\n",
       "    </tr>\n",
       "    <tr>\n",
       "      <th>2</th>\n",
       "      <td>stddev</td>\n",
       "      <td>4.504117517012715E7</td>\n",
       "      <td>3.532019377350662E7</td>\n",
       "      <td>0.9919622077292334</td>\n",
       "      <td>22.55610271635549</td>\n",
       "      <td>33500.48405203392</td>\n",
       "      <td>11.211497949946038</td>\n",
       "      <td>4.6620306413311735E7</td>\n",
       "      <td>63437.14410370897</td>\n",
       "      <td>9.559868164116324</td>\n",
       "    </tr>\n",
       "    <tr>\n",
       "      <th>3</th>\n",
       "      <td>min</td>\n",
       "      <td>6.3430377E10</td>\n",
       "      <td>6.3431139E10</td>\n",
       "      <td>1.0</td>\n",
       "      <td>15.0</td>\n",
       "      <td>1.0</td>\n",
       "      <td>14.0</td>\n",
       "      <td>6.3430377E10</td>\n",
       "      <td>1.0</td>\n",
       "      <td>14.0</td>\n",
       "    </tr>\n",
       "    <tr>\n",
       "      <th>4</th>\n",
       "      <td>max</td>\n",
       "      <td>6.3592829E10</td>\n",
       "      <td>6.3592829E10</td>\n",
       "      <td>5.0</td>\n",
       "      <td>168.0</td>\n",
       "      <td>198942.0</td>\n",
       "      <td>96.0</td>\n",
       "      <td>6.3592825E10</td>\n",
       "      <td>198942.0</td>\n",
       "      <td>96.0</td>\n",
       "    </tr>\n",
       "  </tbody>\n",
       "</table>\n",
       "</div>"
      ],
      "text/plain": [
       "  summary     ParsedCreationDate     ParsedClosedDate            TagCount  \\\n",
       "0   count                  29301                 2511               29301   \n",
       "1    mean  6.3530990516967476E10  6.35485619340693E10  2.0557660148117813   \n",
       "2  stddev    4.504117517012715E7  3.532019377350662E7  0.9919622077292334   \n",
       "3     min           6.3430377E10         6.3431139E10                 1.0   \n",
       "4     max           6.3592829E10         6.3592829E10                 5.0   \n",
       "\n",
       "         TitleLength    PosterReputation           PosterAge  \\\n",
       "0              29301               28727               12214   \n",
       "1  59.35329852223474  12918.052981515648   34.68536106107745   \n",
       "2  22.55610271635549   33500.48405203392  11.211497949946038   \n",
       "3               15.0                 1.0                14.0   \n",
       "4              168.0            198942.0                96.0   \n",
       "\n",
       "  AnsParsedCreationDate     UserReputation                Age  \n",
       "0                 17917              17208               7763  \n",
       "1  6.352499363107306E10  49932.78074151558  37.24591008630684  \n",
       "2  4.6620306413311735E7  63437.14410370897  9.559868164116324  \n",
       "3          6.3430377E10                1.0               14.0  \n",
       "4          6.3592825E10           198942.0               96.0  "
      ]
     },
     "execution_count": 23,
     "metadata": {},
     "output_type": "execute_result"
    }
   ],
   "source": [
    "join_df.describe().toPandas()"
   ]
  },
  {
   "cell_type": "markdown",
   "metadata": {},
   "source": [
    "## Final formatting and adding censored variable and final time"
   ]
  },
  {
   "cell_type": "code",
   "execution_count": 24,
   "metadata": {
    "collapsed": true
   },
   "outputs": [],
   "source": [
    "def final_time(ParsedCreationDate, ParsedClosedDate, AnsParsedCreationDate):\n",
    "\n",
    "    if(AnsParsedCreationDate):\n",
    "        return AnsParsedCreationDate-ParsedCreationDate\n",
    "    elif(ParsedClosedDate):\n",
    "        return ParsedClosedDate-ParsedCreationDate\n",
    "    else:\n",
    "        return max_time-ParsedCreationDate\n",
    "\n",
    "final_time_udf = udf(final_time, stypes.FloatType())\n",
    "\n",
    "def censoring_status(ParsedCreationDate, ParsedClosedDate, AnsParsedCreationDate):\n",
    "    \n",
    "    if(AnsParsedCreationDate):\n",
    "        return float(1)\n",
    "    elif(ParsedClosedDate):\n",
    "        return float(0)\n",
    "    else:\n",
    "        return float(0)\n",
    "    \n",
    "censoring_status_udf = udf(censoring_status, stypes.FloatType())"
   ]
  },
  {
   "cell_type": "code",
   "execution_count": 25,
   "metadata": {
    "collapsed": true,
    "scrolled": false
   },
   "outputs": [],
   "source": [
    "final_df = join_df.\\\n",
    "withColumn(\"FinalTime\",\\\n",
    "final_time_udf(join_df.ParsedCreationDate, join_df.ParsedClosedDate, join_df.AnsParsedCreationDate)).\\\n",
    "withColumn(\"CensoringStatus\",\\\n",
    "censoring_status_udf(join_df.ParsedCreationDate, join_df.ParsedClosedDate, join_df.AnsParsedCreationDate)).\\\n",
    "drop(\"ParsedCreationDate\", \"ParsedClosedDate\", \"AnsParsedCreationDate\")"
   ]
  },
  {
   "cell_type": "code",
   "execution_count": 26,
   "metadata": {
    "scrolled": false
   },
   "outputs": [
    {
     "data": {
      "text/html": [
       "<div>\n",
       "<style>\n",
       "    .dataframe thead tr:only-child th {\n",
       "        text-align: right;\n",
       "    }\n",
       "\n",
       "    .dataframe thead th {\n",
       "        text-align: left;\n",
       "    }\n",
       "\n",
       "    .dataframe tbody tr th {\n",
       "        vertical-align: top;\n",
       "    }\n",
       "</style>\n",
       "<table border=\"1\" class=\"dataframe\">\n",
       "  <thead>\n",
       "    <tr style=\"text-align: right;\">\n",
       "      <th></th>\n",
       "      <th>summary</th>\n",
       "      <th>TagCount</th>\n",
       "      <th>TitleLength</th>\n",
       "      <th>PosterReputation</th>\n",
       "      <th>PosterAge</th>\n",
       "      <th>UserReputation</th>\n",
       "      <th>Age</th>\n",
       "      <th>FinalTime</th>\n",
       "      <th>CensoringStatus</th>\n",
       "    </tr>\n",
       "  </thead>\n",
       "  <tbody>\n",
       "    <tr>\n",
       "      <th>0</th>\n",
       "      <td>count</td>\n",
       "      <td>29301</td>\n",
       "      <td>29301</td>\n",
       "      <td>28727</td>\n",
       "      <td>12214</td>\n",
       "      <td>17208</td>\n",
       "      <td>7763</td>\n",
       "      <td>29301</td>\n",
       "      <td>29301</td>\n",
       "    </tr>\n",
       "    <tr>\n",
       "      <th>1</th>\n",
       "      <td>mean</td>\n",
       "      <td>2.0557660148117813</td>\n",
       "      <td>59.35329852223474</td>\n",
       "      <td>12918.052981515648</td>\n",
       "      <td>34.68536106107745</td>\n",
       "      <td>49932.78074151558</td>\n",
       "      <td>37.24591008630684</td>\n",
       "      <td>1.7990164601617694E7</td>\n",
       "      <td>0.6114808368315074</td>\n",
       "    </tr>\n",
       "    <tr>\n",
       "      <th>2</th>\n",
       "      <td>stddev</td>\n",
       "      <td>0.9919622077292334</td>\n",
       "      <td>22.55610271635549</td>\n",
       "      <td>33500.48405203392</td>\n",
       "      <td>11.211497949946038</td>\n",
       "      <td>63437.14410370897</td>\n",
       "      <td>9.559868164116324</td>\n",
       "      <td>3.325815829370682E7</td>\n",
       "      <td>0.48742192326517086</td>\n",
       "    </tr>\n",
       "    <tr>\n",
       "      <th>3</th>\n",
       "      <td>min</td>\n",
       "      <td>1.0</td>\n",
       "      <td>15.0</td>\n",
       "      <td>1.0</td>\n",
       "      <td>14.0</td>\n",
       "      <td>1.0</td>\n",
       "      <td>14.0</td>\n",
       "      <td>-5.6172544E7</td>\n",
       "      <td>0.0</td>\n",
       "    </tr>\n",
       "    <tr>\n",
       "      <th>4</th>\n",
       "      <td>max</td>\n",
       "      <td>5.0</td>\n",
       "      <td>168.0</td>\n",
       "      <td>198942.0</td>\n",
       "      <td>96.0</td>\n",
       "      <td>198942.0</td>\n",
       "      <td>96.0</td>\n",
       "      <td>1.62443264E8</td>\n",
       "      <td>1.0</td>\n",
       "    </tr>\n",
       "  </tbody>\n",
       "</table>\n",
       "</div>"
      ],
      "text/plain": [
       "  summary            TagCount        TitleLength    PosterReputation  \\\n",
       "0   count               29301              29301               28727   \n",
       "1    mean  2.0557660148117813  59.35329852223474  12918.052981515648   \n",
       "2  stddev  0.9919622077292334  22.55610271635549   33500.48405203392   \n",
       "3     min                 1.0               15.0                 1.0   \n",
       "4     max                 5.0              168.0            198942.0   \n",
       "\n",
       "            PosterAge     UserReputation                Age  \\\n",
       "0               12214              17208               7763   \n",
       "1   34.68536106107745  49932.78074151558  37.24591008630684   \n",
       "2  11.211497949946038  63437.14410370897  9.559868164116324   \n",
       "3                14.0                1.0               14.0   \n",
       "4                96.0           198942.0               96.0   \n",
       "\n",
       "              FinalTime      CensoringStatus  \n",
       "0                 29301                29301  \n",
       "1  1.7990164601617694E7   0.6114808368315074  \n",
       "2   3.325815829370682E7  0.48742192326517086  \n",
       "3          -5.6172544E7                  0.0  \n",
       "4          1.62443264E8                  1.0  "
      ]
     },
     "execution_count": 26,
     "metadata": {},
     "output_type": "execute_result"
    }
   ],
   "source": [
    "final_df.describe().toPandas()"
   ]
  },
  {
   "cell_type": "markdown",
   "metadata": {},
   "source": [
    "\n",
    "## Filtering invalid results"
   ]
  },
  {
   "cell_type": "code",
   "execution_count": 27,
   "metadata": {
    "collapsed": true
   },
   "outputs": [],
   "source": [
    "final_filtered_df = final_df.filter(final_df.FinalTime > float(0))"
   ]
  },
  {
   "cell_type": "code",
   "execution_count": 28,
   "metadata": {
    "scrolled": false
   },
   "outputs": [
    {
     "data": {
      "text/html": [
       "<div>\n",
       "<style>\n",
       "    .dataframe thead tr:only-child th {\n",
       "        text-align: right;\n",
       "    }\n",
       "\n",
       "    .dataframe thead th {\n",
       "        text-align: left;\n",
       "    }\n",
       "\n",
       "    .dataframe tbody tr th {\n",
       "        vertical-align: top;\n",
       "    }\n",
       "</style>\n",
       "<table border=\"1\" class=\"dataframe\">\n",
       "  <thead>\n",
       "    <tr style=\"text-align: right;\">\n",
       "      <th></th>\n",
       "      <th>summary</th>\n",
       "      <th>TagCount</th>\n",
       "      <th>TitleLength</th>\n",
       "      <th>PosterReputation</th>\n",
       "      <th>PosterAge</th>\n",
       "      <th>UserReputation</th>\n",
       "      <th>Age</th>\n",
       "      <th>FinalTime</th>\n",
       "      <th>CensoringStatus</th>\n",
       "    </tr>\n",
       "  </thead>\n",
       "  <tbody>\n",
       "    <tr>\n",
       "      <th>0</th>\n",
       "      <td>count</td>\n",
       "      <td>24009</td>\n",
       "      <td>24009</td>\n",
       "      <td>23517</td>\n",
       "      <td>9683</td>\n",
       "      <td>12425</td>\n",
       "      <td>5554</td>\n",
       "      <td>24009</td>\n",
       "      <td>24009</td>\n",
       "    </tr>\n",
       "    <tr>\n",
       "      <th>1</th>\n",
       "      <td>mean</td>\n",
       "      <td>2.058894581198717</td>\n",
       "      <td>59.9233204215086</td>\n",
       "      <td>12649.858017604287</td>\n",
       "      <td>34.83228338324899</td>\n",
       "      <td>46809.372796780684</td>\n",
       "      <td>37.44382427079582</td>\n",
       "      <td>2.195890047365571E7</td>\n",
       "      <td>0.5387146486734141</td>\n",
       "    </tr>\n",
       "    <tr>\n",
       "      <th>2</th>\n",
       "      <td>stddev</td>\n",
       "      <td>0.9926152490165466</td>\n",
       "      <td>22.637822393134446</td>\n",
       "      <td>33794.18142702922</td>\n",
       "      <td>11.252678205914636</td>\n",
       "      <td>62553.06355062486</td>\n",
       "      <td>9.477650292365588</td>\n",
       "      <td>3.553240806671485E7</td>\n",
       "      <td>0.4985093045706418</td>\n",
       "    </tr>\n",
       "    <tr>\n",
       "      <th>3</th>\n",
       "      <td>min</td>\n",
       "      <td>1.0</td>\n",
       "      <td>15.0</td>\n",
       "      <td>1.0</td>\n",
       "      <td>14.0</td>\n",
       "      <td>1.0</td>\n",
       "      <td>14.0</td>\n",
       "      <td>4096.0</td>\n",
       "      <td>0.0</td>\n",
       "    </tr>\n",
       "    <tr>\n",
       "      <th>4</th>\n",
       "      <td>max</td>\n",
       "      <td>5.0</td>\n",
       "      <td>168.0</td>\n",
       "      <td>198942.0</td>\n",
       "      <td>96.0</td>\n",
       "      <td>198942.0</td>\n",
       "      <td>96.0</td>\n",
       "      <td>1.62443264E8</td>\n",
       "      <td>1.0</td>\n",
       "    </tr>\n",
       "  </tbody>\n",
       "</table>\n",
       "</div>"
      ],
      "text/plain": [
       "  summary            TagCount         TitleLength    PosterReputation  \\\n",
       "0   count               24009               24009               23517   \n",
       "1    mean   2.058894581198717    59.9233204215086  12649.858017604287   \n",
       "2  stddev  0.9926152490165466  22.637822393134446   33794.18142702922   \n",
       "3     min                 1.0                15.0                 1.0   \n",
       "4     max                 5.0               168.0            198942.0   \n",
       "\n",
       "            PosterAge      UserReputation                Age  \\\n",
       "0                9683               12425               5554   \n",
       "1   34.83228338324899  46809.372796780684  37.44382427079582   \n",
       "2  11.252678205914636   62553.06355062486  9.477650292365588   \n",
       "3                14.0                 1.0               14.0   \n",
       "4                96.0            198942.0               96.0   \n",
       "\n",
       "             FinalTime     CensoringStatus  \n",
       "0                24009               24009  \n",
       "1  2.195890047365571E7  0.5387146486734141  \n",
       "2  3.553240806671485E7  0.4985093045706418  \n",
       "3               4096.0                 0.0  \n",
       "4         1.62443264E8                 1.0  "
      ]
     },
     "execution_count": 28,
     "metadata": {},
     "output_type": "execute_result"
    }
   ],
   "source": [
    "final_filtered_df.describe().toPandas()"
   ]
  },
  {
   "cell_type": "code",
   "execution_count": 29,
   "metadata": {
    "collapsed": true
   },
   "outputs": [],
   "source": [
    "#final_filtered_df.select(\"FinalTime\",\"CensoringStatus\",\"TagCount\",\"TitleLength\",\"UserReputation\",\"Age\")\\\n",
    "#.toPandas().to_csv(\"/Users/Mat/Desktop/final_df\")"
   ]
  },
  {
   "cell_type": "code",
   "execution_count": 30,
   "metadata": {
    "collapsed": true,
    "scrolled": false
   },
   "outputs": [],
   "source": [
    "#final_filtered_df.select(\"FinalTime\",\"CensoringStatus\",\"TagCount\",\"TitleLength\",\"UserReputation\",\"Age\").\\\n",
    "#write.csv(\"/Users/Mat/Desktop/final_df_float\")"
   ]
  },
  {
   "cell_type": "markdown",
   "metadata": {},
   "source": [
    "## Dealing with missing values"
   ]
  },
  {
   "cell_type": "code",
   "execution_count": 30,
   "metadata": {},
   "outputs": [
    {
     "data": {
      "text/html": [
       "<div>\n",
       "<style>\n",
       "    .dataframe thead tr:only-child th {\n",
       "        text-align: right;\n",
       "    }\n",
       "\n",
       "    .dataframe thead th {\n",
       "        text-align: left;\n",
       "    }\n",
       "\n",
       "    .dataframe tbody tr th {\n",
       "        vertical-align: top;\n",
       "    }\n",
       "</style>\n",
       "<table border=\"1\" class=\"dataframe\">\n",
       "  <thead>\n",
       "    <tr style=\"text-align: right;\">\n",
       "      <th></th>\n",
       "      <th>summary</th>\n",
       "      <th>TagCount</th>\n",
       "      <th>TitleLength</th>\n",
       "      <th>PosterReputation</th>\n",
       "      <th>PosterAge</th>\n",
       "      <th>FinalTime</th>\n",
       "      <th>CensoringStatus</th>\n",
       "    </tr>\n",
       "  </thead>\n",
       "  <tbody>\n",
       "    <tr>\n",
       "      <th>0</th>\n",
       "      <td>count</td>\n",
       "      <td>24009</td>\n",
       "      <td>24009</td>\n",
       "      <td>23517</td>\n",
       "      <td>9683</td>\n",
       "      <td>24009</td>\n",
       "      <td>24009</td>\n",
       "    </tr>\n",
       "    <tr>\n",
       "      <th>1</th>\n",
       "      <td>mean</td>\n",
       "      <td>2.058894581198717</td>\n",
       "      <td>59.9233204215086</td>\n",
       "      <td>12649.858017604287</td>\n",
       "      <td>34.83228338324899</td>\n",
       "      <td>2.195890047365571E7</td>\n",
       "      <td>0.5387146486734141</td>\n",
       "    </tr>\n",
       "    <tr>\n",
       "      <th>2</th>\n",
       "      <td>stddev</td>\n",
       "      <td>0.9926152490165466</td>\n",
       "      <td>22.637822393134446</td>\n",
       "      <td>33794.18142702922</td>\n",
       "      <td>11.252678205914636</td>\n",
       "      <td>3.553240806671485E7</td>\n",
       "      <td>0.4985093045706418</td>\n",
       "    </tr>\n",
       "    <tr>\n",
       "      <th>3</th>\n",
       "      <td>min</td>\n",
       "      <td>1.0</td>\n",
       "      <td>15.0</td>\n",
       "      <td>1.0</td>\n",
       "      <td>14.0</td>\n",
       "      <td>4096.0</td>\n",
       "      <td>0.0</td>\n",
       "    </tr>\n",
       "    <tr>\n",
       "      <th>4</th>\n",
       "      <td>max</td>\n",
       "      <td>5.0</td>\n",
       "      <td>168.0</td>\n",
       "      <td>198942.0</td>\n",
       "      <td>96.0</td>\n",
       "      <td>1.62443264E8</td>\n",
       "      <td>1.0</td>\n",
       "    </tr>\n",
       "  </tbody>\n",
       "</table>\n",
       "</div>"
      ],
      "text/plain": [
       "  summary            TagCount         TitleLength    PosterReputation  \\\n",
       "0   count               24009               24009               23517   \n",
       "1    mean   2.058894581198717    59.9233204215086  12649.858017604287   \n",
       "2  stddev  0.9926152490165466  22.637822393134446   33794.18142702922   \n",
       "3     min                 1.0                15.0                 1.0   \n",
       "4     max                 5.0               168.0            198942.0   \n",
       "\n",
       "            PosterAge            FinalTime     CensoringStatus  \n",
       "0                9683                24009               24009  \n",
       "1   34.83228338324899  2.195890047365571E7  0.5387146486734141  \n",
       "2  11.252678205914636  3.553240806671485E7  0.4985093045706418  \n",
       "3                14.0               4096.0                 0.0  \n",
       "4                96.0         1.62443264E8                 1.0  "
      ]
     },
     "execution_count": 30,
     "metadata": {},
     "output_type": "execute_result"
    }
   ],
   "source": [
    "final_reduced_df = final_filtered_df.drop(\"Age\",\"UserReputation\")\n",
    "final_reduced_df.describe().toPandas()"
   ]
  },
  {
   "cell_type": "markdown",
   "metadata": {},
   "source": [
    "### UDF to fill NaNs"
   ]
  },
  {
   "cell_type": "code",
   "execution_count": null,
   "metadata": {
    "collapsed": true
   },
   "outputs": [],
   "source": [
    "parse_time_udf = udf(lambda x: \\\n",
    "    float((datetime.strptime(x.split(\".\")[0], '%Y-%m-%dT%H:%M:%S') - datetime.min).total_seconds()),\\\n",
    "    stypes.FloatType()\n",
    ")\n",
    "fill_poster_reputation = udf(lambda x:\n",
    "    float(rand)\n",
    ")\n"
   ]
  },
  {
   "cell_type": "code",
   "execution_count": null,
   "metadata": {
    "collapsed": true
   },
   "outputs": [],
   "source": []
  },
  {
   "cell_type": "markdown",
   "metadata": {},
   "source": [
    "### Poster Reputation"
   ]
  },
  {
   "cell_type": "code",
   "execution_count": 38,
   "metadata": {},
   "outputs": [
    {
     "data": {
      "text/html": [
       "<div>\n",
       "<style>\n",
       "    .dataframe thead tr:only-child th {\n",
       "        text-align: right;\n",
       "    }\n",
       "\n",
       "    .dataframe thead th {\n",
       "        text-align: left;\n",
       "    }\n",
       "\n",
       "    .dataframe tbody tr th {\n",
       "        vertical-align: top;\n",
       "    }\n",
       "</style>\n",
       "<table border=\"1\" class=\"dataframe\">\n",
       "  <thead>\n",
       "    <tr style=\"text-align: right;\">\n",
       "      <th></th>\n",
       "      <th>summary</th>\n",
       "      <th>PosterReputation</th>\n",
       "    </tr>\n",
       "  </thead>\n",
       "  <tbody>\n",
       "    <tr>\n",
       "      <th>0</th>\n",
       "      <td>count</td>\n",
       "      <td>23517</td>\n",
       "    </tr>\n",
       "    <tr>\n",
       "      <th>1</th>\n",
       "      <td>mean</td>\n",
       "      <td>12649.858017604287</td>\n",
       "    </tr>\n",
       "    <tr>\n",
       "      <th>2</th>\n",
       "      <td>stddev</td>\n",
       "      <td>33794.18142702922</td>\n",
       "    </tr>\n",
       "    <tr>\n",
       "      <th>3</th>\n",
       "      <td>min</td>\n",
       "      <td>1.0</td>\n",
       "    </tr>\n",
       "    <tr>\n",
       "      <th>4</th>\n",
       "      <td>max</td>\n",
       "      <td>198942.0</td>\n",
       "    </tr>\n",
       "  </tbody>\n",
       "</table>\n",
       "</div>"
      ],
      "text/plain": [
       "  summary    PosterReputation\n",
       "0   count               23517\n",
       "1    mean  12649.858017604287\n",
       "2  stddev   33794.18142702922\n",
       "3     min                 1.0\n",
       "4     max            198942.0"
      ]
     },
     "execution_count": 38,
     "metadata": {},
     "output_type": "execute_result"
    }
   ],
   "source": [
    "final_reduced_df.select(\"PosterReputation\").describe().toPandas()"
   ]
  },
  {
   "cell_type": "code",
   "execution_count": 37,
   "metadata": {},
   "outputs": [
    {
     "data": {
      "text/plain": [
       "array([[<matplotlib.axes._subplots.AxesSubplot object at 0x7f06df781390>]], dtype=object)"
      ]
     },
     "execution_count": 37,
     "metadata": {},
     "output_type": "execute_result"
    },
    {
     "data": {
      "image/png": "[encoded data removed]",
      "text/plain": [
       "<matplotlib.figure.Figure at 0x7f06df704cf8>"
      ]
     },
     "metadata": {},
     "output_type": "display_data"
    }
   ],
   "source": [
    "final_reduced_df.select(\"PosterReputation\").where(final_reduced_df.PosterReputation<5E3).toPandas().hist()"
   ]
  },
  {
   "cell_type": "code",
   "execution_count": null,
   "metadata": {
    "collapsed": true
   },
   "outputs": [],
   "source": []
  },
  {
   "cell_type": "markdown",
   "metadata": {},
   "source": [
    "## Filling NaNs"
   ]
  },
  {
   "cell_type": "code",
   "execution_count": 70,
   "metadata": {
    "collapsed": true
   },
   "outputs": [],
   "source": [
    "import scipy.stats as stats"
   ]
  },
  {
   "cell_type": "code",
   "execution_count": 31,
   "metadata": {
    "collapsed": true
   },
   "outputs": [],
   "source": [
    "pd_df = final_filtered_df.toPandas()"
   ]
  },
  {
   "cell_type": "code",
   "execution_count": 69,
   "metadata": {},
   "outputs": [
    {
     "data": {
      "text/plain": [
       "True"
      ]
     },
     "execution_count": 69,
     "metadata": {},
     "output_type": "execute_result"
    }
   ],
   "source": [
    "pd_df.PosterAge.tolist()[14] is np.nan\n",
    "np.isnan(pd_df.PosterAge.tolist()[14])"
   ]
  },
  {
   "cell_type": "markdown",
   "metadata": {},
   "source": [
    "### Poster Age"
   ]
  },
  {
   "cell_type": "code",
   "execution_count": 73,
   "metadata": {},
   "outputs": [
    {
     "data": {
      "text/plain": [
       "NormaltestResult(statistic=2713.4505397977614, pvalue=0.0)"
      ]
     },
     "execution_count": 73,
     "metadata": {},
     "output_type": "execute_result"
    }
   ],
   "source": [
    "poster_age = pd_df.PosterAge.tolist()\n",
    "clean_poster_age = [age for age in poster_age if not np.isnan(age)]\n",
    "stats.normaltest(clean_poster_age)"
   ]
  },
  {
   "cell_type": "code",
   "execution_count": 79,
   "metadata": {},
   "outputs": [
    {
     "data": {
      "text/plain": [
       "(array([  2.77000000e+02,   7.03000000e+02,   1.03800000e+03,\n",
       "          1.99700000e+03,   1.18900000e+03,   1.66700000e+03,\n",
       "          5.84000000e+02,   1.07400000e+03,   1.58000000e+02,\n",
       "          6.85000000e+02,   1.70000000e+02,   1.80000000e+01,\n",
       "          2.60000000e+01,   4.00000000e+00,   2.00000000e+00,\n",
       "          2.00000000e+00,   0.00000000e+00,   5.40000000e+01,\n",
       "          1.00000000e+00,   3.40000000e+01]),\n",
       " array([ 14. ,  18.1,  22.2,  26.3,  30.4,  34.5,  38.6,  42.7,  46.8,\n",
       "         50.9,  55. ,  59.1,  63.2,  67.3,  71.4,  75.5,  79.6,  83.7,\n",
       "         87.8,  91.9,  96. ]),\n",
       " <a list of 20 Patch objects>)"
      ]
     },
     "execution_count": 79,
     "metadata": {},
     "output_type": "execute_result"
    },
    {
     "data": {
      "image/png": "[encoded data removed]",
      "text/plain": [
       "<matplotlib.figure.Figure at 0x7fae37201b38>"
      ]
     },
     "metadata": {},
     "output_type": "display_data"
    }
   ],
   "source": [
    "plt.hist(clean_poster_age, bins=20)"
   ]
  },
  {
   "cell_type": "markdown",
   "metadata": {},
   "source": [
    "### Age"
   ]
  },
  {
   "cell_type": "code",
   "execution_count": 75,
   "metadata": {},
   "outputs": [
    {
     "data": {
      "text/plain": [
       "NormaltestResult(statistic=519.75619875212999, pvalue=1.3689118200136037e-113)"
      ]
     },
     "execution_count": 75,
     "metadata": {},
     "output_type": "execute_result"
    }
   ],
   "source": [
    "age = pd_df.Age.tolist()\n",
    "clean_age = [x for x in age if not np.isnan(x)]\n",
    "stats.normaltest(clean_age)"
   ]
  },
  {
   "cell_type": "code",
   "execution_count": 78,
   "metadata": {},
   "outputs": [
    {
     "data": {
      "text/plain": [
       "(array([   27.,   135.,   463.,   821.,   753.,  1030.,   463.,  1094.,\n",
       "          233.,   297.,   203.,     6.,    18.,     0.,     0.,     0.,\n",
       "            0.,     2.,     0.,     9.]),\n",
       " array([ 14. ,  18.1,  22.2,  26.3,  30.4,  34.5,  38.6,  42.7,  46.8,\n",
       "         50.9,  55. ,  59.1,  63.2,  67.3,  71.4,  75.5,  79.6,  83.7,\n",
       "         87.8,  91.9,  96. ]),\n",
       " <a list of 20 Patch objects>)"
      ]
     },
     "execution_count": 78,
     "metadata": {},
     "output_type": "execute_result"
    },
    {
     "data": {
      "image/png": "[encoded data removed]",
      "text/plain": [
       "<matplotlib.figure.Figure at 0x7fae372010b8>"
      ]
     },
     "metadata": {},
     "output_type": "display_data"
    }
   ],
   "source": [
    "plt.hist(clean_age, bins=20)"
   ]
  },
  {
   "cell_type": "markdown",
   "metadata": {},
   "source": [
    "### Poster Reputation"
   ]
  },
  {
   "cell_type": "code",
   "execution_count": 85,
   "metadata": {},
   "outputs": [
    {
     "data": {
      "text/plain": [
       "NormaltestResult(statistic=20419.671081308985, pvalue=0.0)"
      ]
     },
     "execution_count": 85,
     "metadata": {},
     "output_type": "execute_result"
    }
   ],
   "source": [
    "reputation = pd_df.PosterReputation.tolist()\n",
    "clean_reputation = [x for x in reputation if not np.isnan(x)]\n",
    "log_clean_reputation = [np.log(x) for x in reputation if not np.isnan(x)]\n",
    "stats.normaltest(clean_reputation)"
   ]
  },
  {
   "cell_type": "code",
   "execution_count": 87,
   "metadata": {},
   "outputs": [
    {
     "data": {
      "text/plain": [
       "F_onewayResult(statistic=3291.6479331257601, pvalue=0.0)"
      ]
     },
     "execution_count": 87,
     "metadata": {},
     "output_type": "execute_result"
    }
   ],
   "source": [
    "stats.f_oneway(log_clean_reputation, clean_reputation)"
   ]
  },
  {
   "cell_type": "code",
   "execution_count": 93,
   "metadata": {
    "collapsed": true
   },
   "outputs": [],
   "source": [
    "var_log = stats.variation(log_clean_reputation)\n",
    "var_rep = stats.variation(clean_reputation)"
   ]
  },
  {
   "cell_type": "code",
   "execution_count": 94,
   "metadata": {},
   "outputs": [
    {
     "data": {
      "text/plain": [
       "<scipy.stats._distn_infrastructure.rv_frozen at 0x7fae366da208>"
      ]
     },
     "execution_count": 94,
     "metadata": {},
     "output_type": "execute_result"
    }
   ],
   "source": [
    "stats.f(var_log/var_rep, log_clean_reputation, clean_reputation)"
   ]
  },
  {
   "cell_type": "code",
   "execution_count": 97,
   "metadata": {},
   "outputs": [
    {
     "data": {
      "text/plain": [
       "0.4033070931733933"
      ]
     },
     "execution_count": 97,
     "metadata": {},
     "output_type": "execute_result"
    }
   ],
   "source": [
    "9683/24009"
   ]
  },
  {
   "cell_type": "code",
   "execution_count": null,
   "metadata": {
    "collapsed": true
   },
   "outputs": [],
   "source": [
    "stats.f"
   ]
  },
  {
   "cell_type": "code",
   "execution_count": 90,
   "metadata": {},
   "outputs": [
    {
     "data": {
      "text/plain": [
       "(array([[  617.,   683.,  2714.,  2710.,  3504.,  3717.,  3124.,  2347.,\n",
       "           193.,     0.],\n",
       "        [    0.,     0.,     0.,     0.,     0.,     0.,     0.,     0.,\n",
       "          2067.,     0.],\n",
       "        [    0.,     0.,     0.,     0.,     0.,     0.,     0.,     0.,\n",
       "           647.,   155.],\n",
       "        [    0.,     0.,     0.,     0.,     0.,     0.,     0.,     0.,\n",
       "             0.,   213.],\n",
       "        [    0.,     0.,     0.,     0.,     0.,     0.,     0.,     0.,\n",
       "             0.,   224.],\n",
       "        [    0.,     0.,     0.,     0.,     0.,     0.,     0.,     0.,\n",
       "             0.,     0.],\n",
       "        [    0.,     0.,     0.,     0.,     0.,     0.,     0.,     0.,\n",
       "             0.,     0.],\n",
       "        [    0.,     0.,     0.,     0.,     0.,     0.,     0.,     0.,\n",
       "             0.,    12.],\n",
       "        [    0.,     0.,     0.,     0.,     0.,     0.,     0.,     0.,\n",
       "             0.,    37.],\n",
       "        [    0.,     0.,     0.,     0.,     0.,     0.,     0.,     0.,\n",
       "             0.,   553.]]),\n",
       " array([  1.00000000e+00,   1.98951000e+04,   3.97892000e+04,\n",
       "          5.96833000e+04,   7.95774000e+04,   9.94715000e+04,\n",
       "          1.19365600e+05,   1.39259700e+05,   1.59153800e+05,\n",
       "          1.79047900e+05,   1.98942000e+05]),\n",
       " array([  0.        ,   1.22007686,   2.44015372,   3.66023058,\n",
       "          4.88030744,   6.1003843 ,   7.32046116,   8.54053802,\n",
       "          9.76061488,  10.98069174,  12.2007686 ]),\n",
       " <matplotlib.image.AxesImage at 0x7fae366cd518>)"
      ]
     },
     "execution_count": 90,
     "metadata": {},
     "output_type": "execute_result"
    },
    {
     "data": {
      "image/png": "[encoded data removed]",
      "text/plain": [
       "<matplotlib.figure.Figure at 0x7fae36735a90>"
      ]
     },
     "metadata": {},
     "output_type": "display_data"
    }
   ],
   "source": [
    "plt.hist2d(clean_reputation, log_clean_reputation)"
   ]
  },
  {
   "cell_type": "code",
   "execution_count": 88,
   "metadata": {},
   "outputs": [
    {
     "data": {
      "text/plain": [
       "(array([  1.82600000e+04,   1.34900000e+03,   9.68000000e+02,\n",
       "          1.09900000e+03,   2.29000000e+02,   5.73000000e+02,\n",
       "          1.50000000e+01,   1.98000000e+02,   2.24000000e+02,\n",
       "          0.00000000e+00,   0.00000000e+00,   0.00000000e+00,\n",
       "          0.00000000e+00,   0.00000000e+00,   1.20000000e+01,\n",
       "          0.00000000e+00,   0.00000000e+00,   3.70000000e+01,\n",
       "          0.00000000e+00,   5.53000000e+02]),\n",
       " array([  1.00000000e+00,   9.94805000e+03,   1.98951000e+04,\n",
       "          2.98421500e+04,   3.97892000e+04,   4.97362500e+04,\n",
       "          5.96833000e+04,   6.96303500e+04,   7.95774000e+04,\n",
       "          8.95244500e+04,   9.94715000e+04,   1.09418550e+05,\n",
       "          1.19365600e+05,   1.29312650e+05,   1.39259700e+05,\n",
       "          1.49206750e+05,   1.59153800e+05,   1.69100850e+05,\n",
       "          1.79047900e+05,   1.88994950e+05,   1.98942000e+05]),\n",
       " <a list of 20 Patch objects>)"
      ]
     },
     "execution_count": 88,
     "metadata": {},
     "output_type": "execute_result"
    },
    {
     "data": {
      "image/png": "[encoded data removed]",
      "text/plain": [
       "<matplotlib.figure.Figure at 0x7fae36873fd0>"
      ]
     },
     "metadata": {},
     "output_type": "display_data"
    }
   ],
   "source": [
    "plt.hist(clean_reputation,bins=20)"
   ]
  },
  {
   "cell_type": "code",
   "execution_count": null,
   "metadata": {
    "collapsed": true
   },
   "outputs": [],
   "source": []
  },
  {
   "cell_type": "code",
   "execution_count": 46,
   "metadata": {},
   "outputs": [
    {
     "name": "stdout",
     "output_type": "stream",
     "text": [
      "count    9683.000000\n",
      "mean       34.832283\n",
      "std        11.252678\n",
      "min        14.000000\n",
      "25%        27.000000\n",
      "50%        33.000000\n",
      "75%        41.000000\n",
      "max        96.000000\n",
      "Name: PosterAge, dtype: float64\n"
     ]
    },
    {
     "data": {
      "text/plain": [
       "<matplotlib.axes._subplots.AxesSubplot at 0x7fae3ff82710>"
      ]
     },
     "execution_count": 46,
     "metadata": {},
     "output_type": "execute_result"
    },
    {
     "data": {
      "image/png": "[encoded data removed]",
      "text/plain": [
       "<matplotlib.figure.Figure at 0x7fae404209e8>"
      ]
     },
     "metadata": {},
     "output_type": "display_data"
    }
   ],
   "source": [
    "print(pd_df.PosterAge.describe())\n",
    "pd_df.PosterAge.hist(bins=200)"
   ]
  },
  {
   "cell_type": "code",
   "execution_count": 44,
   "metadata": {},
   "outputs": [
    {
     "name": "stdout",
     "output_type": "stream",
     "text": [
      "count    5554.000000\n",
      "mean       37.443824\n",
      "std         9.477650\n",
      "min        14.000000\n",
      "25%        30.000000\n",
      "50%        37.000000\n",
      "75%        44.000000\n",
      "max        96.000000\n",
      "Name: Age, dtype: float64\n"
     ]
    },
    {
     "data": {
      "text/plain": [
       "<matplotlib.axes._subplots.AxesSubplot at 0x7fae4042ec50>"
      ]
     },
     "execution_count": 44,
     "metadata": {},
     "output_type": "execute_result"
    },
    {
     "data": {
      "image/png": "[encoded data removed]",
      "text/plain": [
       "<matplotlib.figure.Figure at 0x7fae4398d7b8>"
      ]
     },
     "metadata": {},
     "output_type": "display_data"
    }
   ],
   "source": [
    "print(pd_df.Age.describe())\n",
    "pd_df.Age.hist(bins=200)"
   ]
  },
  {
   "cell_type": "code",
   "execution_count": 33,
   "metadata": {},
   "outputs": [
    {
     "name": "stdout",
     "output_type": "stream",
     "text": [
      "37.0\n",
      "37.44382427079582\n",
      "0    44.0\n",
      "dtype: float64\n"
     ]
    }
   ],
   "source": [
    "print(pd_df.Age.median())\n",
    "print(pd_df.Age.mean())\n",
    "print(pd_df.Age.mode())"
   ]
  },
  {
   "cell_type": "code",
   "execution_count": 34,
   "metadata": {
    "collapsed": true
   },
   "outputs": [],
   "source": [
    "import random\n",
    "random.seed()"
   ]
  },
  {
   "cell_type": "code",
   "execution_count": 43,
   "metadata": {},
   "outputs": [
    {
     "data": {
      "text/plain": [
       "(array([  169.,   441.,   804.,  1065.,  1426.,  1686.,  1861.,  1419.,\n",
       "          845.,   284.]),\n",
       " array([ 15.4029446 ,  19.85385644,  24.30476828,  28.75568012,\n",
       "         33.20659197,  37.65750381,  42.10841565,  46.55932749,\n",
       "         51.01023934,  55.46115118,  59.91206302]),\n",
       " <a list of 10 Patch objects>)"
      ]
     },
     "execution_count": 43,
     "metadata": {},
     "output_type": "execute_result"
    },
    {
     "data": {
      "image/png": "[encoded data removed]",
      "text/plain": [
       "<matplotlib.figure.Figure at 0x7fae43b24f28>"
      ]
     },
     "metadata": {},
     "output_type": "display_data"
    }
   ],
   "source": [
    "plt.hist([random.triangular(15, 60, 44) for i in range(10000)])"
   ]
  },
  {
   "cell_type": "code",
   "execution_count": 36,
   "metadata": {},
   "outputs": [
    {
     "ename": "AssertionError",
     "evalue": "col should be Column",
     "output_type": "error",
     "traceback": [
      "\u001b[0;31m---------------------------------------------------------------------------\u001b[0m",
      "\u001b[0;31mAssertionError\u001b[0m                            Traceback (most recent call last)",
      "\u001b[0;32m<ipython-input-36-6f059caf2560>\u001b[0m in \u001b[0;36m<module>\u001b[0;34m()\u001b[0m\n\u001b[0;32m----> 1\u001b[0;31m \u001b[0mfinal_filtered_df_age\u001b[0m \u001b[0;34m=\u001b[0m \u001b[0mfinal_filtered_df\u001b[0m\u001b[0;34m.\u001b[0m\u001b[0mwithColumn\u001b[0m\u001b[0;34m(\u001b[0m\u001b[0;34m\"Age_full\"\u001b[0m\u001b[0;34m,\u001b[0m\u001b[0mfinal_filtered_df\u001b[0m\u001b[0;34m.\u001b[0m\u001b[0mselect\u001b[0m\u001b[0;34m(\u001b[0m\u001b[0;34m\"Age\"\u001b[0m\u001b[0;34m)\u001b[0m\u001b[0;34m.\u001b[0m\u001b[0mfillna\u001b[0m\u001b[0;34m(\u001b[0m\u001b[0mrandom\u001b[0m\u001b[0;34m.\u001b[0m\u001b[0mtriangular\u001b[0m\u001b[0;34m(\u001b[0m\u001b[0;36m15\u001b[0m\u001b[0;34m,\u001b[0m\u001b[0;36m60\u001b[0m\u001b[0;34m,\u001b[0m\u001b[0;36m44\u001b[0m\u001b[0;34m)\u001b[0m\u001b[0;34m)\u001b[0m\u001b[0;34m)\u001b[0m\u001b[0;34m.\u001b[0m\u001b[0mdrop\u001b[0m\u001b[0;34m(\u001b[0m\u001b[0;34m\"Age\"\u001b[0m\u001b[0;34m)\u001b[0m\u001b[0;34m\u001b[0m\u001b[0m\n\u001b[0m",
      "\u001b[0;32m/home/mat/spark-2.1.1-bin-hadoop2.7/python/pyspark/sql/dataframe.py\u001b[0m in \u001b[0;36mwithColumn\u001b[0;34m(self, colName, col)\u001b[0m\n\u001b[1;32m   1499\u001b[0m         \u001b[0;34m[\u001b[0m\u001b[0mRow\u001b[0m\u001b[0;34m(\u001b[0m\u001b[0mage\u001b[0m\u001b[0;34m=\u001b[0m\u001b[0;36m2\u001b[0m\u001b[0;34m,\u001b[0m \u001b[0mname\u001b[0m\u001b[0;34m=\u001b[0m\u001b[0;34mu'Alice'\u001b[0m\u001b[0;34m,\u001b[0m \u001b[0mage2\u001b[0m\u001b[0;34m=\u001b[0m\u001b[0;36m4\u001b[0m\u001b[0;34m)\u001b[0m\u001b[0;34m,\u001b[0m \u001b[0mRow\u001b[0m\u001b[0;34m(\u001b[0m\u001b[0mage\u001b[0m\u001b[0;34m=\u001b[0m\u001b[0;36m5\u001b[0m\u001b[0;34m,\u001b[0m \u001b[0mname\u001b[0m\u001b[0;34m=\u001b[0m\u001b[0;34mu'Bob'\u001b[0m\u001b[0;34m,\u001b[0m \u001b[0mage2\u001b[0m\u001b[0;34m=\u001b[0m\u001b[0;36m7\u001b[0m\u001b[0;34m)\u001b[0m\u001b[0;34m]\u001b[0m\u001b[0;34m\u001b[0m\u001b[0m\n\u001b[1;32m   1500\u001b[0m         \"\"\"\n\u001b[0;32m-> 1501\u001b[0;31m         \u001b[0;32massert\u001b[0m \u001b[0misinstance\u001b[0m\u001b[0;34m(\u001b[0m\u001b[0mcol\u001b[0m\u001b[0;34m,\u001b[0m \u001b[0mColumn\u001b[0m\u001b[0;34m)\u001b[0m\u001b[0;34m,\u001b[0m \u001b[0;34m\"col should be Column\"\u001b[0m\u001b[0;34m\u001b[0m\u001b[0m\n\u001b[0m\u001b[1;32m   1502\u001b[0m         \u001b[0;32mreturn\u001b[0m \u001b[0mDataFrame\u001b[0m\u001b[0;34m(\u001b[0m\u001b[0mself\u001b[0m\u001b[0;34m.\u001b[0m\u001b[0m_jdf\u001b[0m\u001b[0;34m.\u001b[0m\u001b[0mwithColumn\u001b[0m\u001b[0;34m(\u001b[0m\u001b[0mcolName\u001b[0m\u001b[0;34m,\u001b[0m \u001b[0mcol\u001b[0m\u001b[0;34m.\u001b[0m\u001b[0m_jc\u001b[0m\u001b[0;34m)\u001b[0m\u001b[0;34m,\u001b[0m \u001b[0mself\u001b[0m\u001b[0;34m.\u001b[0m\u001b[0msql_ctx\u001b[0m\u001b[0;34m)\u001b[0m\u001b[0;34m\u001b[0m\u001b[0m\n\u001b[1;32m   1503\u001b[0m \u001b[0;34m\u001b[0m\u001b[0m\n",
      "\u001b[0;31mAssertionError\u001b[0m: col should be Column"
     ]
    }
   ],
   "source": [
    "final_filtered_df_age = final_filtered_df.\\\n",
    "withColumn(\"Age_full\",final_filtered_df.select(\"Age\").fillna(random.triangular(15,60,44))).drop(\"Age\")"
   ]
  },
  {
   "cell_type": "code",
   "execution_count": null,
   "metadata": {
    "collapsed": true
   },
   "outputs": [],
   "source": [
    "cosa = final_filtered_df.select(\"Age\").fillna(random.triangular(15,60,44))\n",
    "cosa.describe().toPandas()"
   ]
  },
  {
   "cell_type": "code",
   "execution_count": null,
   "metadata": {
    "collapsed": true
   },
   "outputs": [],
   "source": [
    "final_filtered_df_age.describe().toPandas()"
   ]
  },
  {
   "cell_type": "markdown",
   "metadata": {},
   "source": [
    "## Grouping the categorical variables"
   ]
  },
  {
   "cell_type": "code",
   "execution_count": null,
   "metadata": {
    "collapsed": true
   },
   "outputs": [],
   "source": [
    "pd_df = final_filtered_df.toPandas()"
   ]
  },
  {
   "cell_type": "code",
   "execution_count": null,
   "metadata": {
    "collapsed": true
   },
   "outputs": [],
   "source": [
    "pd_df.cov()"
   ]
  },
  {
   "cell_type": "code",
   "execution_count": null,
   "metadata": {
    "collapsed": true
   },
   "outputs": [],
   "source": [
    "final_filtered_df.dropna().describe().toPandas()"
   ]
  },
  {
   "cell_type": "code",
   "execution_count": null,
   "metadata": {
    "collapsed": true
   },
   "outputs": [],
   "source": [
    "final_filtered_df.dropna().\\\n",
    "select(\"FinalTime\",\"CensoringStatus\",\"TagCount\",\"TitleLength\",\"UserReputation\",\"Age\",\"PosterReputation\",\"PosterAge\").\\\n",
    "write.csv(\"/home/mat/Escritorio/ejecucion_systemml/final_df/only_values/fileX\")"
   ]
  }
 ],
 "metadata": {
  "kernelspec": {
   "display_name": "Python 3",
   "language": "python",
   "name": "python3"
  },
  "language_info": {
   "codemirror_mode": {
    "name": "ipython",
    "version": 3
   },
   "file_extension": ".py",
   "mimetype": "text/x-python",
   "name": "python",
   "nbconvert_exporter": "python",
   "pygments_lexer": "ipython3",
   "version": "3.6.1"
  }
 },
 "nbformat": 4,
 "nbformat_minor": 2
}
