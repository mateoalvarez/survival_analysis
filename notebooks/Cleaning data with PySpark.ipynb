{
 "cells": [
  {
   "cell_type": "markdown",
   "metadata": {},
   "source": [
    "# Cleaning data with PySpark"
   ]
  },
  {
   "cell_type": "markdown",
   "metadata": {},
   "source": [
    "## Start spark context"
   ]
  },
  {
   "cell_type": "code",
   "execution_count": 1,
   "metadata": {},
   "outputs": [
    {
     "name": "stdout",
     "output_type": "stream",
     "text": [
      "<pyspark.context.SparkContext object at 0x7fcdcaf679e8>\n",
      "<pyspark.sql.context.SQLContext object at 0x7fcdcaf67978>\n"
     ]
    }
   ],
   "source": [
    "import findspark\n",
    "findspark.init()\n",
    "import pyspark\n",
    "from pyspark.sql import SQLContext\n",
    "sc = pyspark.SparkContext()\n",
    "sqlContext = SQLContext(sc)\n",
    "print(sc)\n",
    "print(sqlContext)"
   ]
  },
  {
   "cell_type": "code",
   "execution_count": 45,
   "metadata": {
    "collapsed": true
   },
   "outputs": [],
   "source": [
    "from pyspark.sql import SparkSession\n",
    "from pyspark.sql import types as stypes\n",
    "from pyspark.sql.functions import udf\n",
    "from pyspark_dist_explore import hist, distplot\n",
    "import matplotlib.pyplot as plt\n",
    "%matplotlib inline\n",
    "spark = SparkSession \\\n",
    "    .builder \\\n",
    "    .appName(\"Python Spark SQL cleaning data\") \\\n",
    "    .config(\"spark.some.config.option\", \"some-value\") \\\n",
    "    .getOrCreate()"
   ]
  },
  {
   "cell_type": "code",
   "execution_count": 3,
   "metadata": {
    "collapsed": true
   },
   "outputs": [],
   "source": [
    "from datetime import datetime\n",
    "from datetime import date"
   ]
  },
  {
   "cell_type": "markdown",
   "metadata": {},
   "source": [
    "## Posts import"
   ]
  },
  {
   "cell_type": "code",
   "execution_count": 4,
   "metadata": {
    "collapsed": true
   },
   "outputs": [],
   "source": [
    "fields = [\n",
    "    stypes.StructField(\"Id\", stypes.IntegerType(), True),\\\n",
    "    stypes.StructField(\"PostTypeId\", stypes.IntegerType(), True),\\\n",
    "    stypes.StructField(\"AcceptedAnswerId\", stypes.IntegerType(), True),\\\n",
    "    stypes.StructField(\"ParentId\", stypes.IntegerType(), True),\\\n",
    "    stypes.StructField(\"CreationDate\", stypes.StringType(), True),\\\n",
    "    stypes.StructField(\"DeletionDate\", stypes.StringType(), True),\\\n",
    "    stypes.StructField(\"Score\", stypes.IntegerType(), True),\\\n",
    "    stypes.StructField(\"ViewCount\", stypes.IntegerType(), True),\\\n",
    "    stypes.StructField(\"Body\", stypes.StringType(), True),\\\n",
    "    stypes.StructField(\"OwnerUserId\", stypes.IntegerType(), True),\\\n",
    "    stypes.StructField(\"OwnerDisplayName\", stypes.StringType(), True),\\\n",
    "    stypes.StructField(\"LastEditorUserId\", stypes.IntegerType(), True),\\\n",
    "    stypes.StructField(\"LastEditorDisplayName\", stypes.StringType(), True),\\\n",
    "    stypes.StructField(\"LastEditDate\", stypes.StringType(), True),\\\n",
    "    stypes.StructField(\"LastActivityDate\", stypes.StringType(), True),\\\n",
    "    stypes.StructField(\"Title\", stypes.StringType(), True),\\\n",
    "    stypes.StructField(\"Tags\", stypes.StringType(), True),\\\n",
    "    stypes.StructField(\"AnswerCount\", stypes.IntegerType(), True),\\\n",
    "    stypes.StructField(\"CommentCount\", stypes.IntegerType(), True),\\\n",
    "    stypes.StructField(\"FavoriteCount\", stypes.IntegerType(), True),\\\n",
    "    stypes.StructField(\"ClosedDate\", stypes.StringType(), True),\\\n",
    "    stypes.StructField(\"CommunityOwnedDate\", stypes.StringType(), True)\n",
    "]\n",
    "customSchema = stypes.StructType(fields)\n",
    "posts = sqlContext.read\\\n",
    ".format('com.databricks.spark.csv')\\\n",
    ".load(\"/home/mat/Escritorio/ejecucion_systemml/jupyter_notebook/data/posts_csv/part-00000\",\\\n",
    "      schema=customSchema)"
   ]
  },
  {
   "cell_type": "code",
   "execution_count": 5,
   "metadata": {
    "collapsed": true
   },
   "outputs": [],
   "source": [
    "#posts.toPandas()"
   ]
  },
  {
   "cell_type": "code",
   "execution_count": 6,
   "metadata": {
    "collapsed": true
   },
   "outputs": [],
   "source": [
    "reduced_posts = posts.drop('ParentId','Score','ViewCount','Body','OwnerDisplayName',\\\n",
    "                         'LastEditorUserId','LastEditorDisplayName','LastEditDate','LastActivityDate','AnswerCount',\\\n",
    "                         'CommentCount','FavoriteCount','CommunityOwnedDate','DeletionDate')"
   ]
  },
  {
   "cell_type": "code",
   "execution_count": 7,
   "metadata": {
    "collapsed": true
   },
   "outputs": [],
   "source": [
    "#reduced_posts.describe().toPandas()"
   ]
  },
  {
   "cell_type": "markdown",
   "metadata": {},
   "source": [
    "### UDF to transform questions columns"
   ]
  },
  {
   "cell_type": "code",
   "execution_count": 8,
   "metadata": {
    "collapsed": true
   },
   "outputs": [],
   "source": [
    "parse_time_udf = udf(lambda x: \\\n",
    "    float((datetime.strptime(x.split(\".\")[0], '%Y-%m-%dT%H:%M:%S') - datetime.min).total_seconds()),\\\n",
    "    stypes.FloatType()\n",
    ")\n",
    "\n",
    "parse_time_check_udf = udf(lambda x:\\\n",
    "    float((datetime.strptime(x.split(\".\")[0], '%Y-%m-%dT%H:%M:%S') - datetime.min).total_seconds())\\\n",
    "    if x is not None else None,\\\n",
    "    stypes.FloatType()\n",
    ")\n",
    "\n",
    "tag_counter_udf = udf(lambda x:\\\n",
    "    float(len([tag.split(\"&lt;\")[1] for tag in x.split(\"&gt;\")[0:-1]])),\\\n",
    "    stypes.FloatType()\n",
    ")\n",
    "\n",
    "title_length_udf = udf(lambda x:\\\n",
    "    float(len(x)),\\\n",
    "    stypes.FloatType()\n",
    ")"
   ]
  },
  {
   "cell_type": "markdown",
   "metadata": {},
   "source": [
    "## Questions import"
   ]
  },
  {
   "cell_type": "code",
   "execution_count": 9,
   "metadata": {
    "collapsed": true
   },
   "outputs": [],
   "source": [
    "questions = reduced_posts.filter(reduced_posts.PostTypeId == 1)\\\n",
    ".drop(\"PostTypeId\").drop(\"OwnerUserId\")\n",
    "questions = questions.\\\n",
    "withColumn(\"ParsedCreationDate\", parse_time_udf(questions.CreationDate)).\\\n",
    "withColumn(\"ParsedClosedDate\", parse_time_check_udf(questions.ClosedDate)).\\\n",
    "withColumn(\"TagCount\", tag_counter_udf(questions.Tags)).\\\n",
    "withColumn(\"TitleLength\", title_length_udf(questions.Title)).\\\n",
    "drop(\"CreationDate\",\"ClosedDate\", \"Tags\", \"Title\")"
   ]
  },
  {
   "cell_type": "code",
   "execution_count": 10,
   "metadata": {
    "collapsed": true,
    "scrolled": true
   },
   "outputs": [],
   "source": [
    "#questions.toPandas()"
   ]
  },
  {
   "cell_type": "code",
   "execution_count": 11,
   "metadata": {
    "collapsed": true,
    "scrolled": false
   },
   "outputs": [],
   "source": [
    "#questions.describe().toPandas()"
   ]
  },
  {
   "cell_type": "code",
   "execution_count": 12,
   "metadata": {},
   "outputs": [
    {
     "name": "stdout",
     "output_type": "stream",
     "text": [
      "63430377472.0\n"
     ]
    }
   ],
   "source": [
    "min_time = questions.select(questions.ParsedCreationDate).rdd.min()[0]\n",
    "print(min_time)"
   ]
  },
  {
   "cell_type": "markdown",
   "metadata": {},
   "source": [
    "# Answers import"
   ]
  },
  {
   "cell_type": "code",
   "execution_count": 13,
   "metadata": {
    "collapsed": true
   },
   "outputs": [],
   "source": [
    "answers = reduced_posts.filter(reduced_posts.PostTypeId == 2)\\\n",
    ".drop(\"AcceptedAnswerId\", \"Title\", \"Tags\", \"ClosedDate\",\"PostTypeId\")\n",
    "answers = answers.withColumn(\"AnsParsedCreationDate\", parse_time_udf(answers.CreationDate)).drop(answers.CreationDate)"
   ]
  },
  {
   "cell_type": "code",
   "execution_count": 14,
   "metadata": {
    "collapsed": true
   },
   "outputs": [],
   "source": [
    "#answers.describe().toPandas()"
   ]
  },
  {
   "cell_type": "code",
   "execution_count": 15,
   "metadata": {
    "collapsed": true
   },
   "outputs": [],
   "source": [
    "answers.registerTempTable(\"answers\")\n",
    "questions.registerTempTable(\"questions\")"
   ]
  },
  {
   "cell_type": "code",
   "execution_count": 16,
   "metadata": {
    "collapsed": true
   },
   "outputs": [],
   "source": [
    "accepted_answers = sqlContext\\\n",
    ".sql(\"SELECT * FROM answers WHERE answers.Id IN (SELECT AcceptedAnswerId FROM questions)\")\\\n",
    "\n",
    "accepted_answers = accepted_answers\\\n",
    ".withColumnRenamed(\"Id\", \"AnswerId\")\\"
   ]
  },
  {
   "cell_type": "code",
   "execution_count": 17,
   "metadata": {
    "collapsed": true
   },
   "outputs": [],
   "source": [
    "#accepted_answers.toPandas()"
   ]
  },
  {
   "cell_type": "code",
   "execution_count": 18,
   "metadata": {},
   "outputs": [
    {
     "name": "stdout",
     "output_type": "stream",
     "text": [
      "63592824832.0\n"
     ]
    }
   ],
   "source": [
    "max_time = accepted_answers.select(accepted_answers.AnsParsedCreationDate).rdd.max()[0]\n",
    "print(max_time)"
   ]
  },
  {
   "cell_type": "markdown",
   "metadata": {},
   "source": [
    "## Users import"
   ]
  },
  {
   "cell_type": "code",
   "execution_count": 19,
   "metadata": {
    "collapsed": true
   },
   "outputs": [],
   "source": [
    "fields = [\n",
    "    stypes.StructField(\"Id\", stypes.IntegerType(), True),\\\n",
    "    stypes.StructField(\"Reputation\", stypes.FloatType(), True),\\\n",
    "    stypes.StructField(\"CreationDate\", stypes.StringType(), True),\\\n",
    "    stypes.StructField(\"DisplayName\", stypes.StringType(), True),\\\n",
    "    stypes.StructField(\"LastAccessDate\", stypes.StringType(), True),\\\n",
    "    stypes.StructField(\"WebsiteUrl\", stypes.StringType(), True),\\\n",
    "    stypes.StructField(\"Location\", stypes.StringType(), True),\\\n",
    "    stypes.StructField(\"AboutMe\", stypes.StringType(), True),\\\n",
    "    stypes.StructField(\"Views\", stypes.IntegerType(), True),\\\n",
    "    stypes.StructField(\"UpVotes\", stypes.IntegerType(), True),\\\n",
    "    stypes.StructField(\"DownVotes\", stypes.IntegerType(), True),\\\n",
    "    stypes.StructField(\"Age\", stypes.FloatType(), True),\\\n",
    "    stypes.StructField(\"AccountId\", stypes.IntegerType(), True),\\\n",
    "]\n",
    "customSchema = stypes.StructType(fields)\n",
    "users = sqlContext.read\\\n",
    ".format('com.databricks.spark.csv')\\\n",
    ".load(\"/home/mat/Escritorio/ejecucion_systemml/jupyter_notebook/data/users_csv/part-00000\",\\\n",
    "      schema=customSchema)\n",
    "users.describe().toPandas()\n",
    "users = users.drop(\"CreationDate\",\"DisplayName\",\"LastAccessDate\",\"WebsiteUrl\",\"Location\",\"AboutMe\",\"Views\",\"UpVotes\",\\\n",
    "                   \"DownVotes\",\"AccountId\")\n",
    "users = users.withColumnRenamed(\"Id\",\"UserId\").withColumnRenamed(\"Reputation\",\"UserReputation\")"
   ]
  },
  {
   "cell_type": "code",
   "execution_count": 20,
   "metadata": {},
   "outputs": [
    {
     "data": {
      "text/html": [
       "<div>\n",
       "<style>\n",
       "    .dataframe thead tr:only-child th {\n",
       "        text-align: right;\n",
       "    }\n",
       "\n",
       "    .dataframe thead th {\n",
       "        text-align: left;\n",
       "    }\n",
       "\n",
       "    .dataframe tbody tr th {\n",
       "        vertical-align: top;\n",
       "    }\n",
       "</style>\n",
       "<table border=\"1\" class=\"dataframe\">\n",
       "  <thead>\n",
       "    <tr style=\"text-align: right;\">\n",
       "      <th></th>\n",
       "      <th>summary</th>\n",
       "      <th>UserId</th>\n",
       "      <th>UserReputation</th>\n",
       "      <th>Age</th>\n",
       "    </tr>\n",
       "  </thead>\n",
       "  <tbody>\n",
       "    <tr>\n",
       "      <th>0</th>\n",
       "      <td>count</td>\n",
       "      <td>43360</td>\n",
       "      <td>43360</td>\n",
       "      <td>12901</td>\n",
       "    </tr>\n",
       "    <tr>\n",
       "      <th>1</th>\n",
       "      <td>mean</td>\n",
       "      <td>31417.359202029522</td>\n",
       "      <td>171.96042435424354</td>\n",
       "      <td>33.28548174560112</td>\n",
       "    </tr>\n",
       "    <tr>\n",
       "      <th>2</th>\n",
       "      <td>stddev</td>\n",
       "      <td>19202.403149027137</td>\n",
       "      <td>2012.982474680336</td>\n",
       "      <td>10.22403146691696</td>\n",
       "    </tr>\n",
       "    <tr>\n",
       "      <th>3</th>\n",
       "      <td>min</td>\n",
       "      <td>-1</td>\n",
       "      <td>1.0</td>\n",
       "      <td>14.0</td>\n",
       "    </tr>\n",
       "    <tr>\n",
       "      <th>4</th>\n",
       "      <td>max</td>\n",
       "      <td>62923</td>\n",
       "      <td>198942.0</td>\n",
       "      <td>96.0</td>\n",
       "    </tr>\n",
       "  </tbody>\n",
       "</table>\n",
       "</div>"
      ],
      "text/plain": [
       "  summary              UserId      UserReputation                Age\n",
       "0   count               43360               43360              12901\n",
       "1    mean  31417.359202029522  171.96042435424354  33.28548174560112\n",
       "2  stddev  19202.403149027137   2012.982474680336  10.22403146691696\n",
       "3     min                  -1                 1.0               14.0\n",
       "4     max               62923            198942.0               96.0"
      ]
     },
     "execution_count": 20,
     "metadata": {},
     "output_type": "execute_result"
    }
   ],
   "source": [
    "users.describe().toPandas()"
   ]
  },
  {
   "cell_type": "markdown",
   "metadata": {},
   "source": [
    "# Join for final dataframe"
   ]
  },
  {
   "cell_type": "markdown",
   "metadata": {},
   "source": [
    "### First join answers with users"
   ]
  },
  {
   "cell_type": "code",
   "execution_count": 21,
   "metadata": {
    "collapsed": true
   },
   "outputs": [],
   "source": [
    "join_df = questions.join(accepted_answers, accepted_answers.AnswerId == questions.AcceptedAnswerId, 'full')\n",
    "join_df = join_df.join(users, join_df.OwnerUserId == users.UserId, \"left\").\\\n",
    "drop(\"AcceptedAnswerId\",\"UserId\",\"OwnerUserId\", \"AnswerId\", \"Id\")"
   ]
  },
  {
   "cell_type": "code",
   "execution_count": 22,
   "metadata": {
    "collapsed": true
   },
   "outputs": [],
   "source": [
    "#join_df.toPandas()"
   ]
  },
  {
   "cell_type": "code",
   "execution_count": 23,
   "metadata": {
    "collapsed": true
   },
   "outputs": [],
   "source": [
    "#join_df.describe().toPandas()"
   ]
  },
  {
   "cell_type": "markdown",
   "metadata": {},
   "source": [
    "## Final formatting and adding censored variable and final time"
   ]
  },
  {
   "cell_type": "code",
   "execution_count": 24,
   "metadata": {
    "collapsed": true
   },
   "outputs": [],
   "source": [
    "def final_time(ParsedCreationDate, ParsedClosedDate, AnsParsedCreationDate):\n",
    "\n",
    "    if(AnsParsedCreationDate):\n",
    "        return AnsParsedCreationDate-ParsedCreationDate\n",
    "    elif(ParsedClosedDate):\n",
    "        return ParsedClosedDate-ParsedCreationDate\n",
    "    else:\n",
    "        return max_time-ParsedCreationDate\n",
    "\n",
    "final_time_udf = udf(final_time, stypes.FloatType())\n",
    "\n",
    "def censoring_status(ParsedCreationDate, ParsedClosedDate, AnsParsedCreationDate):\n",
    "    \n",
    "    if(AnsParsedCreationDate):\n",
    "        return float(1)\n",
    "    elif(ParsedClosedDate):\n",
    "        return float(0)\n",
    "    else:\n",
    "        return float(0)\n",
    "    \n",
    "censoring_status_udf = udf(censoring_status, stypes.FloatType())"
   ]
  },
  {
   "cell_type": "code",
   "execution_count": 25,
   "metadata": {
    "collapsed": true,
    "scrolled": false
   },
   "outputs": [],
   "source": [
    "final_df = join_df.\\\n",
    "withColumn(\"FinalTime\",\\\n",
    "final_time_udf(join_df.ParsedCreationDate, join_df.ParsedClosedDate, join_df.AnsParsedCreationDate)).\\\n",
    "withColumn(\"CensoringStatus\",\\\n",
    "censoring_status_udf(join_df.ParsedCreationDate, join_df.ParsedClosedDate, join_df.AnsParsedCreationDate)).\\\n",
    "drop(\"ParsedCreationDate\", \"ParsedClosedDate\", \"AnsParsedCreationDate\")"
   ]
  },
  {
   "cell_type": "code",
   "execution_count": 26,
   "metadata": {
    "collapsed": true,
    "scrolled": true
   },
   "outputs": [],
   "source": [
    "#final_df.describe().toPandas()"
   ]
  },
  {
   "cell_type": "markdown",
   "metadata": {},
   "source": [
    "## Filtering invalid results"
   ]
  },
  {
   "cell_type": "code",
   "execution_count": 27,
   "metadata": {
    "collapsed": true
   },
   "outputs": [],
   "source": [
    "final_filtered_df = final_df.filter(final_df.FinalTime > float(0))"
   ]
  },
  {
   "cell_type": "code",
   "execution_count": 28,
   "metadata": {
    "scrolled": false
   },
   "outputs": [
    {
     "data": {
      "text/html": [
       "<div>\n",
       "<style>\n",
       "    .dataframe thead tr:only-child th {\n",
       "        text-align: right;\n",
       "    }\n",
       "\n",
       "    .dataframe thead th {\n",
       "        text-align: left;\n",
       "    }\n",
       "\n",
       "    .dataframe tbody tr th {\n",
       "        vertical-align: top;\n",
       "    }\n",
       "</style>\n",
       "<table border=\"1\" class=\"dataframe\">\n",
       "  <thead>\n",
       "    <tr style=\"text-align: right;\">\n",
       "      <th></th>\n",
       "      <th>summary</th>\n",
       "      <th>TagCount</th>\n",
       "      <th>TitleLength</th>\n",
       "      <th>UserReputation</th>\n",
       "      <th>Age</th>\n",
       "      <th>FinalTime</th>\n",
       "      <th>CensoringStatus</th>\n",
       "    </tr>\n",
       "  </thead>\n",
       "  <tbody>\n",
       "    <tr>\n",
       "      <th>0</th>\n",
       "      <td>count</td>\n",
       "      <td>24009</td>\n",
       "      <td>24009</td>\n",
       "      <td>12425</td>\n",
       "      <td>5554</td>\n",
       "      <td>24009</td>\n",
       "      <td>24009</td>\n",
       "    </tr>\n",
       "    <tr>\n",
       "      <th>1</th>\n",
       "      <td>mean</td>\n",
       "      <td>2.058894581198717</td>\n",
       "      <td>59.9233204215086</td>\n",
       "      <td>46809.372796780684</td>\n",
       "      <td>37.44382427079582</td>\n",
       "      <td>2.195890047365571E7</td>\n",
       "      <td>0.5387146486734141</td>\n",
       "    </tr>\n",
       "    <tr>\n",
       "      <th>2</th>\n",
       "      <td>stddev</td>\n",
       "      <td>0.9926152490165466</td>\n",
       "      <td>22.637822393134446</td>\n",
       "      <td>62553.06355062486</td>\n",
       "      <td>9.477650292365588</td>\n",
       "      <td>3.553240806671485E7</td>\n",
       "      <td>0.4985093045706418</td>\n",
       "    </tr>\n",
       "    <tr>\n",
       "      <th>3</th>\n",
       "      <td>min</td>\n",
       "      <td>1.0</td>\n",
       "      <td>15.0</td>\n",
       "      <td>1.0</td>\n",
       "      <td>14.0</td>\n",
       "      <td>4096.0</td>\n",
       "      <td>0.0</td>\n",
       "    </tr>\n",
       "    <tr>\n",
       "      <th>4</th>\n",
       "      <td>max</td>\n",
       "      <td>5.0</td>\n",
       "      <td>168.0</td>\n",
       "      <td>198942.0</td>\n",
       "      <td>96.0</td>\n",
       "      <td>1.62443264E8</td>\n",
       "      <td>1.0</td>\n",
       "    </tr>\n",
       "  </tbody>\n",
       "</table>\n",
       "</div>"
      ],
      "text/plain": [
       "  summary            TagCount         TitleLength      UserReputation  \\\n",
       "0   count               24009               24009               12425   \n",
       "1    mean   2.058894581198717    59.9233204215086  46809.372796780684   \n",
       "2  stddev  0.9926152490165466  22.637822393134446   62553.06355062486   \n",
       "3     min                 1.0                15.0                 1.0   \n",
       "4     max                 5.0               168.0            198942.0   \n",
       "\n",
       "                 Age            FinalTime     CensoringStatus  \n",
       "0               5554                24009               24009  \n",
       "1  37.44382427079582  2.195890047365571E7  0.5387146486734141  \n",
       "2  9.477650292365588  3.553240806671485E7  0.4985093045706418  \n",
       "3               14.0               4096.0                 0.0  \n",
       "4               96.0         1.62443264E8                 1.0  "
      ]
     },
     "execution_count": 28,
     "metadata": {},
     "output_type": "execute_result"
    }
   ],
   "source": [
    "final_filtered_df.describe().toPandas()"
   ]
  },
  {
   "cell_type": "code",
   "execution_count": 29,
   "metadata": {
    "collapsed": true
   },
   "outputs": [],
   "source": [
    "#final_filtered_df.select(\"FinalTime\",\"CensoringStatus\",\"TagCount\",\"TitleLength\",\"UserReputation\",\"Age\")\\\n",
    "#.toPandas().to_csv(\"/Users/Mat/Desktop/final_df\")"
   ]
  },
  {
   "cell_type": "code",
   "execution_count": 30,
   "metadata": {
    "collapsed": true,
    "scrolled": false
   },
   "outputs": [],
   "source": [
    "#final_filtered_df.select(\"FinalTime\",\"CensoringStatus\",\"TagCount\",\"TitleLength\",\"UserReputation\",\"Age\").\\\n",
    "#write.csv(\"/Users/Mat/Desktop/final_df_float\")"
   ]
  },
  {
   "cell_type": "markdown",
   "metadata": {},
   "source": [
    "## Grouping the categorical variables"
   ]
  },
  {
   "cell_type": "code",
   "execution_count": 31,
   "metadata": {
    "collapsed": true,
    "scrolled": true
   },
   "outputs": [],
   "source": [
    "pd_age_distinct = final_filtered_df.select(\"Age\").distinct().toPandas()\n",
    "pd_age = final_filtered_df.select(\"Age\").toPandas()"
   ]
  },
  {
   "cell_type": "code",
   "execution_count": 32,
   "metadata": {},
   "outputs": [
    {
     "data": {
      "text/plain": [
       "Age    5554\n",
       "dtype: int64"
      ]
     },
     "execution_count": 32,
     "metadata": {},
     "output_type": "execute_result"
    }
   ],
   "source": [
    "pd_age.count()"
   ]
  },
  {
   "cell_type": "code",
   "execution_count": 33,
   "metadata": {},
   "outputs": [
    {
     "name": "stdout",
     "output_type": "stream",
     "text": [
      "Age    535\n",
      "dtype: int64\n",
      "Age    4991\n",
      "dtype: int64\n"
     ]
    }
   ],
   "source": [
    "print(pd_age.where(pd_age[\"Age\"]>50).count())\n",
    "print(pd_age.where(pd_age[\"Age\"]<50).count())"
   ]
  },
  {
   "cell_type": "code",
   "execution_count": 34,
   "metadata": {},
   "outputs": [
    {
     "data": {
      "text/html": [
       "<div>\n",
       "<style>\n",
       "    .dataframe thead tr:only-child th {\n",
       "        text-align: right;\n",
       "    }\n",
       "\n",
       "    .dataframe thead th {\n",
       "        text-align: left;\n",
       "    }\n",
       "\n",
       "    .dataframe tbody tr th {\n",
       "        vertical-align: top;\n",
       "    }\n",
       "</style>\n",
       "<table border=\"1\" class=\"dataframe\">\n",
       "  <thead>\n",
       "    <tr style=\"text-align: right;\">\n",
       "      <th></th>\n",
       "      <th>TagCount</th>\n",
       "      <th>TitleLength</th>\n",
       "      <th>UserReputation</th>\n",
       "      <th>Age</th>\n",
       "      <th>FinalTime</th>\n",
       "      <th>CensoringStatus</th>\n",
       "    </tr>\n",
       "  </thead>\n",
       "  <tbody>\n",
       "    <tr>\n",
       "      <th>TagCount</th>\n",
       "      <td>0.985285</td>\n",
       "      <td>1.359731e+00</td>\n",
       "      <td>-4.995387e+02</td>\n",
       "      <td>8.048571e-02</td>\n",
       "      <td>-6.610076e+05</td>\n",
       "      <td>8.174670e-03</td>\n",
       "    </tr>\n",
       "    <tr>\n",
       "      <th>TitleLength</th>\n",
       "      <td>1.359731</td>\n",
       "      <td>5.124710e+02</td>\n",
       "      <td>-9.240493e+04</td>\n",
       "      <td>1.292440e+01</td>\n",
       "      <td>5.781333e+07</td>\n",
       "      <td>-7.737932e-01</td>\n",
       "    </tr>\n",
       "    <tr>\n",
       "      <th>UserReputation</th>\n",
       "      <td>-499.538654</td>\n",
       "      <td>-9.240493e+04</td>\n",
       "      <td>3.912886e+09</td>\n",
       "      <td>9.083865e+04</td>\n",
       "      <td>1.001780e+10</td>\n",
       "      <td>0.000000e+00</td>\n",
       "    </tr>\n",
       "    <tr>\n",
       "      <th>Age</th>\n",
       "      <td>0.080486</td>\n",
       "      <td>1.292440e+01</td>\n",
       "      <td>9.083865e+04</td>\n",
       "      <td>8.982586e+01</td>\n",
       "      <td>-2.053477e+06</td>\n",
       "      <td>0.000000e+00</td>\n",
       "    </tr>\n",
       "    <tr>\n",
       "      <th>FinalTime</th>\n",
       "      <td>-661007.593042</td>\n",
       "      <td>5.781333e+07</td>\n",
       "      <td>1.001780e+10</td>\n",
       "      <td>-2.053477e+06</td>\n",
       "      <td>1.262552e+15</td>\n",
       "      <td>-1.061596e+07</td>\n",
       "    </tr>\n",
       "    <tr>\n",
       "      <th>CensoringStatus</th>\n",
       "      <td>0.008175</td>\n",
       "      <td>-7.737932e-01</td>\n",
       "      <td>0.000000e+00</td>\n",
       "      <td>0.000000e+00</td>\n",
       "      <td>-1.061596e+07</td>\n",
       "      <td>2.485115e-01</td>\n",
       "    </tr>\n",
       "  </tbody>\n",
       "</table>\n",
       "</div>"
      ],
      "text/plain": [
       "                      TagCount   TitleLength  UserReputation           Age  \\\n",
       "TagCount              0.985285  1.359731e+00   -4.995387e+02  8.048571e-02   \n",
       "TitleLength           1.359731  5.124710e+02   -9.240493e+04  1.292440e+01   \n",
       "UserReputation     -499.538654 -9.240493e+04    3.912886e+09  9.083865e+04   \n",
       "Age                   0.080486  1.292440e+01    9.083865e+04  8.982586e+01   \n",
       "FinalTime       -661007.593042  5.781333e+07    1.001780e+10 -2.053477e+06   \n",
       "CensoringStatus       0.008175 -7.737932e-01    0.000000e+00  0.000000e+00   \n",
       "\n",
       "                    FinalTime  CensoringStatus  \n",
       "TagCount        -6.610076e+05     8.174670e-03  \n",
       "TitleLength      5.781333e+07    -7.737932e-01  \n",
       "UserReputation   1.001780e+10     0.000000e+00  \n",
       "Age             -2.053477e+06     0.000000e+00  \n",
       "FinalTime        1.262552e+15    -1.061596e+07  \n",
       "CensoringStatus -1.061596e+07     2.485115e-01  "
      ]
     },
     "execution_count": 34,
     "metadata": {},
     "output_type": "execute_result"
    }
   ],
   "source": [
    "pd_final = final_filtered_df.toPandas()\n",
    "pd_final.cov()"
   ]
  },
  {
   "cell_type": "code",
   "execution_count": 35,
   "metadata": {
    "scrolled": true
   },
   "outputs": [
    {
     "data": {
      "text/plain": [
       "<matplotlib.axes._subplots.AxesSubplot at 0x7fcda9df5ef0>"
      ]
     },
     "execution_count": 35,
     "metadata": {},
     "output_type": "execute_result"
    }
   ],
   "source": [
    "pd_final.plot([pd_final[\"CensoringStatus\"],pd_final[\"FinalTime\"]])"
   ]
  },
  {
   "cell_type": "code",
   "execution_count": 36,
   "metadata": {},
   "outputs": [
    {
     "data": {
      "text/plain": [
       "pandas.core.series.Series"
      ]
     },
     "execution_count": 36,
     "metadata": {},
     "output_type": "execute_result"
    }
   ],
   "source": [
    "type(pd_final.Age)"
   ]
  },
  {
   "cell_type": "code",
   "execution_count": 37,
   "metadata": {},
   "outputs": [
    {
     "data": {
      "text/plain": [
       "nan"
      ]
     },
     "execution_count": 37,
     "metadata": {},
     "output_type": "execute_result"
    }
   ],
   "source": [
    "pd_final.Age.values.tolist()[3]"
   ]
  },
  {
   "cell_type": "code",
   "execution_count": 38,
   "metadata": {},
   "outputs": [
    {
     "data": {
      "text/html": [
       "<div>\n",
       "<style>\n",
       "    .dataframe thead tr:only-child th {\n",
       "        text-align: right;\n",
       "    }\n",
       "\n",
       "    .dataframe thead th {\n",
       "        text-align: left;\n",
       "    }\n",
       "\n",
       "    .dataframe tbody tr th {\n",
       "        vertical-align: top;\n",
       "    }\n",
       "</style>\n",
       "<table border=\"1\" class=\"dataframe\">\n",
       "  <thead>\n",
       "    <tr style=\"text-align: right;\">\n",
       "      <th></th>\n",
       "      <th>TagCount</th>\n",
       "      <th>TitleLength</th>\n",
       "      <th>UserReputation</th>\n",
       "      <th>Age</th>\n",
       "      <th>FinalTime</th>\n",
       "      <th>CensoringStatus</th>\n",
       "    </tr>\n",
       "  </thead>\n",
       "  <tbody>\n",
       "    <tr>\n",
       "      <th>count</th>\n",
       "      <td>24009.000000</td>\n",
       "      <td>24009.000000</td>\n",
       "      <td>12425.000000</td>\n",
       "      <td>5554.000000</td>\n",
       "      <td>2.400900e+04</td>\n",
       "      <td>24009.000000</td>\n",
       "    </tr>\n",
       "    <tr>\n",
       "      <th>mean</th>\n",
       "      <td>2.058895</td>\n",
       "      <td>59.923320</td>\n",
       "      <td>46809.372797</td>\n",
       "      <td>37.443824</td>\n",
       "      <td>2.195890e+07</td>\n",
       "      <td>0.538715</td>\n",
       "    </tr>\n",
       "    <tr>\n",
       "      <th>std</th>\n",
       "      <td>0.992615</td>\n",
       "      <td>22.637822</td>\n",
       "      <td>62553.063551</td>\n",
       "      <td>9.477650</td>\n",
       "      <td>3.553241e+07</td>\n",
       "      <td>0.498509</td>\n",
       "    </tr>\n",
       "    <tr>\n",
       "      <th>min</th>\n",
       "      <td>1.000000</td>\n",
       "      <td>15.000000</td>\n",
       "      <td>1.000000</td>\n",
       "      <td>14.000000</td>\n",
       "      <td>4.096000e+03</td>\n",
       "      <td>0.000000</td>\n",
       "    </tr>\n",
       "    <tr>\n",
       "      <th>25%</th>\n",
       "      <td>1.000000</td>\n",
       "      <td>43.000000</td>\n",
       "      <td>2532.000000</td>\n",
       "      <td>30.000000</td>\n",
       "      <td>8.192000e+03</td>\n",
       "      <td>0.000000</td>\n",
       "    </tr>\n",
       "    <tr>\n",
       "      <th>50%</th>\n",
       "      <td>2.000000</td>\n",
       "      <td>57.000000</td>\n",
       "      <td>14130.000000</td>\n",
       "      <td>37.000000</td>\n",
       "      <td>2.088960e+05</td>\n",
       "      <td>1.000000</td>\n",
       "    </tr>\n",
       "    <tr>\n",
       "      <th>75%</th>\n",
       "      <td>3.000000</td>\n",
       "      <td>73.000000</td>\n",
       "      <td>66793.000000</td>\n",
       "      <td>44.000000</td>\n",
       "      <td>3.276390e+07</td>\n",
       "      <td>1.000000</td>\n",
       "    </tr>\n",
       "    <tr>\n",
       "      <th>max</th>\n",
       "      <td>5.000000</td>\n",
       "      <td>168.000000</td>\n",
       "      <td>198942.000000</td>\n",
       "      <td>96.000000</td>\n",
       "      <td>1.624433e+08</td>\n",
       "      <td>1.000000</td>\n",
       "    </tr>\n",
       "  </tbody>\n",
       "</table>\n",
       "</div>"
      ],
      "text/plain": [
       "           TagCount   TitleLength  UserReputation          Age     FinalTime  \\\n",
       "count  24009.000000  24009.000000    12425.000000  5554.000000  2.400900e+04   \n",
       "mean       2.058895     59.923320    46809.372797    37.443824  2.195890e+07   \n",
       "std        0.992615     22.637822    62553.063551     9.477650  3.553241e+07   \n",
       "min        1.000000     15.000000        1.000000    14.000000  4.096000e+03   \n",
       "25%        1.000000     43.000000     2532.000000    30.000000  8.192000e+03   \n",
       "50%        2.000000     57.000000    14130.000000    37.000000  2.088960e+05   \n",
       "75%        3.000000     73.000000    66793.000000    44.000000  3.276390e+07   \n",
       "max        5.000000    168.000000   198942.000000    96.000000  1.624433e+08   \n",
       "\n",
       "       CensoringStatus  \n",
       "count     24009.000000  \n",
       "mean          0.538715  \n",
       "std           0.498509  \n",
       "min           0.000000  \n",
       "25%           0.000000  \n",
       "50%           1.000000  \n",
       "75%           1.000000  \n",
       "max           1.000000  "
      ]
     },
     "execution_count": 38,
     "metadata": {},
     "output_type": "execute_result"
    }
   ],
   "source": [
    "pd_final.describe()"
   ]
  },
  {
   "cell_type": "code",
   "execution_count": 39,
   "metadata": {},
   "outputs": [
    {
     "data": {
      "text/plain": [
       "<matplotlib.axes._subplots.AxesSubplot at 0x7fcda9df5ef0>"
      ]
     },
     "execution_count": 39,
     "metadata": {},
     "output_type": "execute_result"
    }
   ],
   "source": [
    "pd_final.TagCount.hist()"
   ]
  },
  {
   "cell_type": "code",
   "execution_count": 40,
   "metadata": {},
   "outputs": [
    {
     "name": "stdout",
     "output_type": "stream",
     "text": [
      "22678\n",
      "1239\n"
     ]
    }
   ],
   "source": [
    "print(pd_final.TitleLength.where(pd_final.TitleLength<100).count())\n",
    "print(pd_final.TitleLength.where(pd_final.TitleLength>100).count())"
   ]
  },
  {
   "cell_type": "code",
   "execution_count": 41,
   "metadata": {},
   "outputs": [
    {
     "data": {
      "text/plain": [
       "<matplotlib.axes._subplots.AxesSubplot at 0x7fcda9df5ef0>"
      ]
     },
     "execution_count": 41,
     "metadata": {},
     "output_type": "execute_result"
    }
   ],
   "source": [
    "pd_final.TitleLength.hist(bins=200)"
   ]
  },
  {
   "cell_type": "code",
   "execution_count": 42,
   "metadata": {},
   "outputs": [
    {
     "data": {
      "text/plain": [
       "<matplotlib.axes._subplots.AxesSubplot at 0x7fcda9df5ef0>"
      ]
     },
     "execution_count": 42,
     "metadata": {},
     "output_type": "execute_result"
    }
   ],
   "source": [
    "pd_final.TitleLength.hist(bins=10)"
   ]
  },
  {
   "cell_type": "code",
   "execution_count": 43,
   "metadata": {},
   "outputs": [
    {
     "data": {
      "text/plain": [
       "count     12425.000000\n",
       "mean      46809.372797\n",
       "std       62553.063551\n",
       "min           1.000000\n",
       "25%        2532.000000\n",
       "50%       14130.000000\n",
       "75%       66793.000000\n",
       "max      198942.000000\n",
       "Name: UserReputation, dtype: float64"
      ]
     },
     "execution_count": 43,
     "metadata": {},
     "output_type": "execute_result"
    }
   ],
   "source": [
    "pd_final.UserReputation.describe()"
   ]
  },
  {
   "cell_type": "code",
   "execution_count": 44,
   "metadata": {},
   "outputs": [
    {
     "ename": "NameError",
     "evalue": "name 'plt' is not defined",
     "output_type": "error",
     "traceback": [
      "\u001b[0;31m---------------------------------------------------------------------------\u001b[0m",
      "\u001b[0;31mNameError\u001b[0m                                 Traceback (most recent call last)",
      "\u001b[0;32m<ipython-input-44-c3d831e5baa9>\u001b[0m in \u001b[0;36m<module>\u001b[0;34m()\u001b[0m\n\u001b[0;32m----> 1\u001b[0;31m \u001b[0mplt\u001b[0m\u001b[0;34m.\u001b[0m\u001b[0mscatter\u001b[0m\u001b[0;34m(\u001b[0m\u001b[0mpd_final\u001b[0m\u001b[0;34m.\u001b[0m\u001b[0mUserReputation\u001b[0m\u001b[0;34m.\u001b[0m\u001b[0mvalues\u001b[0m\u001b[0;34m.\u001b[0m\u001b[0mtolist\u001b[0m\u001b[0;34m(\u001b[0m\u001b[0;34m)\u001b[0m\u001b[0;34m,\u001b[0m \u001b[0mpd_final\u001b[0m\u001b[0;34m.\u001b[0m\u001b[0mFinalTime\u001b[0m\u001b[0;34m.\u001b[0m\u001b[0mvalues\u001b[0m\u001b[0;34m.\u001b[0m\u001b[0mtolist\u001b[0m\u001b[0;34m(\u001b[0m\u001b[0;34m)\u001b[0m\u001b[0;34m)\u001b[0m\u001b[0;34m\u001b[0m\u001b[0m\n\u001b[0m",
      "\u001b[0;31mNameError\u001b[0m: name 'plt' is not defined"
     ]
    }
   ],
   "source": [
    "plt.scatter(pd_final.UserReputation.values.tolist(), pd_final.FinalTime.values.tolist())"
   ]
  },
  {
   "cell_type": "code",
   "execution_count": null,
   "metadata": {},
   "outputs": [],
   "source": [
    "plt.scatter(pd_final.TitleLength.values.tolist(), pd_final.FinalTime.values.tolist())"
   ]
  },
  {
   "cell_type": "code",
   "execution_count": null,
   "metadata": {},
   "outputs": [],
   "source": [
    "plt.scatter(pd_final.TagCount.values.tolist(), pd_final.FinalTime.values.tolist())"
   ]
  },
  {
   "cell_type": "code",
   "execution_count": null,
   "metadata": {},
   "outputs": [],
   "source": [
    "pd_age.where(pd_age[\"Age\"]<50).hist(bins=200)"
   ]
  },
  {
   "cell_type": "code",
   "execution_count": null,
   "metadata": {
    "collapsed": true
   },
   "outputs": [],
   "source": [
    "fig, ax = plt.subplots()\n",
    "fig.set_size_inches(20, 20)\n",
    "hist(ax, final_filtered_df.select(final_filtered_df.Age), bins = 200, color=['blue'])"
   ]
  },
  {
   "cell_type": "markdown",
   "metadata": {},
   "source": [
    "# Exploratory analysis over the data"
   ]
  },
  {
   "cell_type": "code",
   "execution_count": null,
   "metadata": {
    "collapsed": true
   },
   "outputs": [],
   "source": [
    "from pyspark_dist_explore import hist, distplot\n",
    "import matplotlib.pyplot as plt\n",
    "%matplotlib inline"
   ]
  },
  {
   "cell_type": "code",
   "execution_count": null,
   "metadata": {
    "collapsed": true
   },
   "outputs": [],
   "source": [
    "#fig, ax = plt.subplots()\n",
    "#hist(ax, final_filtered_df.select(final_filtered_df.Age), bins = 20, color=['blue'])"
   ]
  },
  {
   "cell_type": "code",
   "execution_count": null,
   "metadata": {
    "collapsed": true,
    "scrolled": false
   },
   "outputs": [],
   "source": [
    "#fig, ax = plt.subplots()\n",
    "#fig.set_size_inches(20, 20)\n",
    "#hist(ax, final_filtered_df.select(final_filtered_df.UserReputation), bins = 200, color=['blue'])"
   ]
  },
  {
   "cell_type": "code",
   "execution_count": null,
   "metadata": {
    "collapsed": true,
    "scrolled": false
   },
   "outputs": [],
   "source": [
    "#fig, ax = plt.subplots()\n",
    "#fig.set_size_inches(20, 20)\n",
    "#hist(ax, final_filtered_df.select(final_filtered_df.FinalTime).where(final_filtered_df.FinalTime<20000),\\\n",
    "#     bins = 200, color=['blue'])"
   ]
  },
  {
   "cell_type": "code",
   "execution_count": null,
   "metadata": {
    "collapsed": true
   },
   "outputs": [],
   "source": []
  }
 ],
 "metadata": {
  "kernelspec": {
   "display_name": "Python 3",
   "language": "python",
   "name": "python3"
  },
  "language_info": {
   "codemirror_mode": {
    "name": "ipython",
    "version": 3
   },
   "file_extension": ".py",
   "mimetype": "text/x-python",
   "name": "python",
   "nbconvert_exporter": "python",
   "pygments_lexer": "ipython3",
   "version": "3.6.1"
  }
 },
 "nbformat": 4,
 "nbformat_minor": 2
}
