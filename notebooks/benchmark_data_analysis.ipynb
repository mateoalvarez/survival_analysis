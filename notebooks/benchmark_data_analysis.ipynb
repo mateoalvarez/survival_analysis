{
 "cells": [
  {
   "cell_type": "code",
   "execution_count": 1,
   "metadata": {
    "collapsed": true
   },
   "outputs": [],
   "source": [
    "KM_spark = [\n",
    "    3.025, 3.081, 3.326, 3.351, 3.022, 3.095, 3.140, 3.077, 3.047, 3.848,\n",
    "    3.084, 3.149, 3.487, 3.117, 3.383, 2.963, 3.244, 3.620, 3.481, 3.198,\n",
    "    4.144, 3.147, 3.124, 3.310, 3.092, 3.165, 3.188, 3.119, 3.095, 3.404\n",
    "]"
   ]
  },
  {
   "cell_type": "code",
   "execution_count": 2,
   "metadata": {
    "collapsed": true
   },
   "outputs": [],
   "source": [
    "COX_spark = [\n",
    "    4.600, 4.530, 5.115, 5.325, 4.790, 4.669, 4.983, 5.015, 5.185, 4.783,\n",
    "    4.539, 4.665, 5.397, 4.877, 4.715, 4.581, 4.765, 4.732, 5.021, 5.240,\n",
    "    4.623, 4.683, 4.500, 4.951, 4.942, 4.960, 5.004, 4.739, 4.934, 5.252\n",
    "]"
   ]
  },
  {
   "cell_type": "code",
   "execution_count": 18,
   "metadata": {
    "collapsed": true
   },
   "outputs": [],
   "source": [
    "import pandas as pd\n",
    "import matplotlib.pyplot as plt\n",
    "import numpy as np\n",
    "import statistics as st\n",
    "%matplotlib inline"
   ]
  },
  {
   "cell_type": "code",
   "execution_count": 34,
   "metadata": {},
   "outputs": [
    {
     "data": {
      "text/plain": [
       "[<matplotlib.lines.Line2D at 0x10a363f28>]"
      ]
     },
     "execution_count": 34,
     "metadata": {},
     "output_type": "execute_result"
    },
    {
     "data": {
      "image/png": "[encoded data removed]",
      "text/plain": [
       "<matplotlib.figure.Figure at 0x10a0c70f0>"
      ]
     },
     "metadata": {},
     "output_type": "display_data"
    }
   ],
   "source": [
    "plt.axis([-1,30, 0, 10])\n",
    "plt.scatter(range(0,len(COX_spark)),COX_spark)\n",
    "plt.plot(range(0,len(COX_spark)), st.mean(COX_spark)*np.ones(len(COX_spark)), 'r')\n",
    "plt.plot(range(0,len(COX_spark)), (st.mean(COX_spark)+st.stdev(COX_spark))*np.ones(len(COX_spark)), 'r--')\n",
    "plt.plot(range(0,len(COX_spark)), (st.mean(COX_spark)-st.stdev(COX_spark))*np.ones(len(COX_spark)), 'r--')"
   ]
  },
  {
   "cell_type": "code",
   "execution_count": 35,
   "metadata": {},
   "outputs": [
    {
     "data": {
      "text/plain": [
       "[<matplotlib.lines.Line2D at 0x10a2c8eb8>]"
      ]
     },
     "execution_count": 35,
     "metadata": {},
     "output_type": "execute_result"
    },
    {
     "data": {
      "image/png": "[encoded data removed]",
      "text/plain": [
       "<matplotlib.figure.Figure at 0x10a2d9080>"
      ]
     },
     "metadata": {},
     "output_type": "display_data"
    }
   ],
   "source": [
    "plt.axis([-1,30, 0, 10])\n",
    "plt.scatter(range(0,len(KM_spark)),KM_spark)\n",
    "plt.plot(range(0,len(KM_spark)), st.mean(KM_spark)*np.ones(len(KM_spark)), 'r')\n",
    "plt.plot(range(0,len(KM_spark)), (st.mean(KM_spark)+st.stdev(KM_spark))*np.ones(len(KM_spark)), 'r--')\n",
    "plt.plot(range(0,len(KM_spark)), (st.mean(KM_spark)-st.stdev(KM_spark))*np.ones(len(KM_spark)), 'r--')"
   ]
  },
  {
   "cell_type": "code",
   "execution_count": 36,
   "metadata": {},
   "outputs": [
    {
     "data": {
      "text/plain": [
       "{'boxes': [<matplotlib.lines.Line2D at 0x10a4f6358>],\n",
       " 'caps': [<matplotlib.lines.Line2D at 0x10a4ffa58>,\n",
       "  <matplotlib.lines.Line2D at 0x10a503cc0>],\n",
       " 'fliers': [<matplotlib.lines.Line2D at 0x10a509f98>],\n",
       " 'means': [],\n",
       " 'medians': [<matplotlib.lines.Line2D at 0x10a503e48>],\n",
       " 'whiskers': [<matplotlib.lines.Line2D at 0x10a4f6eb8>,\n",
       "  <matplotlib.lines.Line2D at 0x10a4ff8d0>]}"
      ]
     },
     "execution_count": 36,
     "metadata": {},
     "output_type": "execute_result"
    },
    {
     "data": {
      "image/png": "[encoded data removed]",
      "text/plain": [
       "<matplotlib.figure.Figure at 0x10a2b7358>"
      ]
     },
     "metadata": {},
     "output_type": "display_data"
    }
   ],
   "source": [
    "plt.boxplot(KM_spark)"
   ]
  },
  {
   "cell_type": "code",
   "execution_count": 37,
   "metadata": {},
   "outputs": [
    {
     "data": {
      "text/plain": [
       "{'boxes': [<matplotlib.lines.Line2D at 0x10a5d9470>],\n",
       " 'caps': [<matplotlib.lines.Line2D at 0x10a5dfbe0>,\n",
       "  <matplotlib.lines.Line2D at 0x10a5e4e48>],\n",
       " 'fliers': [<matplotlib.lines.Line2D at 0x10a5ea9e8>],\n",
       " 'means': [],\n",
       " 'medians': [<matplotlib.lines.Line2D at 0x10a5e4fd0>],\n",
       " 'whiskers': [<matplotlib.lines.Line2D at 0x10a5d9f28>,\n",
       "  <matplotlib.lines.Line2D at 0x10a5dfa58>]}"
      ]
     },
     "execution_count": 37,
     "metadata": {},
     "output_type": "execute_result"
    },
    {
     "data": {
      "image/png": "[encoded data removed]",
      "text/plain": [
       "<matplotlib.figure.Figure at 0x10a51d550>"
      ]
     },
     "metadata": {},
     "output_type": "display_data"
    }
   ],
   "source": [
    "plt.boxplot(COX_spark)"
   ]
  }
 ],
 "metadata": {
  "kernelspec": {
   "display_name": "Python 3",
   "language": "python",
   "name": "python3"
  },
  "language_info": {
   "codemirror_mode": {
    "name": "ipython",
    "version": 3
   },
   "file_extension": ".py",
   "mimetype": "text/x-python",
   "name": "python",
   "nbconvert_exporter": "python",
   "pygments_lexer": "ipython3",
   "version": "3.5.3"
  }
 },
 "nbformat": 4,
 "nbformat_minor": 2
}
