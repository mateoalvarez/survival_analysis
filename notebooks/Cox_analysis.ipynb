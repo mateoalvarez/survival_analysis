{
 "cells": [
  {
   "cell_type": "code",
   "execution_count": 1,
   "metadata": {},
   "outputs": [
    {
     "name": "stdout",
     "output_type": "stream",
     "text": [
      "<pyspark.context.SparkContext object at 0x10494bcf8>\n",
      "<pyspark.sql.context.SQLContext object at 0x1044a1da0>\n"
     ]
    }
   ],
   "source": [
    "import findspark\n",
    "findspark.init()\n",
    "import pyspark\n",
    "from pyspark.sql import SQLContext\n",
    "sc = pyspark.SparkContext()\n",
    "sqlContext = SQLContext(sc)\n",
    "print(sc)\n",
    "print(sqlContext)\n",
    "from pyspark.sql import SparkSession\n",
    "from pyspark.sql import types as stypes\n",
    "from pyspark.sql.functions import udf\n",
    "spark = SparkSession \\\n",
    "    .builder \\\n",
    "    .appName(\"Python Spark SQL cleaning data\") \\\n",
    "    .config(\"spark.some.config.option\", \"some-value\") \\\n",
    "    .getOrCreate()\n",
    "import pandas as pd\n",
    "import numpy as np\n",
    "import scipy as scp\n",
    "import matplotlib as plt\n",
    "%matplotlib inline"
   ]
  },
  {
   "cell_type": "code",
   "execution_count": 18,
   "metadata": {},
   "outputs": [
    {
     "data": {
      "text/plain": [
       "''"
      ]
     },
     "execution_count": 18,
     "metadata": {},
     "output_type": "execute_result"
    }
   ],
   "source": [
    "with open(\"/Users/Mat/Desktop/cox_results/output/fileM.csv\") as file:\n",
    "    input_data = file.read().split(\"\\n\")\n",
    "input_data.pop()"
   ]
  },
  {
   "cell_type": "code",
   "execution_count": 64,
   "metadata": {},
   "outputs": [],
   "source": [
    "numbers = list(map(float, splitted_input_data[0]))"
   ]
  },
  {
   "cell_type": "code",
   "execution_count": 65,
   "metadata": {
    "scrolled": true
   },
   "outputs": [],
   "source": [
    "splitted_input_data = [list(map(float,x.split(\" \"))) for x in input_data]"
   ]
  },
  {
   "cell_type": "code",
   "execution_count": 66,
   "metadata": {},
   "outputs": [
    {
     "data": {
      "text/plain": [
       "[[1.0, 1.0, 0.022689079727835924],\n",
       " [1.0, 2.0, 1.022948434691432],\n",
       " [1.0, 3.0, 0.008840947583818171],\n",
       " [1.0, 4.0, 2.566362882793737],\n",
       " [1.0, 5.0, 0.010277124868839582],\n",
       " [1.0, 6.0, 0.005361140874345898],\n",
       " [1.0, 7.0, 1.9738121166840719],\n",
       " [2.0, 1.0, -0.004947412128148468],\n",
       " [2.0, 2.0, 0.9950648061572985],\n",
       " [2.0, 3.0, 0.00039898425770444336],\n",
       " [2.0, 4.0, -12.40001837820222],\n",
       " [2.0, 6.0, -0.005729406903647625],\n",
       " [2.0, 7.0, 1.9546175881542012],\n",
       " [3.0, 1.0, 2.913130307898166e-06],\n",
       " [3.0, 2.0, 1.0000029131345511],\n",
       " [3.0, 3.0, 2.1537592841708107e-07],\n",
       " [3.0, 4.0, 13.525793385121542],\n",
       " [3.0, 6.0, 2.49100124506381e-06],\n",
       " [3.0, 7.0, 1.9599666822944335],\n",
       " [4.0, 1.0, 0.001178451455254229],\n",
       " [4.0, 2.0, 1.0011791461020128],\n",
       " [4.0, 3.0, 0.000922013307433513],\n",
       " [4.0, 4.0, 1.2781284670766078],\n",
       " [4.0, 5.0, 0.20120413305415874],\n",
       " [4.0, 6.0, -0.000628661420582113],\n",
       " [4.0, 7.0, 1.9602204226878748]]"
      ]
     },
     "execution_count": 66,
     "metadata": {},
     "output_type": "execute_result"
    }
   ],
   "source": [
    "splitted_input_data"
   ]
  },
  {
   "cell_type": "code",
   "execution_count": 34,
   "metadata": {
    "collapsed": true
   },
   "outputs": [],
   "source": [
    "km_matrix = [] # 7 campos x 4 features"
   ]
  },
  {
   "cell_type": "code",
   "execution_count": 71,
   "metadata": {},
   "outputs": [],
   "source": [
    "km_matrix = []\n",
    "j = 0\n",
    "for i in range(0,4):\n",
    "    feature_info = [0]*7\n",
    "    k = 1.0\n",
    "    while splitted_input_data[j][0] == k:\n",
    "        feature_info[int(splitted_input_data[j][1])-1] = splitted_input_data[j][2]\n",
    "        j += 1\n",
    "        k += 1\n",
    "\n",
    "    km_matrix.append(feature_info)"
   ]
  },
  {
   "cell_type": "code",
   "execution_count": 72,
   "metadata": {},
   "outputs": [
    {
     "data": {
      "text/plain": [
       "[[0.022689079727835924, 0, 0, 0, 0, 0, 0],\n",
       " [0, 1.022948434691432, 0, 0, 0, 0, 0],\n",
       " [0, 0, 0.008840947583818171, 0, 0, 0, 0],\n",
       " [0, 0, 0, 2.566362882793737, 0, 0, 0]]"
      ]
     },
     "execution_count": 72,
     "metadata": {},
     "output_type": "execute_result"
    }
   ],
   "source": [
    "km_matrix"
   ]
  },
  {
   "cell_type": "code",
   "execution_count": 31,
   "metadata": {},
   "outputs": [],
   "source": [
    "cosa = [x.split(\" \") for x in input_data]"
   ]
  },
  {
   "cell_type": "code",
   "execution_count": 32,
   "metadata": {},
   "outputs": [
    {
     "data": {
      "text/plain": [
       "[['1', '1', '0.022689079727835924'],\n",
       " ['1', '2', '1.022948434691432'],\n",
       " ['1', '3', '0.008840947583818171'],\n",
       " ['1', '4', '2.566362882793737'],\n",
       " ['1', '5', '0.010277124868839582'],\n",
       " ['1', '6', '0.005361140874345898'],\n",
       " ['1', '7', '1.9738121166840719'],\n",
       " ['2', '1', '-0.004947412128148468'],\n",
       " ['2', '2', '0.9950648061572985'],\n",
       " ['2', '3', '3.9898425770444336E-4'],\n",
       " ['2', '4', '-12.40001837820222'],\n",
       " ['2', '6', '-0.005729406903647625'],\n",
       " ['2', '7', '1.9546175881542012'],\n",
       " ['3', '1', '2.913130307898166E-6'],\n",
       " ['3', '2', '1.0000029131345511'],\n",
       " ['3', '3', '2.1537592841708107E-7'],\n",
       " ['3', '4', '13.525793385121542'],\n",
       " ['3', '6', '2.49100124506381E-6'],\n",
       " ['3', '7', '1.9599666822944335'],\n",
       " ['4', '1', '0.001178451455254229'],\n",
       " ['4', '2', '1.0011791461020128'],\n",
       " ['4', '3', '9.22013307433513E-4'],\n",
       " ['4', '4', '1.2781284670766078'],\n",
       " ['4', '5', '0.20120413305415874'],\n",
       " ['4', '6', '-6.28661420582113E-4'],\n",
       " ['4', '7', '1.9602204226878748']]"
      ]
     },
     "execution_count": 32,
     "metadata": {},
     "output_type": "execute_result"
    }
   ],
   "source": [
    "cosa"
   ]
  },
  {
   "cell_type": "code",
   "execution_count": 22,
   "metadata": {},
   "outputs": [],
   "source": [
    "params = [x.split(\" \")[2] for x in input_data]"
   ]
  },
  {
   "cell_type": "code",
   "execution_count": null,
   "metadata": {
    "collapsed": true
   },
   "outputs": [],
   "source": []
  },
  {
   "cell_type": "code",
   "execution_count": null,
   "metadata": {
    "collapsed": true
   },
   "outputs": [],
   "source": []
  },
  {
   "cell_type": "code",
   "execution_count": null,
   "metadata": {
    "collapsed": true
   },
   "outputs": [],
   "source": []
  },
  {
   "cell_type": "code",
   "execution_count": null,
   "metadata": {
    "collapsed": true
   },
   "outputs": [],
   "source": []
  },
  {
   "cell_type": "code",
   "execution_count": null,
   "metadata": {
    "collapsed": true
   },
   "outputs": [],
   "source": [
    "plt.savefig('/Users/Mat/github/survival_analysis/paper/images/km_consistency.png', format='png', dpi=200)"
   ]
  }
 ],
 "metadata": {
  "kernelspec": {
   "display_name": "Python 3",
   "language": "python",
   "name": "python3"
  },
  "language_info": {
   "codemirror_mode": {
    "name": "ipython",
    "version": 3
   },
   "file_extension": ".py",
   "mimetype": "text/x-python",
   "name": "python",
   "nbconvert_exporter": "python",
   "pygments_lexer": "ipython3",
   "version": "3.5.3"
  }
 },
 "nbformat": 4,
 "nbformat_minor": 2
}
