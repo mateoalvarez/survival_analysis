{
 "cells": [
  {
   "cell_type": "code",
   "execution_count": 2,
   "metadata": {},
   "outputs": [
    {
     "name": "stdout",
     "output_type": "stream",
     "text": [
      "<pyspark.context.SparkContext object at 0x10dc4ae10>\n",
      "<pyspark.sql.context.SQLContext object at 0x10dcd6978>\n"
     ]
    }
   ],
   "source": [
    "import findspark\n",
    "findspark.init()\n",
    "import pyspark\n",
    "from pyspark.sql import SQLContext\n",
    "sc = pyspark.SparkContext()\n",
    "sqlContext = SQLContext(sc)\n",
    "print(sc)\n",
    "print(sqlContext)\n",
    "from pyspark.sql import SparkSession\n",
    "from pyspark.sql import types as stypes\n",
    "from pyspark.sql.functions import udf\n",
    "spark = SparkSession \\\n",
    "    .builder \\\n",
    "    .appName(\"Python Spark SQL cleaning data\") \\\n",
    "    .config(\"spark.some.config.option\", \"some-value\") \\\n",
    "    .getOrCreate()\n",
    "import pandas as pd\n",
    "import numpy as np\n",
    "import scipy as scp\n",
    "import matplotlib as plt\n",
    "%matplotlib inline"
   ]
  },
  {
   "cell_type": "code",
   "execution_count": 59,
   "metadata": {},
   "outputs": [
    {
     "data": {
      "text/plain": [
       "''"
      ]
     },
     "execution_count": 59,
     "metadata": {},
     "output_type": "execute_result"
    }
   ],
   "source": [
    "with open(\"/Users/Mat/Downloads/final_df_fill/output_cox/fileM.csv\") as file:\n",
    "    input_data = file.read().split(\"\\n\")\n",
    "input_data.pop()"
   ]
  },
  {
   "cell_type": "code",
   "execution_count": 61,
   "metadata": {},
   "outputs": [
    {
     "data": {
      "text/plain": [
       "['1 1 0.022689079727835924',\n",
       " '1 2 1.022948434691432',\n",
       " '1 3 0.008840947583818171',\n",
       " '1 4 2.566362882793737',\n",
       " '1 5 0.010277124868839582',\n",
       " '1 6 0.005361140874345898',\n",
       " '1 7 1.9738121166840719',\n",
       " '2 1 -0.004947412128148468',\n",
       " '2 2 0.9950648061572985',\n",
       " '2 3 3.9898425770444336E-4',\n",
       " '2 4 -12.40001837820222',\n",
       " '2 6 -0.005729406903647625',\n",
       " '2 7 1.9546175881542012',\n",
       " '3 1 2.913130307898166E-6',\n",
       " '3 2 1.0000029131345511',\n",
       " '3 3 2.1537592841708107E-7',\n",
       " '3 4 13.525793385121542',\n",
       " '3 6 2.49100124506381E-6',\n",
       " '3 7 1.9599666822944335',\n",
       " '4 1 0.001178451455254229',\n",
       " '4 2 1.0011791461020128',\n",
       " '4 3 9.22013307433513E-4',\n",
       " '4 4 1.2781284670766078',\n",
       " '4 5 0.20120413305415874',\n",
       " '4 6 -6.28661420582113E-4',\n",
       " '4 7 1.9602204226878748']"
      ]
     },
     "execution_count": 61,
     "metadata": {},
     "output_type": "execute_result"
    }
   ],
   "source": [
    "input_data"
   ]
  },
  {
   "cell_type": "code",
   "execution_count": 60,
   "metadata": {},
   "outputs": [
    {
     "data": {
      "text/plain": [
       "26"
      ]
     },
     "execution_count": 60,
     "metadata": {},
     "output_type": "execute_result"
    }
   ],
   "source": [
    "len(input_data)"
   ]
  },
  {
   "cell_type": "code",
   "execution_count": 54,
   "metadata": {},
   "outputs": [],
   "source": [
    "input_arrays = []\n",
    "for i in input_data:\n",
    "    input_arrays.append(i.split(\" \")[2])\n",
    "\n",
    "mas = []\n",
    "for i in range(0,4):\n",
    "    mas.append(input_arrays[7*i:7*(i+1)])"
   ]
  },
  {
   "cell_type": "code",
   "execution_count": 55,
   "metadata": {},
   "outputs": [
    {
     "data": {
      "text/plain": [
       "[['0.022689079727835924',\n",
       "  '1.022948434691432',\n",
       "  '0.008840947583818171',\n",
       "  '2.566362882793737',\n",
       "  '0.010277124868839582',\n",
       "  '0.005361140874345898',\n",
       "  '1.9738121166840719'],\n",
       " ['-0.004947412128148468',\n",
       "  '0.9950648061572985',\n",
       "  '3.9898425770444336E-4',\n",
       "  '-12.40001837820222',\n",
       "  '-0.005729406903647625',\n",
       "  '1.9546175881542012',\n",
       "  '2.913130307898166E-6'],\n",
       " ['1.0000029131345511',\n",
       "  '2.1537592841708107E-7',\n",
       "  '13.525793385121542',\n",
       "  '2.49100124506381E-6',\n",
       "  '1.9599666822944335',\n",
       "  '0.001178451455254229',\n",
       "  '1.0011791461020128'],\n",
       " ['9.22013307433513E-4',\n",
       "  '1.2781284670766078',\n",
       "  '0.20120413305415874',\n",
       "  '-6.28661420582113E-4',\n",
       "  '1.9602204226878748']]"
      ]
     },
     "execution_count": 55,
     "metadata": {},
     "output_type": "execute_result"
    }
   ],
   "source": [
    "mas"
   ]
  },
  {
   "cell_type": "code",
   "execution_count": null,
   "metadata": {},
   "outputs": [],
   "source": []
  },
  {
   "cell_type": "code",
   "execution_count": null,
   "metadata": {
    "collapsed": true
   },
   "outputs": [],
   "source": []
  },
  {
   "cell_type": "code",
   "execution_count": null,
   "metadata": {
    "collapsed": true
   },
   "outputs": [],
   "source": []
  },
  {
   "cell_type": "code",
   "execution_count": null,
   "metadata": {
    "collapsed": true
   },
   "outputs": [],
   "source": []
  },
  {
   "cell_type": "code",
   "execution_count": null,
   "metadata": {
    "collapsed": true
   },
   "outputs": [],
   "source": []
  },
  {
   "cell_type": "code",
   "execution_count": 3,
   "metadata": {},
   "outputs": [],
   "source": [
    "input_df = pd.read_csv(\"/Users/Mat/Downloads/final_df_fill/output_cox/fileM.csv\",sep=\" \", )"
   ]
  },
  {
   "cell_type": "code",
   "execution_count": 4,
   "metadata": {},
   "outputs": [
    {
     "data": {
      "text/html": [
       "<div>\n",
       "<table border=\"1\" class=\"dataframe\">\n",
       "  <thead>\n",
       "    <tr style=\"text-align: right;\">\n",
       "      <th></th>\n",
       "      <th>1</th>\n",
       "      <th>1.1</th>\n",
       "      <th>0.022689079727835924</th>\n",
       "    </tr>\n",
       "  </thead>\n",
       "  <tbody>\n",
       "    <tr>\n",
       "      <th>0</th>\n",
       "      <td>1</td>\n",
       "      <td>2</td>\n",
       "      <td>1.022948e+00</td>\n",
       "    </tr>\n",
       "    <tr>\n",
       "      <th>1</th>\n",
       "      <td>1</td>\n",
       "      <td>3</td>\n",
       "      <td>8.840948e-03</td>\n",
       "    </tr>\n",
       "    <tr>\n",
       "      <th>2</th>\n",
       "      <td>1</td>\n",
       "      <td>4</td>\n",
       "      <td>2.566363e+00</td>\n",
       "    </tr>\n",
       "    <tr>\n",
       "      <th>3</th>\n",
       "      <td>1</td>\n",
       "      <td>5</td>\n",
       "      <td>1.027712e-02</td>\n",
       "    </tr>\n",
       "    <tr>\n",
       "      <th>4</th>\n",
       "      <td>1</td>\n",
       "      <td>6</td>\n",
       "      <td>5.361141e-03</td>\n",
       "    </tr>\n",
       "    <tr>\n",
       "      <th>5</th>\n",
       "      <td>1</td>\n",
       "      <td>7</td>\n",
       "      <td>1.973812e+00</td>\n",
       "    </tr>\n",
       "    <tr>\n",
       "      <th>6</th>\n",
       "      <td>2</td>\n",
       "      <td>1</td>\n",
       "      <td>-4.947412e-03</td>\n",
       "    </tr>\n",
       "    <tr>\n",
       "      <th>7</th>\n",
       "      <td>2</td>\n",
       "      <td>2</td>\n",
       "      <td>9.950648e-01</td>\n",
       "    </tr>\n",
       "    <tr>\n",
       "      <th>8</th>\n",
       "      <td>2</td>\n",
       "      <td>3</td>\n",
       "      <td>3.989843e-04</td>\n",
       "    </tr>\n",
       "    <tr>\n",
       "      <th>9</th>\n",
       "      <td>2</td>\n",
       "      <td>4</td>\n",
       "      <td>-1.240002e+01</td>\n",
       "    </tr>\n",
       "    <tr>\n",
       "      <th>10</th>\n",
       "      <td>2</td>\n",
       "      <td>6</td>\n",
       "      <td>-5.729407e-03</td>\n",
       "    </tr>\n",
       "    <tr>\n",
       "      <th>11</th>\n",
       "      <td>2</td>\n",
       "      <td>7</td>\n",
       "      <td>1.954618e+00</td>\n",
       "    </tr>\n",
       "    <tr>\n",
       "      <th>12</th>\n",
       "      <td>3</td>\n",
       "      <td>1</td>\n",
       "      <td>2.913130e-06</td>\n",
       "    </tr>\n",
       "    <tr>\n",
       "      <th>13</th>\n",
       "      <td>3</td>\n",
       "      <td>2</td>\n",
       "      <td>1.000003e+00</td>\n",
       "    </tr>\n",
       "    <tr>\n",
       "      <th>14</th>\n",
       "      <td>3</td>\n",
       "      <td>3</td>\n",
       "      <td>2.153759e-07</td>\n",
       "    </tr>\n",
       "    <tr>\n",
       "      <th>15</th>\n",
       "      <td>3</td>\n",
       "      <td>4</td>\n",
       "      <td>1.352579e+01</td>\n",
       "    </tr>\n",
       "    <tr>\n",
       "      <th>16</th>\n",
       "      <td>3</td>\n",
       "      <td>6</td>\n",
       "      <td>2.491001e-06</td>\n",
       "    </tr>\n",
       "    <tr>\n",
       "      <th>17</th>\n",
       "      <td>3</td>\n",
       "      <td>7</td>\n",
       "      <td>1.959967e+00</td>\n",
       "    </tr>\n",
       "    <tr>\n",
       "      <th>18</th>\n",
       "      <td>4</td>\n",
       "      <td>1</td>\n",
       "      <td>1.178451e-03</td>\n",
       "    </tr>\n",
       "    <tr>\n",
       "      <th>19</th>\n",
       "      <td>4</td>\n",
       "      <td>2</td>\n",
       "      <td>1.001179e+00</td>\n",
       "    </tr>\n",
       "    <tr>\n",
       "      <th>20</th>\n",
       "      <td>4</td>\n",
       "      <td>3</td>\n",
       "      <td>9.220133e-04</td>\n",
       "    </tr>\n",
       "    <tr>\n",
       "      <th>21</th>\n",
       "      <td>4</td>\n",
       "      <td>4</td>\n",
       "      <td>1.278128e+00</td>\n",
       "    </tr>\n",
       "    <tr>\n",
       "      <th>22</th>\n",
       "      <td>4</td>\n",
       "      <td>5</td>\n",
       "      <td>2.012041e-01</td>\n",
       "    </tr>\n",
       "    <tr>\n",
       "      <th>23</th>\n",
       "      <td>4</td>\n",
       "      <td>6</td>\n",
       "      <td>-6.286614e-04</td>\n",
       "    </tr>\n",
       "    <tr>\n",
       "      <th>24</th>\n",
       "      <td>4</td>\n",
       "      <td>7</td>\n",
       "      <td>1.960220e+00</td>\n",
       "    </tr>\n",
       "  </tbody>\n",
       "</table>\n",
       "</div>"
      ],
      "text/plain": [
       "    1  1.1  0.022689079727835924\n",
       "0   1    2          1.022948e+00\n",
       "1   1    3          8.840948e-03\n",
       "2   1    4          2.566363e+00\n",
       "3   1    5          1.027712e-02\n",
       "4   1    6          5.361141e-03\n",
       "5   1    7          1.973812e+00\n",
       "6   2    1         -4.947412e-03\n",
       "7   2    2          9.950648e-01\n",
       "8   2    3          3.989843e-04\n",
       "9   2    4         -1.240002e+01\n",
       "10  2    6         -5.729407e-03\n",
       "11  2    7          1.954618e+00\n",
       "12  3    1          2.913130e-06\n",
       "13  3    2          1.000003e+00\n",
       "14  3    3          2.153759e-07\n",
       "15  3    4          1.352579e+01\n",
       "16  3    6          2.491001e-06\n",
       "17  3    7          1.959967e+00\n",
       "18  4    1          1.178451e-03\n",
       "19  4    2          1.001179e+00\n",
       "20  4    3          9.220133e-04\n",
       "21  4    4          1.278128e+00\n",
       "22  4    5          2.012041e-01\n",
       "23  4    6         -6.286614e-04\n",
       "24  4    7          1.960220e+00"
      ]
     },
     "execution_count": 4,
     "metadata": {},
     "output_type": "execute_result"
    }
   ],
   "source": [
    "input_df"
   ]
  },
  {
   "cell_type": "code",
   "execution_count": null,
   "metadata": {
    "collapsed": true
   },
   "outputs": [],
   "source": []
  }
 ],
 "metadata": {
  "kernelspec": {
   "display_name": "Python 3",
   "language": "python",
   "name": "python3"
  },
  "language_info": {
   "codemirror_mode": {
    "name": "ipython",
    "version": 3
   },
   "file_extension": ".py",
   "mimetype": "text/x-python",
   "name": "python",
   "nbconvert_exporter": "python",
   "pygments_lexer": "ipython3",
   "version": "3.5.3"
  }
 },
 "nbformat": 4,
 "nbformat_minor": 2
}
